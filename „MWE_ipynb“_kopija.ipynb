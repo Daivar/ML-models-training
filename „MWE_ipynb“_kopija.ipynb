{
  "nbformat": 4,
  "nbformat_minor": 0,
  "metadata": {
    "colab": {
      "name": "„MWE.ipynb“ kopija",
      "provenance": [],
      "toc_visible": true,
      "authorship_tag": "ABX9TyM8NR0bCKaJL/dnV6Gz4Id0",
      "include_colab_link": true
    },
    "kernelspec": {
      "name": "python3",
      "display_name": "Python 3"
    },
    "language_info": {
      "name": "python"
    }
  },
  "cells": [
    {
      "cell_type": "markdown",
      "metadata": {
        "id": "view-in-github",
        "colab_type": "text"
      },
      "source": [
        "<a href=\"https://colab.research.google.com/github/Daivar/ML-models-training/blob/main/%E2%80%9EMWE_ipynb%E2%80%9C_kopija.ipynb\" target=\"_parent\"><img src=\"https://colab.research.google.com/assets/colab-badge.svg\" alt=\"Open In Colab\"/></a>"
      ]
    },
    {
      "cell_type": "markdown",
      "metadata": {
        "id": "8VsFG5Z_nvu_"
      },
      "source": [
        "# K-fold cross validation\n"
      ]
    },
    {
      "cell_type": "code",
      "metadata": {
        "colab": {
          "base_uri": "https://localhost:8080/"
        },
        "id": "LbH76Dz4nztv",
        "outputId": "d7ec49df-933f-4744-96f5-f21e8035a9e8"
      },
      "source": [
        "from sklearn.model_selection import train_test_split, KFold, cross_val_score\n",
        "\n",
        "dataset=range(16)\n",
        "list(dataset)\n",
        "KFCrossValidator = KFold(n_splits=4) #, shuffle=False\n",
        "KFdataset = KFCrossValidator.split(dataset)\n",
        "print('{} {:^50} {}'.format('Round', 'Training set', 'Testing set'))\n",
        "for iteration, data in enumerate(KFdataset, start=1):\n",
        "      print('{:^10} {} {:^30}'.format(iteration, data[0], str(data[1])))"
      ],
      "execution_count": 1,
      "outputs": [
        {
          "output_type": "stream",
          "name": "stdout",
          "text": [
            "Round                    Training set                    Testing set\n",
            "    1      [ 4  5  6  7  8  9 10 11 12 13 14 15]           [0 1 2 3]           \n",
            "    2      [ 0  1  2  3  8  9 10 11 12 13 14 15]           [4 5 6 7]           \n",
            "    3      [ 0  1  2  3  4  5  6  7 12 13 14 15]         [ 8  9 10 11]         \n",
            "    4      [ 0  1  2  3  4  5  6  7  8  9 10 11]         [12 13 14 15]         \n"
          ]
        }
      ]
    },
    {
      "cell_type": "markdown",
      "metadata": {
        "id": "bxfzha6pn25_"
      },
      "source": [
        "# Test/train split"
      ]
    },
    {
      "cell_type": "code",
      "metadata": {
        "colab": {
          "base_uri": "https://localhost:8080/"
        },
        "id": "1RV2bdGTn6bo",
        "outputId": "30101792-ee37-444e-de86-68ba1b1da572"
      },
      "source": [
        "import numpy as np\n",
        "\n",
        "def print_paired(p1, p2):\n",
        "  print(\"-----\")\n",
        "  for i in zip(p1, p2):\n",
        "    print(f'{i[0]} -> {i[1]}')\n",
        "\n",
        "X, y = np.arange(10).reshape((5, 2)), range(5)\n",
        "print_paired(X, y)\n",
        "\n",
        "X_train, X_test, y_train, y_test = train_test_split(X, y) # test_size=0.1, shuffle=False, random_state=42\n",
        "print_paired(X_train, y_train)\n",
        "print_paired(X_test, y_test)"
      ],
      "execution_count": 2,
      "outputs": [
        {
          "output_type": "stream",
          "name": "stdout",
          "text": [
            "-----\n",
            "[0 1] -> 0\n",
            "[2 3] -> 1\n",
            "[4 5] -> 2\n",
            "[6 7] -> 3\n",
            "[8 9] -> 4\n",
            "-----\n",
            "[2 3] -> 1\n",
            "[8 9] -> 4\n",
            "[0 1] -> 0\n",
            "-----\n",
            "[4 5] -> 2\n",
            "[6 7] -> 3\n"
          ]
        }
      ]
    },
    {
      "cell_type": "markdown",
      "metadata": {
        "id": "naotu6gGn-Fv"
      },
      "source": [
        "# Univariate linear regression"
      ]
    },
    {
      "cell_type": "code",
      "metadata": {
        "colab": {
          "base_uri": "https://localhost:8080/",
          "height": 578
        },
        "id": "LYaRQcsloHoP",
        "outputId": "306a4f30-1663-4487-a1a7-f5b38c67d48d"
      },
      "source": [
        "import numpy as np\n",
        "from sklearn.linear_model import LinearRegression\n",
        "import matplotlib.pyplot as plt\n",
        "import random\n",
        "\n",
        "def print_paired(p1, p2):\n",
        "  print(\"-----\")\n",
        "  for i in zip(p1, p2):\n",
        "    print(f'{i[0]} -> {i[1]}')\n",
        "\n",
        "# X = np.array([0, 1, 2, 3, 4, 5])\n",
        "X = np.arange(10)\n",
        "\n",
        "# no noise\n",
        "# y = np.dot(X, 2) + 3\n",
        "\n",
        "# with noise\n",
        "y = np.dot(X, 2)\n",
        "for i, y_val in enumerate(y):\n",
        "  y[i] += random.randint(0,5)\n",
        "\n",
        "print_paired(X, y)\n",
        "\n",
        "reg = LinearRegression().fit(X.reshape(-1, 1), y) # reshape to get the data into the form: [[1], [2]]\n",
        "\n",
        "plt.scatter(X, y, color='red', marker= '+', label= 'Training Data')\n",
        "plt.plot(X, reg.predict(np.arange(X.shape[0]).reshape(-1, 1)), color='green', label='Linear Regression')\n",
        "\n",
        "plt.rcParams[\"figure.figsize\"] = (10,6)\n",
        "plt.grid()\n",
        "plt.xlabel('X')\n",
        "plt.ylabel('Y')\n",
        "plt.title('Linear Regression Fit')\n",
        "plt.legend()\n",
        "\n",
        "print(\"===== metrics =====\")\n",
        "print(reg.score(X.reshape(-1, 1), y)) # r^2\n",
        "# ... to get the slope and y-intercept \n",
        "print(reg.coef_)\n",
        "print(reg.intercept_)\n",
        "print(f'f(x)={reg.coef_[0]}x+{reg.intercept_}')"
      ],
      "execution_count": 3,
      "outputs": [
        {
          "output_type": "stream",
          "name": "stdout",
          "text": [
            "-----\n",
            "0 -> 1\n",
            "1 -> 5\n",
            "2 -> 8\n",
            "3 -> 8\n",
            "4 -> 12\n",
            "5 -> 12\n",
            "6 -> 15\n",
            "7 -> 18\n",
            "8 -> 21\n",
            "9 -> 18\n",
            "===== metrics =====\n",
            "0.9408940894089409\n",
            "[2.03636364]\n",
            "2.6363636363636367\n",
            "f(x)=2.0363636363636366x+2.6363636363636367\n"
          ]
        },
        {
          "output_type": "display_data",
          "data": {
            "image/png": "[encoded data removed]",
            "text/plain": [
              "<Figure size 432x288 with 1 Axes>"
            ]
          },
          "metadata": {
            "needs_background": "light"
          }
        }
      ]
    }
  ]
}