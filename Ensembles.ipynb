{
  "nbformat": 4,
  "nbformat_minor": 0,
  "metadata": {
    "colab": {
      "name": "Ensembles.ipynb",
      "provenance": [],
      "authorship_tag": "ABX9TyMe+UW71rRFtt9a6rEeUf2r",
      "include_colab_link": true
    },
    "kernelspec": {
      "name": "python3",
      "display_name": "Python 3"
    },
    "language_info": {
      "name": "python"
    }
  },
  "cells": [
    {
      "cell_type": "markdown",
      "metadata": {
        "id": "view-in-github",
        "colab_type": "text"
      },
      "source": [
        "<a href=\"https://colab.research.google.com/github/Daivar/ML-models-training/blob/main/Ensembles.ipynb\" target=\"_parent\"><img src=\"https://colab.research.google.com/assets/colab-badge.svg\" alt=\"Open In Colab\"/></a>"
      ]
    },
    {
      "cell_type": "markdown",
      "metadata": {
        "id": "iHfC58JNiyUu"
      },
      "source": [
        "Ensemble learning, hard voting"
      ]
    },
    {
      "cell_type": "code",
      "metadata": {
        "colab": {
          "base_uri": "https://localhost:8080/"
        },
        "id": "flazgtWLi5Ty",
        "outputId": "af4d36a4-26ff-4b67-f247-84d72f349aaf"
      },
      "source": [
        "from sklearn.ensemble import RandomForestClassifier \n",
        "from sklearn.linear_model import LogisticRegression \n",
        "from sklearn.svm import SVC\n",
        "from sklearn.ensemble import VotingClassifier \n",
        "from sklearn.model_selection import train_test_split\n",
        "from sklearn.datasets import make_moons\n",
        "\n",
        "X, y = make_moons(n_samples=500, noise=0.30, random_state=42)\n",
        "X_train, X_test, y_train, y_test = train_test_split(X, y, random_state=42) \n",
        " \n",
        "# ... these are separatelly tunnable\n",
        "log_clf = LogisticRegression(solver=\"lbfgs\", random_state=42)\n",
        "rnd_clf = RandomForestClassifier(n_estimators=100, random_state=42)\n",
        "svm_clf = SVC(gamma=\"scale\", random_state=42)\n",
        "ensemble = [('lr', log_clf), ('rf', rnd_clf), ('svc', svm_clf)]\n",
        "voting_clf = VotingClassifier(estimators=ensemble, voting='hard') \n",
        "\n",
        "from sklearn.metrics import accuracy_score\n",
        "for clf in (log_clf, rnd_clf, svm_clf, voting_clf):\n",
        "    clf.fit(X_train, y_train)\n",
        "    y_pred = clf.predict(X_test)\n",
        "    print(clf.__class__.__name__, accuracy_score(y_test, y_pred))"
      ],
      "execution_count": null,
      "outputs": [
        {
          "output_type": "stream",
          "name": "stdout",
          "text": [
            "LogisticRegression 0.864\n",
            "RandomForestClassifier 0.896\n",
            "SVC 0.896\n",
            "VotingClassifier 0.912\n"
          ]
        }
      ]
    },
    {
      "cell_type": "code",
      "metadata": {
        "colab": {
          "base_uri": "https://localhost:8080/"
        },
        "id": "t-M6XaEQjQd6",
        "outputId": "5ee25e8f-4a5a-405e-9c70-fdc3f3decf8c"
      },
      "source": [
        "from sklearn.ensemble import RandomForestClassifier \n",
        "from sklearn.linear_model import LogisticRegression \n",
        "from sklearn.svm import SVC\n",
        "from sklearn.ensemble import VotingClassifier \n",
        "from sklearn.model_selection import train_test_split\n",
        "from sklearn.datasets import make_moons\n",
        "\n",
        "X, y = make_moons(n_samples=500, noise=0.10, random_state=42) # noise 0.1 (was 0.3)\n",
        "X_train, X_test, y_train, y_test = train_test_split(X, y, random_state=42) \n",
        " \n",
        "# ... these are separatelly tunnable\n",
        "log_clf = LogisticRegression(solver=\"lbfgs\", random_state=42)\n",
        "rnd_clf = RandomForestClassifier(n_estimators=100, random_state=42)\n",
        "svm_clf = SVC(gamma=\"scale\", random_state=42)\n",
        "ensemble = [('lr', log_clf), ('rf', rnd_clf), ('svc', svm_clf)]\n",
        "voting_clf = VotingClassifier(estimators=ensemble, voting='hard') \n",
        "\n",
        "from sklearn.metrics import accuracy_score\n",
        "for clf in (log_clf, rnd_clf, svm_clf, voting_clf):\n",
        "    clf.fit(X_train, y_train)\n",
        "    y_pred = clf.predict(X_test)\n",
        "    print(clf.__class__.__name__, accuracy_score(y_test, y_pred))"
      ],
      "execution_count": null,
      "outputs": [
        {
          "output_type": "stream",
          "name": "stdout",
          "text": [
            "LogisticRegression 0.864\n",
            "RandomForestClassifier 1.0\n",
            "SVC 1.0\n",
            "VotingClassifier 1.0\n"
          ]
        }
      ]
    },
    {
      "cell_type": "code",
      "metadata": {
        "colab": {
          "base_uri": "https://localhost:8080/"
        },
        "id": "5TK3wNNmjZp8",
        "outputId": "153a300e-8be6-4f30-be4e-27049f9fd34e"
      },
      "source": [
        "from sklearn.tree import DecisionTreeClassifier\n",
        " \n",
        "dt_clf = DecisionTreeClassifier(max_depth=3)\n",
        "dt_clf.fit(X_train, y_train)\n",
        "\n",
        "print(accuracy_score(y_test, dt_clf.predict(X_test)))"
      ],
      "execution_count": null,
      "outputs": [
        {
          "output_type": "stream",
          "name": "stdout",
          "text": [
            "0.904\n"
          ]
        }
      ]
    },
    {
      "cell_type": "code",
      "metadata": {
        "colab": {
          "base_uri": "https://localhost:8080/"
        },
        "id": "cYnDZWR_jg2E",
        "outputId": "1e3a6d45-8fa5-4f8e-b601-eaaa63d887dd"
      },
      "source": [
        "ensemble.append(('dt', dt_clf))\n",
        "\n",
        "print(ensemble)\n",
        "\n",
        "voting_clf = VotingClassifier(estimators=ensemble, voting='hard') \n",
        "voting_clf.fit(X_train, y_train)\n",
        "\n",
        "from sklearn.metrics import accuracy_score\n",
        "\n",
        "for _, clf in ensemble:\n",
        "    clf.fit(X_train, y_train)\n",
        "    y_pred = clf.predict(X_test)\n",
        "    print(clf.__class__.__name__, accuracy_score(y_test, y_pred))\n",
        "\n",
        "print(voting_clf.__class__.__name__, accuracy_score(y_test, voting_clf.predict(X_test)))"
      ],
      "execution_count": null,
      "outputs": [
        {
          "output_type": "stream",
          "name": "stdout",
          "text": [
            "[('lr', LogisticRegression(random_state=42)), ('rf', RandomForestClassifier(random_state=42)), ('svc', SVC(random_state=42)), ('dt', DecisionTreeClassifier(max_depth=3))]\n",
            "LogisticRegression 0.864\n",
            "RandomForestClassifier 1.0\n",
            "SVC 1.0\n",
            "DecisionTreeClassifier 0.904\n",
            "VotingClassifier 0.92\n"
          ]
        }
      ]
    },
    {
      "cell_type": "markdown",
      "metadata": {
        "id": "4EV4yi-Sk4yt"
      },
      "source": [
        "without logistic regression(without weekest clasiffier): "
      ]
    },
    {
      "cell_type": "code",
      "metadata": {
        "colab": {
          "base_uri": "https://localhost:8080/"
        },
        "id": "KJOM5iZSj67z",
        "outputId": "755627d2-f3d4-4990-a940-5e704e008764"
      },
      "source": [
        "from sklearn.ensemble import RandomForestClassifier \n",
        "from sklearn.linear_model import LogisticRegression \n",
        "from sklearn.svm import SVC\n",
        "from sklearn.ensemble import VotingClassifier \n",
        "from sklearn.model_selection import train_test_split\n",
        "from sklearn.datasets import make_moons\n",
        "\n",
        "X, y = make_moons(n_samples=500, noise=0.10, random_state=42) # noise 0.1 (was 0.3)\n",
        "X_train, X_test, y_train, y_test = train_test_split(X, y, random_state=42) \n",
        " \n",
        "# ... these are separatelly tunnable\n",
        "# log_clf = LogisticRegression(solver=\"lbfgs\", random_state=42)\n",
        "rnd_clf = RandomForestClassifier(n_estimators=100, random_state=42)\n",
        "svm_clf = SVC(gamma=\"scale\", random_state=42)\n",
        "ensemble = [('rf', rnd_clf), ('svc', svm_clf)]\n",
        "voting_clf = VotingClassifier(estimators=ensemble, voting='hard') \n",
        "\n",
        "from sklearn.metrics import accuracy_score\n",
        "for clf in (rnd_clf, svm_clf, voting_clf):\n",
        "    clf.fit(X_train, y_train)\n",
        "    y_pred = clf.predict(X_test)\n",
        "    print(clf.__class__.__name__, accuracy_score(y_test, y_pred))"
      ],
      "execution_count": null,
      "outputs": [
        {
          "output_type": "stream",
          "name": "stdout",
          "text": [
            "RandomForestClassifier 1.0\n",
            "SVC 1.0\n",
            "VotingClassifier 1.0\n"
          ]
        }
      ]
    },
    {
      "cell_type": "code",
      "metadata": {
        "colab": {
          "base_uri": "https://localhost:8080/"
        },
        "id": "AY86K3wyjpG0",
        "outputId": "bccd39ce-316f-47be-d758-099d7152aade"
      },
      "source": [
        "ensemble.append(('dt', dt_clf))\n",
        "\n",
        "print(ensemble)\n",
        "\n",
        "voting_clf = VotingClassifier(estimators=ensemble, voting='hard') \n",
        "voting_clf.fit(X_train, y_train)\n",
        "\n",
        "from sklearn.metrics import accuracy_score\n",
        "\n",
        "for _, clf in ensemble:\n",
        "    clf.fit(X_train, y_train)\n",
        "    y_pred = clf.predict(X_test)\n",
        "    print(clf.__class__.__name__, accuracy_score(y_test, y_pred))\n",
        "\n",
        "print(voting_clf.__class__.__name__, accuracy_score(y_test, voting_clf.predict(X_test)))"
      ],
      "execution_count": null,
      "outputs": [
        {
          "output_type": "stream",
          "name": "stdout",
          "text": [
            "[('rf', RandomForestClassifier(random_state=42)), ('svc', SVC(random_state=42)), ('dt', DecisionTreeClassifier(max_depth=3))]\n",
            "RandomForestClassifier 1.0\n",
            "SVC 1.0\n",
            "DecisionTreeClassifier 0.904\n",
            "VotingClassifier 1.0\n"
          ]
        }
      ]
    },
    {
      "cell_type": "markdown",
      "metadata": {
        "id": "g_K7ZruvmqrF"
      },
      "source": [
        "### Soft voting"
      ]
    },
    {
      "cell_type": "code",
      "metadata": {
        "colab": {
          "base_uri": "https://localhost:8080/"
        },
        "id": "AlyuqHG3mvta",
        "outputId": "a9455c4d-80e0-4bd3-cc7e-974df34fec42"
      },
      "source": [
        "from sklearn.ensemble import RandomForestClassifier \n",
        "from sklearn.ensemble import VotingClassifier \n",
        "from sklearn.linear_model import LogisticRegression \n",
        "from sklearn.svm import SVC\n",
        "from sklearn.model_selection import train_test_split\n",
        "from sklearn.datasets import make_moons\n",
        "\n",
        "X, y = make_moons(n_samples=500, noise=0.30, random_state=42)\n",
        "X_train, X_test, y_train, y_test = train_test_split(X, y, random_state=42) \n",
        " \n",
        "dt_clf = DecisionTreeClassifier(max_depth=3)\n",
        "rnd_clf = RandomForestClassifier(n_estimators=100, random_state=42)\n",
        "svm_clf = SVC(gamma=\"scale\", probability=True, random_state=42, C=50)\n",
        "ensemble = [('lr', log_clf), ('rf', rnd_clf), ('svc', svm_clf)]\n",
        " \n",
        "voting_clf = VotingClassifier(estimators=ensemble, voting='soft') \n",
        "voting_clf.fit(X_train, y_train)\n",
        "\n",
        "from sklearn.metrics import accuracy_score\n",
        "\n",
        "for clf in (dt_clf, rnd_clf, svm_clf, voting_clf):\n",
        "    clf.fit(X_train, y_train)\n",
        "    y_pred = clf.predict(X_test)\n",
        "    print(clf.__class__.__name__, accuracy_score(y_test, y_pred))"
      ],
      "execution_count": null,
      "outputs": [
        {
          "output_type": "stream",
          "name": "stdout",
          "text": [
            "DecisionTreeClassifier 0.896\n",
            "RandomForestClassifier 0.896\n",
            "SVC 0.888\n",
            "VotingClassifier 0.912\n"
          ]
        }
      ]
    },
    {
      "cell_type": "markdown",
      "metadata": {
        "id": "mmEcqdMJnov7"
      },
      "source": [
        "### Bagging and Pasting in Scikit"
      ]
    },
    {
      "cell_type": "code",
      "metadata": {
        "colab": {
          "base_uri": "https://localhost:8080/"
        },
        "id": "ZwwbWallntzE",
        "outputId": "dace818e-3b05-48fe-ba17-43ef8bade1b4"
      },
      "source": [
        "from sklearn.ensemble import BaggingClassifier \n",
        "from sklearn.tree import DecisionTreeClassifier \n",
        "from sklearn.datasets import make_moons\n",
        "\n",
        "X, y = make_moons(n_samples=500, noise=0.30, random_state=42)\n",
        "X_train, X_test, y_train, y_test = train_test_split(X, y, random_state=42) \n",
        " \n",
        "dtc = DecisionTreeClassifier(max_depth=4)\n",
        "bag_clf = BaggingClassifier(dtc, n_estimators=1000, max_samples=100, bootstrap=True, n_jobs=-1) # n_jobs=-1 treniruosis ant visų branduolių\n",
        "bag_clf.fit(X_train, y_train) \n",
        "y_pred = bag_clf.predict(X_test)\n",
        "\n",
        "from sklearn.metrics import accuracy_score\n",
        "print(accuracy_score(y_test, y_pred))"
      ],
      "execution_count": null,
      "outputs": [
        {
          "output_type": "stream",
          "name": "stdout",
          "text": [
            "0.904\n"
          ]
        }
      ]
    },
    {
      "cell_type": "code",
      "metadata": {
        "colab": {
          "base_uri": "https://localhost:8080/"
        },
        "id": "Y4s5I1JNovcQ",
        "outputId": "aaf7435b-fa26-48aa-b9b1-11b123750ee0"
      },
      "source": [
        "from sklearn.ensemble import BaggingClassifier \n",
        "from sklearn.tree import DecisionTreeClassifier \n",
        "from sklearn.datasets import make_moons\n",
        "\n",
        "X, y = make_moons(n_samples=500, noise=0.30, random_state=42)\n",
        "X_train, X_test, y_train, y_test = train_test_split(X, y, random_state=42) \n",
        " \n",
        "dtc = DecisionTreeClassifier(max_depth=5) #max_depth=5\n",
        "bag_clf = BaggingClassifier(dtc, n_estimators=1000, max_samples=300, bootstrap=True, n_jobs=-1) # samples - 300\n",
        "bag_clf.fit(X_train, y_train) \n",
        "y_pred = bag_clf.predict(X_test)\n",
        "\n",
        "from sklearn.metrics import accuracy_score\n",
        "print(accuracy_score(y_test, y_pred))"
      ],
      "execution_count": null,
      "outputs": [
        {
          "output_type": "stream",
          "name": "stdout",
          "text": [
            "0.912\n"
          ]
        }
      ]
    },
    {
      "cell_type": "code",
      "metadata": {
        "colab": {
          "base_uri": "https://localhost:8080/"
        },
        "id": "nbLnejQdpcnW",
        "outputId": "251c4ce1-cd55-48e4-c28c-fa2d75c54e66"
      },
      "source": [
        "from sklearn.ensemble import BaggingClassifier \n",
        "from sklearn.tree import DecisionTreeClassifier \n",
        "from sklearn.datasets import make_moons\n",
        "\n",
        "X, y = make_moons(n_samples=500, noise=0.30, random_state=42)\n",
        "X_train, X_test, y_train, y_test = train_test_split(X, y, random_state=42) \n",
        " \n",
        "dtc = DecisionTreeClassifier(max_depth=5) #max_depth=5\n",
        "bag_clf = BaggingClassifier(dtc, n_estimators=1000, max_samples=300, bootstrap=False, n_jobs=-1) # bootstrap = True veikia geriau\n",
        "bag_clf.fit(X_train, y_train) \n",
        "y_pred = bag_clf.predict(X_test)\n",
        "\n",
        "from sklearn.metrics import accuracy_score\n",
        "print(accuracy_score(y_test, y_pred))"
      ],
      "execution_count": null,
      "outputs": [
        {
          "output_type": "stream",
          "name": "stdout",
          "text": [
            "0.888\n"
          ]
        }
      ]
    },
    {
      "cell_type": "code",
      "metadata": {
        "colab": {
          "base_uri": "https://localhost:8080/",
          "height": 400
        },
        "id": "ZrPegxKooBC2",
        "outputId": "682caae1-b185-4d1f-8566-e5ffa70e910c"
      },
      "source": [
        "# ref: https://github.com/ageron/handson-ml2/blob/master/06_decision_trees.ipynb\n",
        "\n",
        "import matplotlib.pyplot as plt\n",
        "from matplotlib.colors import ListedColormap\n",
        "import numpy as np\n",
        "\n",
        "# TODO :: add the ability to plot decision boundaries based on unbounded number of features\n",
        "def plot_decision_boundary(clf, X, y, axes=[-1.5, 2.45, -1, 1.5], alpha=0.5, contour=True):\n",
        "    x1s = np.linspace(axes[0], axes[1], 100)\n",
        "    x2s = np.linspace(axes[2], axes[3], 100)\n",
        "    x1, x2 = np.meshgrid(x1s, x2s)\n",
        "    X_new = np.c_[x1.ravel(), x2.ravel()]\n",
        "    y_pred = clf.predict(X_new).reshape(x1.shape)\n",
        "    custom_cmap = ListedColormap(['#fafab0','#9898ff','#a0faa0'])\n",
        "    plt.contourf(x1, x2, y_pred, alpha=0.3, cmap=custom_cmap)\n",
        "    if contour:\n",
        "        custom_cmap2 = ListedColormap(['#7d7d58','#4c4c7f','#507d50'])\n",
        "        plt.contour(x1, x2, y_pred, cmap=custom_cmap2, alpha=0.8)\n",
        "    plt.plot(X[:, 0][y==0], X[:, 1][y==0], \"yo\", alpha=alpha)\n",
        "    plt.plot(X[:, 0][y==1], X[:, 1][y==1], \"bs\", alpha=alpha)\n",
        "    plt.axis(axes)\n",
        "    plt.xlabel(r\"$x_1$\", fontsize=18)\n",
        "    plt.ylabel(r\"$x_2$\", fontsize=18, rotation=0)\n",
        "\n",
        "plt.figure(figsize=(12, 6))\n",
        "plot_decision_boundary(bag_clf, X, y)\n",
        "plt.show()"
      ],
      "execution_count": null,
      "outputs": [
        {
          "output_type": "display_data",
          "data": {
            "image/png": "[encoded data removed]",
            "text/plain": [
              "<Figure size 864x432 with 1 Axes>"
            ]
          },
          "metadata": {
            "needs_background": "light"
          }
        }
      ]
    },
    {
      "cell_type": "markdown",
      "metadata": {
        "id": "ttkZ5-8DqmHA"
      },
      "source": [
        "### OOB"
      ]
    },
    {
      "cell_type": "code",
      "metadata": {
        "colab": {
          "base_uri": "https://localhost:8080/"
        },
        "id": "hJPPm9Ump5-l",
        "outputId": "bac96b1e-66a9-468c-e33b-bc1f5075579e"
      },
      "source": [
        "from sklearn.ensemble import BaggingClassifier \n",
        "from sklearn.tree import DecisionTreeClassifier \n",
        "from sklearn.datasets import make_moons\n",
        "\n",
        "X, y = make_moons(n_samples=500, noise=0.30, random_state=42)\n",
        "\n",
        "dtc = DecisionTreeClassifier(max_depth=4)\n",
        "bag_clf = BaggingClassifier(dtc, n_estimators=1000, max_samples=100, bootstrap=True, n_jobs=-1, oob_score=True) \n",
        "bag_clf.fit(X, y) \n",
        "y_pred = bag_clf.predict(X)\n",
        "\n",
        "from sklearn.metrics import accuracy_score\n",
        "print(accuracy_score(y, y_pred))\n",
        "print(bag_clf.oob_score_)"
      ],
      "execution_count": null,
      "outputs": [
        {
          "output_type": "stream",
          "name": "stdout",
          "text": [
            "0.91\n",
            "0.886\n"
          ]
        }
      ]
    },
    {
      "cell_type": "markdown",
      "metadata": {
        "id": "lEwhOPOrSO1d"
      },
      "source": [
        "Random Forerests"
      ]
    },
    {
      "cell_type": "code",
      "metadata": {
        "colab": {
          "base_uri": "https://localhost:8080/"
        },
        "id": "qf6Yf74MSMBA",
        "outputId": "ce369a49-51ec-43ac-b2ef-cd8c75dd71f2"
      },
      "source": [
        "from sklearn.ensemble import RandomForestClassifier\n",
        "from sklearn.model_selection import train_test_split\n",
        "from sklearn.datasets import make_moons\n",
        "import numpy as np\n",
        "\n",
        "X, y = make_moons(n_samples=500, noise=0.30, random_state=42)\n",
        "X_train, X_test, y_train, y_test = train_test_split(X, y, random_state=42) \n",
        "\n",
        "rnd_clf = RandomForestClassifier(n_estimators=500, max_leaf_nodes=16, random_state=42)\n",
        "rnd_clf.fit(X_train, y_train)\n",
        "y_pred_rf = rnd_clf.predict(X_test)\n",
        "\n",
        "bag_clf = BaggingClassifier(\n",
        "    DecisionTreeClassifier(max_features=\"sqrt\", max_leaf_nodes=16),\n",
        "    n_estimators=500, random_state=42)\n",
        "\n",
        "bag_clf.fit(X_train, y_train)\n",
        "y_pred = bag_clf.predict(X_test)\n",
        "\n",
        "np.sum(y_pred == y_pred_rf) / len(y_pred)  # very similar predictions\n"
      ],
      "execution_count": null,
      "outputs": [
        {
          "output_type": "execute_result",
          "data": {
            "text/plain": [
              "1.0"
            ]
          },
          "metadata": {},
          "execution_count": 12
        }
      ]
    },
    {
      "cell_type": "code",
      "metadata": {
        "colab": {
          "base_uri": "https://localhost:8080/"
        },
        "id": "tFnmZ4K5SxaC",
        "outputId": "b49b9037-0bf9-4536-85a9-e4bb0b18fa25"
      },
      "source": [
        "from sklearn.ensemble import RandomForestClassifier, BaggingClassifier\n",
        "from sklearn.tree import DecisionTreeClassifier\n",
        "from sklearn.model_selection import train_test_split\n",
        "from sklearn.datasets import make_moons\n",
        "import numpy as np\n",
        "\n",
        "X, y = make_moons(n_samples=500, noise=0.30, random_state=42)\n",
        "X_train, X_test, y_train, y_test = train_test_split(X, y, random_state=42) \n",
        "\n",
        "rnd_clf = RandomForestClassifier(n_estimators=500, max_leaf_nodes=16, random_state=42)\n",
        "rnd_clf.fit(X_train, y_train)\n",
        "y_pred_rf = rnd_clf.predict(X_test)\n",
        "\n",
        "bag_clf = BaggingClassifier(\n",
        "    DecisionTreeClassifier(max_features=\"sqrt\", max_leaf_nodes=16),\n",
        "    n_estimators=500, random_state=42)\n",
        "\n",
        "bag_clf.fit(X_train, y_train)\n",
        "y_pred = bag_clf.predict(X_test)\n",
        "\n",
        "np.sum(y_pred == y_pred_rf) / len(y_pred)  # very similar predictions\n",
        "\n",
        "\n",
        "from sklearn.metrics import accuracy_score\n",
        "print(accuracy_score(y_test, y_pred_rf))\n",
        "print(accuracy_score(y_test, y_pred))"
      ],
      "execution_count": null,
      "outputs": [
        {
          "output_type": "stream",
          "name": "stdout",
          "text": [
            "0.912\n",
            "0.912\n"
          ]
        }
      ]
    },
    {
      "cell_type": "code",
      "metadata": {
        "colab": {
          "base_uri": "https://localhost:8080/"
        },
        "id": "PSB3e0TGUEcB",
        "outputId": "9060b227-9269-4cdf-a249-8b42b56ab5b5"
      },
      "source": [
        "from sklearn.ensemble import RandomForestClassifier, BaggingClassifier\n",
        "from sklearn.tree import DecisionTreeClassifier\n",
        "from sklearn.model_selection import train_test_split\n",
        "from sklearn.datasets import make_moons\n",
        "from sklearn.metrics import accuracy_score\n",
        "import numpy as np\n",
        "\n",
        "X, y = make_moons(n_samples=1000, noise=0.10, random_state=42)\n",
        "X_train, X_test, y_train, y_test = train_test_split(X, y, random_state=42) \n",
        "\n",
        "rnd_clf = RandomForestClassifier(n_estimators=1000, max_leaf_nodes=6, random_state=42)\n",
        "rnd_clf.fit(X_train, y_train)\n",
        "y_pred_rf = rnd_clf.predict(X_test)\n",
        "\n",
        "bag_clf = BaggingClassifier(\n",
        "    DecisionTreeClassifier(max_features=\"sqrt\", max_leaf_nodes=16),\n",
        "    n_estimators=500, random_state=42)\n",
        "\n",
        "bag_clf.fit(X_train, y_train)\n",
        "y_pred = bag_clf.predict(X_test)\n",
        "\n",
        "np.sum(y_pred == y_pred_rf) / len(y_pred)  # very similar predictions\n",
        "\n",
        "\n",
        "print(accuracy_score(y_test, y_pred_rf))\n",
        "print(accuracy_score(y_test, y_pred))"
      ],
      "execution_count": null,
      "outputs": [
        {
          "output_type": "stream",
          "name": "stdout",
          "text": [
            "0.992\n",
            "1.0\n"
          ]
        }
      ]
    },
    {
      "cell_type": "code",
      "metadata": {
        "colab": {
          "base_uri": "https://localhost:8080/",
          "height": 326
        },
        "id": "YL5MzpXSYvSy",
        "outputId": "10571eee-6fa3-4973-a6d7-840d3ddbe424"
      },
      "source": [
        "from sklearn.ensemble import RandomForestClassifier, ExtraTreesClassifier\n",
        "from sklearn.tree import DecisionTreeClassifier\n",
        "from sklearn.model_selection import train_test_split\n",
        "from sklearn.datasets import make_moons\n",
        "import numpy as np\n",
        "from sklearn.metrics import accuracy_score\n",
        "import pandas as pd\n",
        "\n",
        "\n",
        "def train_score_model(x, y, **kwargs):\n",
        "  x_train, x_test, y_train, y_test = train_test_split(x, y, random_state=10, test_size=0.2)\n",
        "  clf = ExtraTreesClassifier(**kwargs) # n_estimators=500, max_leaf_nodes=16, random_state=42, n_jobs=-1\n",
        "  clf.fit(x_train, y_train)\n",
        "  return accuracy_score(y_test, clf.predict(x_test))\n",
        "\n",
        "max_score = 0\n",
        "best_estimator = 100\n",
        "\n",
        "df = pd.DataFrame(columns=['max_score', 'estimator'])\n",
        "\n",
        "for i in range(100, 1000, 100):\n",
        "  score = train_score_model(X, y, n_estimators=i, max_leaf_nodes=16, random_state=10, n_jobs=-1)\n",
        "  df = df.append({'max_score': score, 'estimator': i}, ignore_index=True)\n",
        "  if score > max_score:\n",
        "    max_score = score\n",
        "    best_estimator = i\n",
        "df"
      ],
      "execution_count": null,
      "outputs": [
        {
          "output_type": "execute_result",
          "data": {
            "text/html": [
              "<div>\n",
              "<style scoped>\n",
              "    .dataframe tbody tr th:only-of-type {\n",
              "        vertical-align: middle;\n",
              "    }\n",
              "\n",
              "    .dataframe tbody tr th {\n",
              "        vertical-align: top;\n",
              "    }\n",
              "\n",
              "    .dataframe thead th {\n",
              "        text-align: right;\n",
              "    }\n",
              "</style>\n",
              "<table border=\"1\" class=\"dataframe\">\n",
              "  <thead>\n",
              "    <tr style=\"text-align: right;\">\n",
              "      <th></th>\n",
              "      <th>max_score</th>\n",
              "      <th>estimator</th>\n",
              "    </tr>\n",
              "  </thead>\n",
              "  <tbody>\n",
              "    <tr>\n",
              "      <th>0</th>\n",
              "      <td>0.995</td>\n",
              "      <td>100.0</td>\n",
              "    </tr>\n",
              "    <tr>\n",
              "      <th>1</th>\n",
              "      <td>0.995</td>\n",
              "      <td>200.0</td>\n",
              "    </tr>\n",
              "    <tr>\n",
              "      <th>2</th>\n",
              "      <td>0.995</td>\n",
              "      <td>300.0</td>\n",
              "    </tr>\n",
              "    <tr>\n",
              "      <th>3</th>\n",
              "      <td>0.995</td>\n",
              "      <td>400.0</td>\n",
              "    </tr>\n",
              "    <tr>\n",
              "      <th>4</th>\n",
              "      <td>0.995</td>\n",
              "      <td>500.0</td>\n",
              "    </tr>\n",
              "    <tr>\n",
              "      <th>5</th>\n",
              "      <td>0.995</td>\n",
              "      <td>600.0</td>\n",
              "    </tr>\n",
              "    <tr>\n",
              "      <th>6</th>\n",
              "      <td>0.995</td>\n",
              "      <td>700.0</td>\n",
              "    </tr>\n",
              "    <tr>\n",
              "      <th>7</th>\n",
              "      <td>0.995</td>\n",
              "      <td>800.0</td>\n",
              "    </tr>\n",
              "    <tr>\n",
              "      <th>8</th>\n",
              "      <td>0.995</td>\n",
              "      <td>900.0</td>\n",
              "    </tr>\n",
              "  </tbody>\n",
              "</table>\n",
              "</div>"
            ],
            "text/plain": [
              "   max_score  estimator\n",
              "0      0.995      100.0\n",
              "1      0.995      200.0\n",
              "2      0.995      300.0\n",
              "3      0.995      400.0\n",
              "4      0.995      500.0\n",
              "5      0.995      600.0\n",
              "6      0.995      700.0\n",
              "7      0.995      800.0\n",
              "8      0.995      900.0"
            ]
          },
          "metadata": {},
          "execution_count": 32
        }
      ]
    },
    {
      "cell_type": "code",
      "metadata": {
        "colab": {
          "base_uri": "https://localhost:8080/"
        },
        "id": "llsQYY_tZs8J",
        "outputId": "25180f79-34e9-4681-de3c-983d0c825b8e"
      },
      "source": [
        "from sklearn.ensemble import RandomForestClassifier, ExtraTreesClassifier\n",
        "from sklearn.tree import DecisionTreeClassifier\n",
        "from sklearn.model_selection import train_test_split\n",
        "from sklearn.datasets import make_moons\n",
        "from sklearn.metrics import accuracy_score\n",
        "import numpy as np\n",
        "\n",
        "def compare_models_accuracy(x, y, params):\n",
        "  X_train, X_test, y_train, y_test = train_test_split(X, y, random_state=42) \n",
        "\n",
        "  rnd_clf = RandomForestClassifier(**params)\n",
        "  rnd_clf.fit(X_train, y_train)\n",
        "  y_pred_rf = rnd_clf.predict(X_test)\n",
        "\n",
        "  ext_clf = ExtraTreesClassifier(**params)\n",
        "  ext_clf.fit(X_train, y_train)\n",
        "  y_pred_ext = ext_clf.predict(X_test)\n",
        "\n",
        "  #np.sum(y_pred_ext == y_pred_rf) / len(y_test)  # very similar predictions\n",
        "\n",
        "  return accuracy_score(y_test, y_pred_rf), accuracy_score(y_test, y_pred_ext)\n",
        "\n",
        "X, y = make_moons(n_samples=500, noise=0.30, random_state=42)\n",
        "\n",
        "print('--- n_estimators 50 to 500: ----- ')\n",
        "for i in range(1, 11):\n",
        "  print(50 * i, ' => ', compare_models_accuracy(X, y, {'n_estimators': 50 * i, 'random_state': 42, 'max_leaf_nodes': 16}))\n",
        "\n",
        "print('\\n--- max_leaf_nodes 2 to 20: ----- ')\n",
        "for i in range(2, 21):\n",
        "  print(i, ' => ', compare_models_accuracy(X, y, {'n_estimators': 500, 'random_state': 42, 'max_leaf_nodes': i}))\n",
        "\n",
        "print('\\n--- max_features \"sqrt\", \"log2\": ----- ')\n",
        "for mf in ['sqrt', 'log2']:\n",
        "  print(mf, ' => ', compare_models_accuracy(X, y, {'n_estimators': 500, 'random_state': 42, 'max_leaf_nodes': i, 'max_features': mf}))"
      ],
      "execution_count": null,
      "outputs": [
        {
          "output_type": "stream",
          "name": "stdout",
          "text": [
            "--- n_estimators 50 to 500: ----- \n",
            "50  =>  (0.92, 0.904)\n",
            "100  =>  (0.928, 0.92)\n",
            "150  =>  (0.928, 0.92)\n",
            "200  =>  (0.912, 0.912)\n",
            "250  =>  (0.912, 0.912)\n",
            "300  =>  (0.912, 0.912)\n",
            "350  =>  (0.912, 0.912)\n",
            "400  =>  (0.904, 0.912)\n",
            "450  =>  (0.912, 0.912)\n",
            "500  =>  (0.912, 0.912)\n",
            "\n",
            "--- max_leaf_nodes 2 to 20: ----- \n",
            "2  =>  (0.816, 0.856)\n",
            "3  =>  (0.88, 0.864)\n",
            "4  =>  (0.872, 0.864)\n",
            "5  =>  (0.88, 0.872)\n",
            "6  =>  (0.92, 0.872)\n",
            "7  =>  (0.92, 0.88)\n",
            "8  =>  (0.912, 0.88)\n",
            "9  =>  (0.912, 0.872)\n",
            "10  =>  (0.92, 0.88)\n",
            "11  =>  (0.92, 0.88)\n",
            "12  =>  (0.92, 0.896)\n",
            "13  =>  (0.92, 0.896)\n",
            "14  =>  (0.912, 0.912)\n",
            "15  =>  (0.912, 0.912)\n",
            "16  =>  (0.912, 0.912)\n",
            "17  =>  (0.904, 0.912)\n",
            "18  =>  (0.896, 0.912)\n",
            "19  =>  (0.896, 0.912)\n",
            "20  =>  (0.896, 0.912)\n",
            "\n",
            "--- max_features \"sqrt\", \"log2\": ----- \n",
            "sqrt  =>  (0.896, 0.912)\n",
            "log2  =>  (0.896, 0.912)\n"
          ]
        }
      ]
    },
    {
      "cell_type": "code",
      "metadata": {
        "colab": {
          "base_uri": "https://localhost:8080/",
          "height": 357
        },
        "id": "aFuYy7NoZ8mL",
        "outputId": "71f0853d-c682-440f-e803-b057edf5dcb4"
      },
      "source": [
        "from sklearn.ensemble import RandomForestClassifier, ExtraTreesClassifier\n",
        "from sklearn.tree import DecisionTreeClassifier\n",
        "from sklearn.model_selection import train_test_split\n",
        "from sklearn.datasets import make_moons\n",
        "import numpy as np\n",
        "from sklearn.metrics import accuracy_score\n",
        "import pandas as pd\n",
        "\n",
        "X, y = make_moons(n_samples=500, noise=0.30, random_state=42)\n",
        "\n",
        "def train_score_model(x, y, **kwargs):\n",
        "  x_train, x_test, y_train, y_test = train_test_split(x, y, random_state=10, test_size=0.2)\n",
        "  et_clf = ExtraTreesClassifier(**kwargs) # n_estimators=500, max_leaf_nodes=16, random_state=42, n_jobs=-1\n",
        "  et_clf.fit(x_train, y_train)\n",
        "  rf_clt = RandomForestClassifier(**kwargs) # n_estimators=500, max_leaf_nodes=16, random_state=42, n_jobs=-1\n",
        "  rf_clt.fit(x_train, y_train)\n",
        "  return accuracy_score(y_test, et_clf.predict(x_test)), accuracy_score(y_test, rf_clt.predict(x_test))\n",
        "\n",
        "df = pd.DataFrame(columns=['score', 'estimator'])\n",
        "\n",
        "for i in range(10, 500, 50):\n",
        "  score_et, score_rf = train_score_model(X, y, n_estimators=i, max_leaf_nodes=16, random_state=10, n_jobs=-1)\n",
        "  df = df.append({'estimator': i, 'score_et': score_et, 'score_rf': score_rf}, ignore_index=True)\n",
        "\n",
        "df"
      ],
      "execution_count": null,
      "outputs": [
        {
          "output_type": "execute_result",
          "data": {
            "text/html": [
              "<div>\n",
              "<style scoped>\n",
              "    .dataframe tbody tr th:only-of-type {\n",
              "        vertical-align: middle;\n",
              "    }\n",
              "\n",
              "    .dataframe tbody tr th {\n",
              "        vertical-align: top;\n",
              "    }\n",
              "\n",
              "    .dataframe thead th {\n",
              "        text-align: right;\n",
              "    }\n",
              "</style>\n",
              "<table border=\"1\" class=\"dataframe\">\n",
              "  <thead>\n",
              "    <tr style=\"text-align: right;\">\n",
              "      <th></th>\n",
              "      <th>score</th>\n",
              "      <th>estimator</th>\n",
              "      <th>score_et</th>\n",
              "      <th>score_rf</th>\n",
              "    </tr>\n",
              "  </thead>\n",
              "  <tbody>\n",
              "    <tr>\n",
              "      <th>0</th>\n",
              "      <td>NaN</td>\n",
              "      <td>10.0</td>\n",
              "      <td>0.88</td>\n",
              "      <td>0.94</td>\n",
              "    </tr>\n",
              "    <tr>\n",
              "      <th>1</th>\n",
              "      <td>NaN</td>\n",
              "      <td>60.0</td>\n",
              "      <td>0.89</td>\n",
              "      <td>0.94</td>\n",
              "    </tr>\n",
              "    <tr>\n",
              "      <th>2</th>\n",
              "      <td>NaN</td>\n",
              "      <td>110.0</td>\n",
              "      <td>0.90</td>\n",
              "      <td>0.95</td>\n",
              "    </tr>\n",
              "    <tr>\n",
              "      <th>3</th>\n",
              "      <td>NaN</td>\n",
              "      <td>160.0</td>\n",
              "      <td>0.90</td>\n",
              "      <td>0.94</td>\n",
              "    </tr>\n",
              "    <tr>\n",
              "      <th>4</th>\n",
              "      <td>NaN</td>\n",
              "      <td>210.0</td>\n",
              "      <td>0.89</td>\n",
              "      <td>0.93</td>\n",
              "    </tr>\n",
              "    <tr>\n",
              "      <th>5</th>\n",
              "      <td>NaN</td>\n",
              "      <td>260.0</td>\n",
              "      <td>0.90</td>\n",
              "      <td>0.93</td>\n",
              "    </tr>\n",
              "    <tr>\n",
              "      <th>6</th>\n",
              "      <td>NaN</td>\n",
              "      <td>310.0</td>\n",
              "      <td>0.90</td>\n",
              "      <td>0.93</td>\n",
              "    </tr>\n",
              "    <tr>\n",
              "      <th>7</th>\n",
              "      <td>NaN</td>\n",
              "      <td>360.0</td>\n",
              "      <td>0.90</td>\n",
              "      <td>0.93</td>\n",
              "    </tr>\n",
              "    <tr>\n",
              "      <th>8</th>\n",
              "      <td>NaN</td>\n",
              "      <td>410.0</td>\n",
              "      <td>0.90</td>\n",
              "      <td>0.93</td>\n",
              "    </tr>\n",
              "    <tr>\n",
              "      <th>9</th>\n",
              "      <td>NaN</td>\n",
              "      <td>460.0</td>\n",
              "      <td>0.90</td>\n",
              "      <td>0.93</td>\n",
              "    </tr>\n",
              "  </tbody>\n",
              "</table>\n",
              "</div>"
            ],
            "text/plain": [
              "   score  estimator  score_et  score_rf\n",
              "0    NaN       10.0      0.88      0.94\n",
              "1    NaN       60.0      0.89      0.94\n",
              "2    NaN      110.0      0.90      0.95\n",
              "3    NaN      160.0      0.90      0.94\n",
              "4    NaN      210.0      0.89      0.93\n",
              "5    NaN      260.0      0.90      0.93\n",
              "6    NaN      310.0      0.90      0.93\n",
              "7    NaN      360.0      0.90      0.93\n",
              "8    NaN      410.0      0.90      0.93\n",
              "9    NaN      460.0      0.90      0.93"
            ]
          },
          "metadata": {},
          "execution_count": 35
        }
      ]
    },
    {
      "cell_type": "markdown",
      "metadata": {
        "id": "kI57Ucobb_Jb"
      },
      "source": [
        "Feature importance"
      ]
    },
    {
      "cell_type": "code",
      "metadata": {
        "colab": {
          "base_uri": "https://localhost:8080/"
        },
        "id": "l8OEG-IVb_9B",
        "outputId": "c3f9df3b-819e-48e6-a296-af341c7dd444"
      },
      "source": [
        "from sklearn.datasets import load_iris\n",
        "iris = load_iris()\n",
        "rnd_clf = RandomForestClassifier(n_estimators=500, random_state=42)\n",
        "rnd_clf.fit(iris[\"data\"], iris[\"target\"])\n",
        "for name, score in zip(iris[\"feature_names\"], rnd_clf.feature_importances_):\n",
        "    print(name, score)"
      ],
      "execution_count": 36,
      "outputs": [
        {
          "output_type": "stream",
          "name": "stdout",
          "text": [
            "sepal length (cm) 0.11249225099876375\n",
            "sepal width (cm) 0.02311928828251033\n",
            "petal length (cm) 0.4410304643639577\n",
            "petal width (cm) 0.4233579963547682\n"
          ]
        }
      ]
    },
    {
      "cell_type": "code",
      "metadata": {
        "colab": {
          "base_uri": "https://localhost:8080/"
        },
        "id": "RgWz5tufcDuE",
        "outputId": "cc7ab45f-30a3-4f8c-cdb2-ef3ee1ddfa0e"
      },
      "source": [
        "rnd_clf.feature_importances_"
      ],
      "execution_count": 37,
      "outputs": [
        {
          "output_type": "execute_result",
          "data": {
            "text/plain": [
              "array([0.11249225, 0.02311929, 0.44103046, 0.423358  ])"
            ]
          },
          "metadata": {},
          "execution_count": 37
        }
      ]
    },
    {
      "cell_type": "code",
      "metadata": {
        "colab": {
          "base_uri": "https://localhost:8080/"
        },
        "id": "fYb6TeZbgktD",
        "outputId": "05672969-2396-4f1d-8ba2-a85acf0f1424"
      },
      "source": [
        "from sklearn.datasets import load_iris\n",
        "iris = load_iris()\n",
        "# rnd_clf = RandomForestClassifier(n_estimators=500, random_state=42)\n",
        "rnd_clf = ExtraTreesClassifier(n_estimators=500, random_state=42)\n",
        "rnd_clf.fit(iris[\"data\"], iris[\"target\"])\n",
        "for name, score in zip(iris[\"feature_names\"], rnd_clf.feature_importances_):\n",
        "    print(name, score)"
      ],
      "execution_count": 42,
      "outputs": [
        {
          "output_type": "stream",
          "name": "stdout",
          "text": [
            "sepal length (cm) 0.09171035483672016\n",
            "sepal width (cm) 0.054909352517916524\n",
            "petal length (cm) 0.4218042002574349\n",
            "petal width (cm) 0.4315760923879283\n"
          ]
        }
      ]
    },
    {
      "cell_type": "markdown",
      "metadata": {
        "id": "PIxGx9nAg14S"
      },
      "source": [
        "Boosting, AdaBoost"
      ]
    },
    {
      "cell_type": "code",
      "metadata": {
        "colab": {
          "base_uri": "https://localhost:8080/"
        },
        "id": "2caQtqEfg8wa",
        "outputId": "35218678-f6da-430a-939e-0c4ad2cb1f5d"
      },
      "source": [
        "from sklearn.ensemble import AdaBoostClassifier\n",
        "\n",
        "ada_clf = AdaBoostClassifier(\n",
        "    DecisionTreeClassifier(max_depth=1), n_estimators=200,\n",
        "    algorithm=\"SAMME.R\", learning_rate=0.5, random_state=42)\n",
        "ada_clf.fit(X_train, y_train)"
      ],
      "execution_count": 43,
      "outputs": [
        {
          "output_type": "execute_result",
          "data": {
            "text/plain": [
              "AdaBoostClassifier(base_estimator=DecisionTreeClassifier(max_depth=1),\n",
              "                   learning_rate=0.5, n_estimators=200, random_state=42)"
            ]
          },
          "metadata": {},
          "execution_count": 43
        }
      ]
    },
    {
      "cell_type": "code",
      "metadata": {
        "colab": {
          "base_uri": "https://localhost:8080/",
          "height": 308
        },
        "id": "zqHRvmoehAip",
        "outputId": "32c29d9c-2779-4278-bd74-d7679a31ce23"
      },
      "source": [
        "plot_decision_boundary(ada_clf, X, y)\n",
        "print(ada_clf.feature_importances_)"
      ],
      "execution_count": 47,
      "outputs": [
        {
          "output_type": "stream",
          "name": "stdout",
          "text": [
            "[0.785 0.215]\n"
          ]
        },
        {
          "output_type": "display_data",
          "data": {
            "image/png": "[encoded data removed]",
            "text/plain": [
              "<Figure size 432x288 with 1 Axes>"
            ]
          },
          "metadata": {
            "needs_background": "light"
          }
        }
      ]
    },
    {
      "cell_type": "code",
      "metadata": {
        "colab": {
          "base_uri": "https://localhost:8080/"
        },
        "id": "72Jr-E9Ouglt",
        "outputId": "cdcbeacd-ae40-434a-c65c-071a63bca19a"
      },
      "source": [
        "from sklearn.ensemble import AdaBoostClassifier\n",
        "\n",
        "X_train, y_train = load_iris(return_X_y=True)\n",
        "\n",
        "ada_clf = AdaBoostClassifier(\n",
        "    DecisionTreeClassifier(max_depth=2), \n",
        "    n_estimators=7000, \n",
        "    algorithm=\"SAMME\", # algorithm='SAMME.R'\n",
        "    learning_rate=0.1, \n",
        "    random_state=42)\n",
        "\n",
        "\n",
        "ada_clf.fit(X_train[:, 2:], y_train)"
      ],
      "execution_count": 63,
      "outputs": [
        {
          "output_type": "execute_result",
          "data": {
            "text/plain": [
              "AdaBoostClassifier(algorithm='SAMME',\n",
              "                   base_estimator=DecisionTreeClassifier(max_depth=2),\n",
              "                   learning_rate=0.1, n_estimators=7000, random_state=42)"
            ]
          },
          "metadata": {},
          "execution_count": 63
        }
      ]
    },
    {
      "cell_type": "code",
      "metadata": {
        "colab": {
          "base_uri": "https://localhost:8080/",
          "height": 325
        },
        "id": "6kR0GMgnusls",
        "outputId": "dc1cbdb6-aad8-4b42-e88a-4375ac01b212"
      },
      "source": [
        "plot_decision_boundary(ada_clf, X_train[:, 2:], y_train, axes=[0, 6, -2, 5])\n",
        "print(ada_clf.feature_importances_)\n",
        "print(accuracy_score(y_train, ada_clf.predict(X_train[:, 2:])))"
      ],
      "execution_count": 61,
      "outputs": [
        {
          "output_type": "stream",
          "name": "stdout",
          "text": [
            "[0.52918291 0.47081709]\n",
            "0.9933333333333333\n"
          ]
        },
        {
          "output_type": "display_data",
          "data": {
            "image/png": "[encoded data removed]",
            "text/plain": [
              "<Figure size 432x288 with 1 Axes>"
            ]
          },
          "metadata": {
            "needs_background": "light"
          }
        }
      ]
    },
    {
      "cell_type": "code",
      "metadata": {
        "colab": {
          "base_uri": "https://localhost:8080/"
        },
        "id": "uL2VRlF_x_bG",
        "outputId": "72d9e6d6-1311-4453-c065-139feba2d1bf"
      },
      "source": [
        "from sklearn.ensemble import AdaBoostClassifier\n",
        "\n",
        "# X_train, y_train = load_iris(return_X_y=True)\n",
        "X_train, y_train = make_moons(n_samples=500, noise=0.30, random_state=42)\n",
        "\n",
        "ada_clf = AdaBoostClassifier(\n",
        "    DecisionTreeClassifier(max_depth=2), \n",
        "    n_estimators=2000, # 200\n",
        "    algorithm=\"SAMME\", # algorithm=\"SAMME.R\"\n",
        "    learning_rate=0.01, # 0.1\n",
        "    random_state=42)\n",
        "\n",
        "# ada_clf.fit(X_train[:, 2:], y_train)\n",
        "ada_clf.fit(X_train, y_train)"
      ],
      "execution_count": 68,
      "outputs": [
        {
          "output_type": "execute_result",
          "data": {
            "text/plain": [
              "AdaBoostClassifier(algorithm='SAMME',\n",
              "                   base_estimator=DecisionTreeClassifier(max_depth=2),\n",
              "                   learning_rate=0.01, n_estimators=2000, random_state=42)"
            ]
          },
          "metadata": {},
          "execution_count": 68
        }
      ]
    },
    {
      "cell_type": "code",
      "metadata": {
        "colab": {
          "base_uri": "https://localhost:8080/",
          "height": 325
        },
        "id": "45RnGGZFyYz9",
        "outputId": "b3861378-a850-4102-ab03-00166b879435"
      },
      "source": [
        "plot_decision_boundary(ada_clf, X_train, y_train, axes=[-2, 3, -2, 3]) # X_train[:, 2:]\n",
        "print(ada_clf.feature_importances_)\n",
        "print(accuracy_score(y_train, ada_clf.predict(X_train))) # X_train[:, 2:]"
      ],
      "execution_count": 69,
      "outputs": [
        {
          "output_type": "stream",
          "name": "stdout",
          "text": [
            "[0.52175068 0.47824932]\n",
            "0.926\n"
          ]
        },
        {
          "output_type": "display_data",
          "data": {
            "image/png": "[encoded data removed]",
            "text/plain": [
              "<Figure size 432x288 with 1 Axes>"
            ]
          },
          "metadata": {
            "needs_background": "light"
          }
        }
      ]
    },
    {
      "cell_type": "markdown",
      "metadata": {
        "id": "_DZQKujAxnbW"
      },
      "source": [
        "Gradient Boosting"
      ]
    }
  ]
}