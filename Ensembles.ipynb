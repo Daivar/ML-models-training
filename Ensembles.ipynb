{
  "nbformat": 4,
  "nbformat_minor": 0,
  "metadata": {
    "colab": {
      "name": "Ensembles.ipynb",
      "provenance": [],
      "authorship_tag": "ABX9TyNt+47igzJWkAZIhoYLz2Tt",
      "include_colab_link": true
    },
    "kernelspec": {
      "name": "python3",
      "display_name": "Python 3"
    },
    "language_info": {
      "name": "python"
    }
  },
  "cells": [
    {
      "cell_type": "markdown",
      "metadata": {
        "id": "view-in-github",
        "colab_type": "text"
      },
      "source": [
        "<a href=\"https://colab.research.google.com/github/Daivar/ML-models-training/blob/main/Ensembles.ipynb\" target=\"_parent\"><img src=\"https://colab.research.google.com/assets/colab-badge.svg\" alt=\"Open In Colab\"/></a>"
      ]
    },
    {
      "cell_type": "markdown",
      "metadata": {
        "id": "iHfC58JNiyUu"
      },
      "source": [
        "Ensemble learning, hard voting"
      ]
    },
    {
      "cell_type": "code",
      "metadata": {
        "colab": {
          "base_uri": "https://localhost:8080/"
        },
        "id": "flazgtWLi5Ty",
        "outputId": "ab5637d8-8f7b-4d41-d615-ed269dc6248c"
      },
      "source": [
        "from sklearn.ensemble import RandomForestClassifier \n",
        "from sklearn.linear_model import LogisticRegression \n",
        "from sklearn.svm import SVC\n",
        "from sklearn.ensemble import VotingClassifier \n",
        "from sklearn.model_selection import train_test_split\n",
        "from sklearn.datasets import make_moons\n",
        "\n",
        "X, y = make_moons(n_samples=500, noise=0.30, random_state=42)\n",
        "X_train, X_test, y_train, y_test = train_test_split(X, y, random_state=42) \n",
        " \n",
        "# ... these are separatelly tunnable\n",
        "log_clf = LogisticRegression(solver=\"lbfgs\", random_state=42)\n",
        "rnd_clf = RandomForestClassifier(n_estimators=100, random_state=42)\n",
        "svm_clf = SVC(gamma=\"scale\", random_state=42)\n",
        "ensemble = [('lr', log_clf), ('rf', rnd_clf), ('svc', svm_clf)]\n",
        "voting_clf = VotingClassifier(estimators=ensemble, voting='hard') \n",
        "\n",
        "from sklearn.metrics import accuracy_score\n",
        "for clf in (log_clf, rnd_clf, svm_clf, voting_clf):\n",
        "    clf.fit(X_train, y_train)\n",
        "    y_pred = clf.predict(X_test)\n",
        "    print(clf.__class__.__name__, accuracy_score(y_test, y_pred))"
      ],
      "execution_count": 1,
      "outputs": [
        {
          "output_type": "stream",
          "name": "stdout",
          "text": [
            "LogisticRegression 0.864\n",
            "RandomForestClassifier 0.896\n",
            "SVC 0.896\n",
            "VotingClassifier 0.912\n"
          ]
        }
      ]
    },
    {
      "cell_type": "code",
      "metadata": {
        "colab": {
          "base_uri": "https://localhost:8080/"
        },
        "id": "t-M6XaEQjQd6",
        "outputId": "770c1305-4c77-423e-b31f-b2a177a2319a"
      },
      "source": [
        "from sklearn.ensemble import RandomForestClassifier \n",
        "from sklearn.linear_model import LogisticRegression \n",
        "from sklearn.svm import SVC\n",
        "from sklearn.ensemble import VotingClassifier \n",
        "from sklearn.model_selection import train_test_split\n",
        "from sklearn.datasets import make_moons\n",
        "\n",
        "X, y = make_moons(n_samples=500, noise=0.10, random_state=42) # noise 0.1 (was 0.3)\n",
        "X_train, X_test, y_train, y_test = train_test_split(X, y, random_state=42) \n",
        " \n",
        "# ... these are separatelly tunnable\n",
        "log_clf = LogisticRegression(solver=\"lbfgs\", random_state=42)\n",
        "rnd_clf = RandomForestClassifier(n_estimators=100, random_state=42)\n",
        "svm_clf = SVC(gamma=\"scale\", random_state=42)\n",
        "ensemble = [('lr', log_clf), ('rf', rnd_clf), ('svc', svm_clf)]\n",
        "voting_clf = VotingClassifier(estimators=ensemble, voting='hard') \n",
        "\n",
        "from sklearn.metrics import accuracy_score\n",
        "for clf in (log_clf, rnd_clf, svm_clf, voting_clf):\n",
        "    clf.fit(X_train, y_train)\n",
        "    y_pred = clf.predict(X_test)\n",
        "    print(clf.__class__.__name__, accuracy_score(y_test, y_pred))"
      ],
      "execution_count": 2,
      "outputs": [
        {
          "output_type": "stream",
          "name": "stdout",
          "text": [
            "LogisticRegression 0.864\n",
            "RandomForestClassifier 1.0\n",
            "SVC 1.0\n",
            "VotingClassifier 1.0\n"
          ]
        }
      ]
    },
    {
      "cell_type": "code",
      "metadata": {
        "colab": {
          "base_uri": "https://localhost:8080/"
        },
        "id": "5TK3wNNmjZp8",
        "outputId": "f2100fa0-44d5-4abd-e0b6-ea0be895ccb0"
      },
      "source": [
        "from sklearn.tree import DecisionTreeClassifier\n",
        " \n",
        "dt_clf = DecisionTreeClassifier(max_depth=3)\n",
        "dt_clf.fit(X_train, y_train)\n",
        "\n",
        "print(accuracy_score(y_test, dt_clf.predict(X_test)))"
      ],
      "execution_count": 3,
      "outputs": [
        {
          "output_type": "stream",
          "name": "stdout",
          "text": [
            "0.904\n"
          ]
        }
      ]
    },
    {
      "cell_type": "code",
      "metadata": {
        "colab": {
          "base_uri": "https://localhost:8080/"
        },
        "id": "cYnDZWR_jg2E",
        "outputId": "17c15621-dc3f-4388-a927-42791e43db8a"
      },
      "source": [
        "ensemble.append(('dt', dt_clf))\n",
        "\n",
        "print(ensemble)\n",
        "\n",
        "voting_clf = VotingClassifier(estimators=ensemble, voting='hard') \n",
        "voting_clf.fit(X_train, y_train)\n",
        "\n",
        "from sklearn.metrics import accuracy_score\n",
        "\n",
        "for _, clf in ensemble:\n",
        "    clf.fit(X_train, y_train)\n",
        "    y_pred = clf.predict(X_test)\n",
        "    print(clf.__class__.__name__, accuracy_score(y_test, y_pred))\n",
        "\n",
        "print(voting_clf.__class__.__name__, accuracy_score(y_test, voting_clf.predict(X_test)))"
      ],
      "execution_count": 4,
      "outputs": [
        {
          "output_type": "stream",
          "name": "stdout",
          "text": [
            "[('lr', LogisticRegression(random_state=42)), ('rf', RandomForestClassifier(random_state=42)), ('svc', SVC(random_state=42)), ('dt', DecisionTreeClassifier(max_depth=3))]\n",
            "LogisticRegression 0.864\n",
            "RandomForestClassifier 1.0\n",
            "SVC 1.0\n",
            "DecisionTreeClassifier 0.904\n",
            "VotingClassifier 0.92\n"
          ]
        }
      ]
    },
    {
      "cell_type": "markdown",
      "metadata": {
        "id": "4EV4yi-Sk4yt"
      },
      "source": [
        "without logistic regression(without weekest clasiffier): "
      ]
    },
    {
      "cell_type": "code",
      "metadata": {
        "colab": {
          "base_uri": "https://localhost:8080/"
        },
        "id": "KJOM5iZSj67z",
        "outputId": "07d41060-1f24-4498-8973-668377cf7960"
      },
      "source": [
        "from sklearn.ensemble import RandomForestClassifier \n",
        "from sklearn.linear_model import LogisticRegression \n",
        "from sklearn.svm import SVC\n",
        "from sklearn.ensemble import VotingClassifier \n",
        "from sklearn.model_selection import train_test_split\n",
        "from sklearn.datasets import make_moons\n",
        "\n",
        "X, y = make_moons(n_samples=500, noise=0.10, random_state=42) # noise 0.1 (was 0.3)\n",
        "X_train, X_test, y_train, y_test = train_test_split(X, y, random_state=42) \n",
        " \n",
        "# ... these are separatelly tunnable\n",
        "# log_clf = LogisticRegression(solver=\"lbfgs\", random_state=42)\n",
        "rnd_clf = RandomForestClassifier(n_estimators=100, random_state=42)\n",
        "svm_clf = SVC(gamma=\"scale\", random_state=42)\n",
        "ensemble = [('rf', rnd_clf), ('svc', svm_clf)]\n",
        "voting_clf = VotingClassifier(estimators=ensemble, voting='hard') \n",
        "\n",
        "from sklearn.metrics import accuracy_score\n",
        "for clf in (rnd_clf, svm_clf, voting_clf):\n",
        "    clf.fit(X_train, y_train)\n",
        "    y_pred = clf.predict(X_test)\n",
        "    print(clf.__class__.__name__, accuracy_score(y_test, y_pred))"
      ],
      "execution_count": 5,
      "outputs": [
        {
          "output_type": "stream",
          "name": "stdout",
          "text": [
            "RandomForestClassifier 1.0\n",
            "SVC 1.0\n",
            "VotingClassifier 1.0\n"
          ]
        }
      ]
    },
    {
      "cell_type": "code",
      "metadata": {
        "colab": {
          "base_uri": "https://localhost:8080/"
        },
        "id": "AY86K3wyjpG0",
        "outputId": "f7690f5d-606c-4c33-d926-09c41d8dc105"
      },
      "source": [
        "ensemble.append(('dt', dt_clf))\n",
        "\n",
        "print(ensemble)\n",
        "\n",
        "voting_clf = VotingClassifier(estimators=ensemble, voting='hard') \n",
        "voting_clf.fit(X_train, y_train)\n",
        "\n",
        "from sklearn.metrics import accuracy_score\n",
        "\n",
        "for _, clf in ensemble:\n",
        "    clf.fit(X_train, y_train)\n",
        "    y_pred = clf.predict(X_test)\n",
        "    print(clf.__class__.__name__, accuracy_score(y_test, y_pred))\n",
        "\n",
        "print(voting_clf.__class__.__name__, accuracy_score(y_test, voting_clf.predict(X_test)))"
      ],
      "execution_count": 6,
      "outputs": [
        {
          "output_type": "stream",
          "name": "stdout",
          "text": [
            "[('rf', RandomForestClassifier(random_state=42)), ('svc', SVC(random_state=42)), ('dt', DecisionTreeClassifier(max_depth=3))]\n",
            "RandomForestClassifier 1.0\n",
            "SVC 1.0\n",
            "DecisionTreeClassifier 0.904\n",
            "VotingClassifier 1.0\n"
          ]
        }
      ]
    },
    {
      "cell_type": "markdown",
      "metadata": {
        "id": "g_K7ZruvmqrF"
      },
      "source": [
        "### Soft voting"
      ]
    },
    {
      "cell_type": "code",
      "metadata": {
        "colab": {
          "base_uri": "https://localhost:8080/"
        },
        "id": "AlyuqHG3mvta",
        "outputId": "b4ec44cb-4425-41dd-aa19-730e65697971"
      },
      "source": [
        "from sklearn.ensemble import RandomForestClassifier \n",
        "from sklearn.ensemble import VotingClassifier \n",
        "from sklearn.linear_model import LogisticRegression \n",
        "from sklearn.svm import SVC\n",
        "from sklearn.model_selection import train_test_split\n",
        "from sklearn.datasets import make_moons\n",
        "\n",
        "X, y = make_moons(n_samples=500, noise=0.30, random_state=42)\n",
        "X_train, X_test, y_train, y_test = train_test_split(X, y, random_state=42) \n",
        " \n",
        "dt_clf = DecisionTreeClassifier(max_depth=3)\n",
        "rnd_clf = RandomForestClassifier(n_estimators=100, random_state=42)\n",
        "svm_clf = SVC(gamma=\"scale\", probability=True, random_state=42, C=50)\n",
        "ensemble = [('lr', log_clf), ('rf', rnd_clf), ('svc', svm_clf)]\n",
        " \n",
        "voting_clf = VotingClassifier(estimators=ensemble, voting='soft') \n",
        "voting_clf.fit(X_train, y_train)\n",
        "\n",
        "from sklearn.metrics import accuracy_score\n",
        "\n",
        "for clf in (dt_clf, rnd_clf, svm_clf, voting_clf):\n",
        "    clf.fit(X_train, y_train)\n",
        "    y_pred = clf.predict(X_test)\n",
        "    print(clf.__class__.__name__, accuracy_score(y_test, y_pred))"
      ],
      "execution_count": 7,
      "outputs": [
        {
          "output_type": "stream",
          "name": "stdout",
          "text": [
            "DecisionTreeClassifier 0.896\n",
            "RandomForestClassifier 0.896\n",
            "SVC 0.888\n",
            "VotingClassifier 0.912\n"
          ]
        }
      ]
    },
    {
      "cell_type": "markdown",
      "metadata": {
        "id": "mmEcqdMJnov7"
      },
      "source": [
        "### Bagging and Pasting in Scikit"
      ]
    },
    {
      "cell_type": "code",
      "metadata": {
        "colab": {
          "base_uri": "https://localhost:8080/"
        },
        "id": "ZwwbWallntzE",
        "outputId": "7816ad32-bfe3-4281-f746-93373f36c497"
      },
      "source": [
        "from sklearn.ensemble import BaggingClassifier \n",
        "from sklearn.tree import DecisionTreeClassifier \n",
        "from sklearn.datasets import make_moons\n",
        "\n",
        "X, y = make_moons(n_samples=500, noise=0.30, random_state=42)\n",
        "X_train, X_test, y_train, y_test = train_test_split(X, y, random_state=42) \n",
        " \n",
        "dtc = DecisionTreeClassifier(max_depth=4)\n",
        "bag_clf = BaggingClassifier(dtc, n_estimators=1000, max_samples=100, bootstrap=True, n_jobs=-1) # n_jobs=-1 treniruosis ant visų branduolių\n",
        "bag_clf.fit(X_train, y_train) \n",
        "y_pred = bag_clf.predict(X_test)\n",
        "\n",
        "from sklearn.metrics import accuracy_score\n",
        "print(accuracy_score(y_test, y_pred))"
      ],
      "execution_count": 8,
      "outputs": [
        {
          "output_type": "stream",
          "name": "stdout",
          "text": [
            "0.896\n"
          ]
        }
      ]
    },
    {
      "cell_type": "code",
      "metadata": {
        "colab": {
          "base_uri": "https://localhost:8080/"
        },
        "id": "Y4s5I1JNovcQ",
        "outputId": "e3bc288a-8d55-479d-d558-1eb1b8b3068a"
      },
      "source": [
        "from sklearn.ensemble import BaggingClassifier \n",
        "from sklearn.tree import DecisionTreeClassifier \n",
        "from sklearn.datasets import make_moons\n",
        "\n",
        "X, y = make_moons(n_samples=500, noise=0.30, random_state=42)\n",
        "X_train, X_test, y_train, y_test = train_test_split(X, y, random_state=42) \n",
        " \n",
        "dtc = DecisionTreeClassifier(max_depth=5) #max_depth=5\n",
        "bag_clf = BaggingClassifier(dtc, n_estimators=1000, max_samples=300, bootstrap=True, n_jobs=-1) # samples - 300\n",
        "bag_clf.fit(X_train, y_train) \n",
        "y_pred = bag_clf.predict(X_test)\n",
        "\n",
        "from sklearn.metrics import accuracy_score\n",
        "print(accuracy_score(y_test, y_pred))"
      ],
      "execution_count": 9,
      "outputs": [
        {
          "output_type": "stream",
          "name": "stdout",
          "text": [
            "0.904\n"
          ]
        }
      ]
    },
    {
      "cell_type": "code",
      "metadata": {
        "colab": {
          "base_uri": "https://localhost:8080/"
        },
        "id": "nbLnejQdpcnW",
        "outputId": "9085a9a0-c70b-4d80-fc92-e4c215f18b80"
      },
      "source": [
        "from sklearn.ensemble import BaggingClassifier \n",
        "from sklearn.tree import DecisionTreeClassifier \n",
        "from sklearn.datasets import make_moons\n",
        "\n",
        "X, y = make_moons(n_samples=500, noise=0.30, random_state=42)\n",
        "X_train, X_test, y_train, y_test = train_test_split(X, y, random_state=42) \n",
        " \n",
        "dtc = DecisionTreeClassifier(max_depth=5) #max_depth=5\n",
        "bag_clf = BaggingClassifier(dtc, n_estimators=1000, max_samples=300, bootstrap=False, n_jobs=-1) # bootstrap = True veikia geriau\n",
        "bag_clf.fit(X_train, y_train) \n",
        "y_pred = bag_clf.predict(X_test)\n",
        "\n",
        "from sklearn.metrics import accuracy_score\n",
        "print(accuracy_score(y_test, y_pred))"
      ],
      "execution_count": 10,
      "outputs": [
        {
          "output_type": "stream",
          "name": "stdout",
          "text": [
            "0.888\n"
          ]
        }
      ]
    },
    {
      "cell_type": "code",
      "metadata": {
        "colab": {
          "base_uri": "https://localhost:8080/",
          "height": 400
        },
        "id": "ZrPegxKooBC2",
        "outputId": "4b6d949a-24ef-4450-a8a4-a005aaa06091"
      },
      "source": [
        "# ref: https://github.com/ageron/handson-ml2/blob/master/06_decision_trees.ipynb\n",
        "\n",
        "import matplotlib.pyplot as plt\n",
        "from matplotlib.colors import ListedColormap\n",
        "import numpy as np\n",
        "\n",
        "# TODO :: add the ability to plot decision boundaries based on unbounded number of features\n",
        "def plot_decision_boundary(clf, X, y, axes=[-1.5, 2.45, -1, 1.5], alpha=0.5, contour=True):\n",
        "    x1s = np.linspace(axes[0], axes[1], 100)\n",
        "    x2s = np.linspace(axes[2], axes[3], 100)\n",
        "    x1, x2 = np.meshgrid(x1s, x2s)\n",
        "    X_new = np.c_[x1.ravel(), x2.ravel()]\n",
        "    y_pred = clf.predict(X_new).reshape(x1.shape)\n",
        "    custom_cmap = ListedColormap(['#fafab0','#9898ff','#a0faa0'])\n",
        "    plt.contourf(x1, x2, y_pred, alpha=0.3, cmap=custom_cmap)\n",
        "    if contour:\n",
        "        custom_cmap2 = ListedColormap(['#7d7d58','#4c4c7f','#507d50'])\n",
        "        plt.contour(x1, x2, y_pred, cmap=custom_cmap2, alpha=0.8)\n",
        "    plt.plot(X[:, 0][y==0], X[:, 1][y==0], \"yo\", alpha=alpha)\n",
        "    plt.plot(X[:, 0][y==1], X[:, 1][y==1], \"bs\", alpha=alpha)\n",
        "    plt.axis(axes)\n",
        "    plt.xlabel(r\"$x_1$\", fontsize=18)\n",
        "    plt.ylabel(r\"$x_2$\", fontsize=18, rotation=0)\n",
        "\n",
        "plt.figure(figsize=(12, 6))\n",
        "plot_decision_boundary(bag_clf, X, y)\n",
        "plt.show()"
      ],
      "execution_count": 11,
      "outputs": [
        {
          "output_type": "display_data",
          "data": {
            "image/png": "[encoded data removed]",
            "text/plain": [
              "<Figure size 864x432 with 1 Axes>"
            ]
          },
          "metadata": {
            "needs_background": "light"
          }
        }
      ]
    },
    {
      "cell_type": "markdown",
      "metadata": {
        "id": "ttkZ5-8DqmHA"
      },
      "source": [
        "### OOB"
      ]
    },
    {
      "cell_type": "code",
      "metadata": {
        "colab": {
          "base_uri": "https://localhost:8080/"
        },
        "id": "hJPPm9Ump5-l",
        "outputId": "f43fe086-e4ce-4726-8064-47f084267074"
      },
      "source": [
        "from sklearn.ensemble import BaggingClassifier \n",
        "from sklearn.tree import DecisionTreeClassifier \n",
        "from sklearn.datasets import make_moons\n",
        "\n",
        "X, y = make_moons(n_samples=500, noise=0.30, random_state=42)\n",
        "\n",
        "dtc = DecisionTreeClassifier(max_depth=4)\n",
        "bag_clf = BaggingClassifier(dtc, n_estimators=1000, max_samples=100, bootstrap=True, n_jobs=-1, oob_score=True) \n",
        "bag_clf.fit(X, y) \n",
        "y_pred = bag_clf.predict(X)\n",
        "\n",
        "from sklearn.metrics import accuracy_score\n",
        "print(accuracy_score(y, y_pred))\n",
        "print(bag_clf.oob_score_)"
      ],
      "execution_count": 12,
      "outputs": [
        {
          "output_type": "stream",
          "name": "stdout",
          "text": [
            "0.914\n",
            "0.882\n"
          ]
        }
      ]
    },
    {
      "cell_type": "markdown",
      "metadata": {
        "id": "lEwhOPOrSO1d"
      },
      "source": [
        "Random Forerests"
      ]
    },
    {
      "cell_type": "code",
      "metadata": {
        "colab": {
          "base_uri": "https://localhost:8080/"
        },
        "id": "qf6Yf74MSMBA",
        "outputId": "e4b4f9ac-36f8-4443-b677-f872fd7af76e"
      },
      "source": [
        "from sklearn.ensemble import RandomForestClassifier\n",
        "from sklearn.model_selection import train_test_split\n",
        "from sklearn.datasets import make_moons\n",
        "import numpy as np\n",
        "\n",
        "X, y = make_moons(n_samples=500, noise=0.30, random_state=42)\n",
        "X_train, X_test, y_train, y_test = train_test_split(X, y, random_state=42) \n",
        "\n",
        "rnd_clf = RandomForestClassifier(n_estimators=500, max_leaf_nodes=16, random_state=42)\n",
        "rnd_clf.fit(X_train, y_train)\n",
        "y_pred_rf = rnd_clf.predict(X_test)\n",
        "\n",
        "bag_clf = BaggingClassifier(\n",
        "    DecisionTreeClassifier(max_features=\"sqrt\", max_leaf_nodes=16),\n",
        "    n_estimators=500, random_state=42)\n",
        "\n",
        "bag_clf.fit(X_train, y_train)\n",
        "y_pred = bag_clf.predict(X_test)\n",
        "\n",
        "np.sum(y_pred == y_pred_rf) / len(y_pred)  # very similar predictions\n"
      ],
      "execution_count": 13,
      "outputs": [
        {
          "output_type": "execute_result",
          "data": {
            "text/plain": [
              "1.0"
            ]
          },
          "metadata": {},
          "execution_count": 13
        }
      ]
    },
    {
      "cell_type": "code",
      "metadata": {
        "colab": {
          "base_uri": "https://localhost:8080/"
        },
        "id": "tFnmZ4K5SxaC",
        "outputId": "4b9bd23f-fc13-44c5-d2a3-235447f01987"
      },
      "source": [
        "from sklearn.ensemble import RandomForestClassifier, BaggingClassifier\n",
        "from sklearn.tree import DecisionTreeClassifier\n",
        "from sklearn.model_selection import train_test_split\n",
        "from sklearn.datasets import make_moons\n",
        "import numpy as np\n",
        "\n",
        "X, y = make_moons(n_samples=500, noise=0.30, random_state=42)\n",
        "X_train, X_test, y_train, y_test = train_test_split(X, y, random_state=42) \n",
        "\n",
        "rnd_clf = RandomForestClassifier(n_estimators=500, max_leaf_nodes=16, random_state=42)\n",
        "rnd_clf.fit(X_train, y_train)\n",
        "y_pred_rf = rnd_clf.predict(X_test)\n",
        "\n",
        "bag_clf = BaggingClassifier(\n",
        "    DecisionTreeClassifier(max_features=\"sqrt\", max_leaf_nodes=16),\n",
        "    n_estimators=500, random_state=42)\n",
        "\n",
        "bag_clf.fit(X_train, y_train)\n",
        "y_pred = bag_clf.predict(X_test)\n",
        "\n",
        "np.sum(y_pred == y_pred_rf) / len(y_pred)  # very similar predictions\n",
        "\n",
        "\n",
        "from sklearn.metrics import accuracy_score\n",
        "print(accuracy_score(y_test, y_pred_rf))\n",
        "print(accuracy_score(y_test, y_pred))"
      ],
      "execution_count": 14,
      "outputs": [
        {
          "output_type": "stream",
          "name": "stdout",
          "text": [
            "0.912\n",
            "0.912\n"
          ]
        }
      ]
    },
    {
      "cell_type": "code",
      "metadata": {
        "colab": {
          "base_uri": "https://localhost:8080/"
        },
        "id": "PSB3e0TGUEcB",
        "outputId": "fa731bac-87e2-4e1a-f8e2-b4acadec43a3"
      },
      "source": [
        "from sklearn.ensemble import RandomForestClassifier, BaggingClassifier\n",
        "from sklearn.tree import DecisionTreeClassifier\n",
        "from sklearn.model_selection import train_test_split\n",
        "from sklearn.datasets import make_moons\n",
        "from sklearn.metrics import accuracy_score\n",
        "import numpy as np\n",
        "\n",
        "X, y = make_moons(n_samples=1000, noise=0.10, random_state=42)\n",
        "X_train, X_test, y_train, y_test = train_test_split(X, y, random_state=42) \n",
        "\n",
        "rnd_clf = RandomForestClassifier(n_estimators=1000, max_leaf_nodes=6, random_state=42)\n",
        "rnd_clf.fit(X_train, y_train)\n",
        "y_pred_rf = rnd_clf.predict(X_test)\n",
        "\n",
        "bag_clf = BaggingClassifier(\n",
        "    DecisionTreeClassifier(max_features=\"sqrt\", max_leaf_nodes=16),\n",
        "    n_estimators=500, random_state=42)\n",
        "\n",
        "bag_clf.fit(X_train, y_train)\n",
        "y_pred = bag_clf.predict(X_test)\n",
        "\n",
        "np.sum(y_pred == y_pred_rf) / len(y_pred)  # very similar predictions\n",
        "\n",
        "\n",
        "print(accuracy_score(y_test, y_pred_rf))\n",
        "print(accuracy_score(y_test, y_pred))"
      ],
      "execution_count": 15,
      "outputs": [
        {
          "output_type": "stream",
          "name": "stdout",
          "text": [
            "0.992\n",
            "1.0\n"
          ]
        }
      ]
    },
    {
      "cell_type": "code",
      "metadata": {
        "colab": {
          "base_uri": "https://localhost:8080/",
          "height": 331
        },
        "id": "YL5MzpXSYvSy",
        "outputId": "5b707080-0d4c-4685-af40-3da6c0013732"
      },
      "source": [
        "from sklearn.ensemble import RandomForestClassifier, ExtraTreesClassifier\n",
        "from sklearn.tree import DecisionTreeClassifier\n",
        "from sklearn.model_selection import train_test_split\n",
        "from sklearn.datasets import make_moons\n",
        "import numpy as np\n",
        "from sklearn.metrics import accuracy_score\n",
        "import pandas as pd\n",
        "\n",
        "\n",
        "def train_score_model(x, y, **kwargs):\n",
        "  x_train, x_test, y_train, y_test = train_test_split(x, y, random_state=10, test_size=0.2)\n",
        "  clf = ExtraTreesClassifier(**kwargs) # n_estimators=500, max_leaf_nodes=16, random_state=42, n_jobs=-1\n",
        "  clf.fit(x_train, y_train)\n",
        "  return accuracy_score(y_test, clf.predict(x_test))\n",
        "\n",
        "max_score = 0\n",
        "best_estimator = 100\n",
        "\n",
        "df = pd.DataFrame(columns=['max_score', 'estimator'])\n",
        "\n",
        "for i in range(100, 1000, 100):\n",
        "  score = train_score_model(X, y, n_estimators=i, max_leaf_nodes=16, random_state=10, n_jobs=-1)\n",
        "  df = df.append({'max_score': score, 'estimator': i}, ignore_index=True)\n",
        "  if score > max_score:\n",
        "    max_score = score\n",
        "    best_estimator = i\n",
        "df"
      ],
      "execution_count": 16,
      "outputs": [
        {
          "output_type": "execute_result",
          "data": {
            "text/html": [
              "<div>\n",
              "<style scoped>\n",
              "    .dataframe tbody tr th:only-of-type {\n",
              "        vertical-align: middle;\n",
              "    }\n",
              "\n",
              "    .dataframe tbody tr th {\n",
              "        vertical-align: top;\n",
              "    }\n",
              "\n",
              "    .dataframe thead th {\n",
              "        text-align: right;\n",
              "    }\n",
              "</style>\n",
              "<table border=\"1\" class=\"dataframe\">\n",
              "  <thead>\n",
              "    <tr style=\"text-align: right;\">\n",
              "      <th></th>\n",
              "      <th>max_score</th>\n",
              "      <th>estimator</th>\n",
              "    </tr>\n",
              "  </thead>\n",
              "  <tbody>\n",
              "    <tr>\n",
              "      <th>0</th>\n",
              "      <td>0.995</td>\n",
              "      <td>100.0</td>\n",
              "    </tr>\n",
              "    <tr>\n",
              "      <th>1</th>\n",
              "      <td>0.995</td>\n",
              "      <td>200.0</td>\n",
              "    </tr>\n",
              "    <tr>\n",
              "      <th>2</th>\n",
              "      <td>0.995</td>\n",
              "      <td>300.0</td>\n",
              "    </tr>\n",
              "    <tr>\n",
              "      <th>3</th>\n",
              "      <td>0.995</td>\n",
              "      <td>400.0</td>\n",
              "    </tr>\n",
              "    <tr>\n",
              "      <th>4</th>\n",
              "      <td>0.995</td>\n",
              "      <td>500.0</td>\n",
              "    </tr>\n",
              "    <tr>\n",
              "      <th>5</th>\n",
              "      <td>0.995</td>\n",
              "      <td>600.0</td>\n",
              "    </tr>\n",
              "    <tr>\n",
              "      <th>6</th>\n",
              "      <td>0.995</td>\n",
              "      <td>700.0</td>\n",
              "    </tr>\n",
              "    <tr>\n",
              "      <th>7</th>\n",
              "      <td>0.995</td>\n",
              "      <td>800.0</td>\n",
              "    </tr>\n",
              "    <tr>\n",
              "      <th>8</th>\n",
              "      <td>0.995</td>\n",
              "      <td>900.0</td>\n",
              "    </tr>\n",
              "  </tbody>\n",
              "</table>\n",
              "</div>"
            ],
            "text/plain": [
              "   max_score  estimator\n",
              "0      0.995      100.0\n",
              "1      0.995      200.0\n",
              "2      0.995      300.0\n",
              "3      0.995      400.0\n",
              "4      0.995      500.0\n",
              "5      0.995      600.0\n",
              "6      0.995      700.0\n",
              "7      0.995      800.0\n",
              "8      0.995      900.0"
            ]
          },
          "metadata": {},
          "execution_count": 16
        }
      ]
    },
    {
      "cell_type": "code",
      "metadata": {
        "colab": {
          "base_uri": "https://localhost:8080/"
        },
        "id": "llsQYY_tZs8J",
        "outputId": "b8bd8b9f-a974-4092-d6de-9ab2fc1698fe"
      },
      "source": [
        "from sklearn.ensemble import RandomForestClassifier, ExtraTreesClassifier\n",
        "from sklearn.tree import DecisionTreeClassifier\n",
        "from sklearn.model_selection import train_test_split\n",
        "from sklearn.datasets import make_moons\n",
        "from sklearn.metrics import accuracy_score\n",
        "import numpy as np\n",
        "\n",
        "def compare_models_accuracy(x, y, params):\n",
        "  X_train, X_test, y_train, y_test = train_test_split(X, y, random_state=42) \n",
        "\n",
        "  rnd_clf = RandomForestClassifier(**params)\n",
        "  rnd_clf.fit(X_train, y_train)\n",
        "  y_pred_rf = rnd_clf.predict(X_test)\n",
        "\n",
        "  ext_clf = ExtraTreesClassifier(**params)\n",
        "  ext_clf.fit(X_train, y_train)\n",
        "  y_pred_ext = ext_clf.predict(X_test)\n",
        "\n",
        "  #np.sum(y_pred_ext == y_pred_rf) / len(y_test)  # very similar predictions\n",
        "\n",
        "  return accuracy_score(y_test, y_pred_rf), accuracy_score(y_test, y_pred_ext)\n",
        "\n",
        "X, y = make_moons(n_samples=500, noise=0.30, random_state=42)\n",
        "\n",
        "print('--- n_estimators 50 to 500: ----- ')\n",
        "for i in range(1, 11):\n",
        "  print(50 * i, ' => ', compare_models_accuracy(X, y, {'n_estimators': 50 * i, 'random_state': 42, 'max_leaf_nodes': 16}))\n",
        "\n",
        "print('\\n--- max_leaf_nodes 2 to 20: ----- ')\n",
        "for i in range(2, 21):\n",
        "  print(i, ' => ', compare_models_accuracy(X, y, {'n_estimators': 500, 'random_state': 42, 'max_leaf_nodes': i}))\n",
        "\n",
        "print('\\n--- max_features \"sqrt\", \"log2\": ----- ')\n",
        "for mf in ['sqrt', 'log2']:\n",
        "  print(mf, ' => ', compare_models_accuracy(X, y, {'n_estimators': 500, 'random_state': 42, 'max_leaf_nodes': i, 'max_features': mf}))"
      ],
      "execution_count": 17,
      "outputs": [
        {
          "output_type": "stream",
          "name": "stdout",
          "text": [
            "--- n_estimators 50 to 500: ----- \n",
            "50  =>  (0.92, 0.904)\n",
            "100  =>  (0.928, 0.92)\n",
            "150  =>  (0.928, 0.92)\n",
            "200  =>  (0.912, 0.912)\n",
            "250  =>  (0.912, 0.912)\n",
            "300  =>  (0.912, 0.912)\n",
            "350  =>  (0.912, 0.912)\n",
            "400  =>  (0.904, 0.912)\n",
            "450  =>  (0.912, 0.912)\n",
            "500  =>  (0.912, 0.912)\n",
            "\n",
            "--- max_leaf_nodes 2 to 20: ----- \n",
            "2  =>  (0.816, 0.856)\n",
            "3  =>  (0.88, 0.864)\n",
            "4  =>  (0.872, 0.864)\n",
            "5  =>  (0.88, 0.872)\n",
            "6  =>  (0.92, 0.872)\n",
            "7  =>  (0.92, 0.88)\n",
            "8  =>  (0.912, 0.88)\n",
            "9  =>  (0.912, 0.872)\n",
            "10  =>  (0.92, 0.88)\n",
            "11  =>  (0.92, 0.88)\n",
            "12  =>  (0.92, 0.896)\n",
            "13  =>  (0.92, 0.896)\n",
            "14  =>  (0.912, 0.912)\n",
            "15  =>  (0.912, 0.912)\n",
            "16  =>  (0.912, 0.912)\n",
            "17  =>  (0.904, 0.912)\n",
            "18  =>  (0.896, 0.912)\n",
            "19  =>  (0.896, 0.912)\n",
            "20  =>  (0.896, 0.912)\n",
            "\n",
            "--- max_features \"sqrt\", \"log2\": ----- \n",
            "sqrt  =>  (0.896, 0.912)\n",
            "log2  =>  (0.896, 0.912)\n"
          ]
        }
      ]
    },
    {
      "cell_type": "code",
      "metadata": {
        "colab": {
          "base_uri": "https://localhost:8080/",
          "height": 357
        },
        "id": "aFuYy7NoZ8mL",
        "outputId": "71f0853d-c682-440f-e803-b057edf5dcb4"
      },
      "source": [
        "from sklearn.ensemble import RandomForestClassifier, ExtraTreesClassifier\n",
        "from sklearn.tree import DecisionTreeClassifier\n",
        "from sklearn.model_selection import train_test_split\n",
        "from sklearn.datasets import make_moons\n",
        "import numpy as np\n",
        "from sklearn.metrics import accuracy_score\n",
        "import pandas as pd\n",
        "\n",
        "X, y = make_moons(n_samples=500, noise=0.30, random_state=42)\n",
        "\n",
        "def train_score_model(x, y, **kwargs):\n",
        "  x_train, x_test, y_train, y_test = train_test_split(x, y, random_state=10, test_size=0.2)\n",
        "  et_clf = ExtraTreesClassifier(**kwargs) # n_estimators=500, max_leaf_nodes=16, random_state=42, n_jobs=-1\n",
        "  et_clf.fit(x_train, y_train)\n",
        "  rf_clt = RandomForestClassifier(**kwargs) # n_estimators=500, max_leaf_nodes=16, random_state=42, n_jobs=-1\n",
        "  rf_clt.fit(x_train, y_train)\n",
        "  return accuracy_score(y_test, et_clf.predict(x_test)), accuracy_score(y_test, rf_clt.predict(x_test))\n",
        "\n",
        "df = pd.DataFrame(columns=['score', 'estimator'])\n",
        "\n",
        "for i in range(10, 500, 50):\n",
        "  score_et, score_rf = train_score_model(X, y, n_estimators=i, max_leaf_nodes=16, random_state=10, n_jobs=-1)\n",
        "  df = df.append({'estimator': i, 'score_et': score_et, 'score_rf': score_rf}, ignore_index=True)\n",
        "\n",
        "df"
      ],
      "execution_count": null,
      "outputs": [
        {
          "output_type": "execute_result",
          "data": {
            "text/html": [
              "<div>\n",
              "<style scoped>\n",
              "    .dataframe tbody tr th:only-of-type {\n",
              "        vertical-align: middle;\n",
              "    }\n",
              "\n",
              "    .dataframe tbody tr th {\n",
              "        vertical-align: top;\n",
              "    }\n",
              "\n",
              "    .dataframe thead th {\n",
              "        text-align: right;\n",
              "    }\n",
              "</style>\n",
              "<table border=\"1\" class=\"dataframe\">\n",
              "  <thead>\n",
              "    <tr style=\"text-align: right;\">\n",
              "      <th></th>\n",
              "      <th>score</th>\n",
              "      <th>estimator</th>\n",
              "      <th>score_et</th>\n",
              "      <th>score_rf</th>\n",
              "    </tr>\n",
              "  </thead>\n",
              "  <tbody>\n",
              "    <tr>\n",
              "      <th>0</th>\n",
              "      <td>NaN</td>\n",
              "      <td>10.0</td>\n",
              "      <td>0.88</td>\n",
              "      <td>0.94</td>\n",
              "    </tr>\n",
              "    <tr>\n",
              "      <th>1</th>\n",
              "      <td>NaN</td>\n",
              "      <td>60.0</td>\n",
              "      <td>0.89</td>\n",
              "      <td>0.94</td>\n",
              "    </tr>\n",
              "    <tr>\n",
              "      <th>2</th>\n",
              "      <td>NaN</td>\n",
              "      <td>110.0</td>\n",
              "      <td>0.90</td>\n",
              "      <td>0.95</td>\n",
              "    </tr>\n",
              "    <tr>\n",
              "      <th>3</th>\n",
              "      <td>NaN</td>\n",
              "      <td>160.0</td>\n",
              "      <td>0.90</td>\n",
              "      <td>0.94</td>\n",
              "    </tr>\n",
              "    <tr>\n",
              "      <th>4</th>\n",
              "      <td>NaN</td>\n",
              "      <td>210.0</td>\n",
              "      <td>0.89</td>\n",
              "      <td>0.93</td>\n",
              "    </tr>\n",
              "    <tr>\n",
              "      <th>5</th>\n",
              "      <td>NaN</td>\n",
              "      <td>260.0</td>\n",
              "      <td>0.90</td>\n",
              "      <td>0.93</td>\n",
              "    </tr>\n",
              "    <tr>\n",
              "      <th>6</th>\n",
              "      <td>NaN</td>\n",
              "      <td>310.0</td>\n",
              "      <td>0.90</td>\n",
              "      <td>0.93</td>\n",
              "    </tr>\n",
              "    <tr>\n",
              "      <th>7</th>\n",
              "      <td>NaN</td>\n",
              "      <td>360.0</td>\n",
              "      <td>0.90</td>\n",
              "      <td>0.93</td>\n",
              "    </tr>\n",
              "    <tr>\n",
              "      <th>8</th>\n",
              "      <td>NaN</td>\n",
              "      <td>410.0</td>\n",
              "      <td>0.90</td>\n",
              "      <td>0.93</td>\n",
              "    </tr>\n",
              "    <tr>\n",
              "      <th>9</th>\n",
              "      <td>NaN</td>\n",
              "      <td>460.0</td>\n",
              "      <td>0.90</td>\n",
              "      <td>0.93</td>\n",
              "    </tr>\n",
              "  </tbody>\n",
              "</table>\n",
              "</div>"
            ],
            "text/plain": [
              "   score  estimator  score_et  score_rf\n",
              "0    NaN       10.0      0.88      0.94\n",
              "1    NaN       60.0      0.89      0.94\n",
              "2    NaN      110.0      0.90      0.95\n",
              "3    NaN      160.0      0.90      0.94\n",
              "4    NaN      210.0      0.89      0.93\n",
              "5    NaN      260.0      0.90      0.93\n",
              "6    NaN      310.0      0.90      0.93\n",
              "7    NaN      360.0      0.90      0.93\n",
              "8    NaN      410.0      0.90      0.93\n",
              "9    NaN      460.0      0.90      0.93"
            ]
          },
          "metadata": {},
          "execution_count": 35
        }
      ]
    },
    {
      "cell_type": "markdown",
      "metadata": {
        "id": "kI57Ucobb_Jb"
      },
      "source": [
        "Feature importance"
      ]
    },
    {
      "cell_type": "code",
      "metadata": {
        "colab": {
          "base_uri": "https://localhost:8080/"
        },
        "id": "l8OEG-IVb_9B",
        "outputId": "0a434da1-3604-4371-de48-cd8aca8b2fbd"
      },
      "source": [
        "from sklearn.datasets import load_iris\n",
        "iris = load_iris()\n",
        "rnd_clf = RandomForestClassifier(n_estimators=500, random_state=42)\n",
        "rnd_clf.fit(iris[\"data\"], iris[\"target\"])\n",
        "for name, score in zip(iris[\"feature_names\"], rnd_clf.feature_importances_):\n",
        "    print(name, score)"
      ],
      "execution_count": 18,
      "outputs": [
        {
          "output_type": "stream",
          "name": "stdout",
          "text": [
            "sepal length (cm) 0.11249225099876375\n",
            "sepal width (cm) 0.02311928828251033\n",
            "petal length (cm) 0.4410304643639577\n",
            "petal width (cm) 0.4233579963547682\n"
          ]
        }
      ]
    },
    {
      "cell_type": "code",
      "metadata": {
        "colab": {
          "base_uri": "https://localhost:8080/"
        },
        "id": "RgWz5tufcDuE",
        "outputId": "aeebf45c-808e-49a0-d138-eae60b981aee"
      },
      "source": [
        "rnd_clf.feature_importances_"
      ],
      "execution_count": 19,
      "outputs": [
        {
          "output_type": "execute_result",
          "data": {
            "text/plain": [
              "array([0.11249225, 0.02311929, 0.44103046, 0.423358  ])"
            ]
          },
          "metadata": {},
          "execution_count": 19
        }
      ]
    },
    {
      "cell_type": "code",
      "metadata": {
        "colab": {
          "base_uri": "https://localhost:8080/"
        },
        "id": "fYb6TeZbgktD",
        "outputId": "2c72076f-b2fc-4236-f595-7c1ee63b9725"
      },
      "source": [
        "from sklearn.datasets import load_iris\n",
        "iris = load_iris()\n",
        "# rnd_clf = RandomForestClassifier(n_estimators=500, random_state=42)\n",
        "rnd_clf = ExtraTreesClassifier(n_estimators=500, random_state=42)\n",
        "rnd_clf.fit(iris[\"data\"], iris[\"target\"])\n",
        "for name, score in zip(iris[\"feature_names\"], rnd_clf.feature_importances_):\n",
        "    print(name, score)"
      ],
      "execution_count": 20,
      "outputs": [
        {
          "output_type": "stream",
          "name": "stdout",
          "text": [
            "sepal length (cm) 0.09171035483672016\n",
            "sepal width (cm) 0.054909352517916524\n",
            "petal length (cm) 0.4218042002574349\n",
            "petal width (cm) 0.4315760923879283\n"
          ]
        }
      ]
    },
    {
      "cell_type": "markdown",
      "metadata": {
        "id": "PIxGx9nAg14S"
      },
      "source": [
        "Boosting, AdaBoost"
      ]
    },
    {
      "cell_type": "code",
      "metadata": {
        "colab": {
          "base_uri": "https://localhost:8080/"
        },
        "id": "2caQtqEfg8wa",
        "outputId": "8aa24236-a4e2-48a5-b7f1-e44859ba7325"
      },
      "source": [
        "from sklearn.ensemble import AdaBoostClassifier\n",
        "\n",
        "ada_clf = AdaBoostClassifier(\n",
        "    DecisionTreeClassifier(max_depth=1), n_estimators=200,\n",
        "    algorithm=\"SAMME.R\", learning_rate=0.5, random_state=42)\n",
        "ada_clf.fit(X_train, y_train)"
      ],
      "execution_count": 21,
      "outputs": [
        {
          "output_type": "execute_result",
          "data": {
            "text/plain": [
              "AdaBoostClassifier(base_estimator=DecisionTreeClassifier(max_depth=1),\n",
              "                   learning_rate=0.5, n_estimators=200, random_state=42)"
            ]
          },
          "metadata": {},
          "execution_count": 21
        }
      ]
    },
    {
      "cell_type": "code",
      "metadata": {
        "colab": {
          "base_uri": "https://localhost:8080/",
          "height": 309
        },
        "id": "zqHRvmoehAip",
        "outputId": "e501b010-dc75-4476-cbe2-2636afa6848f"
      },
      "source": [
        "plot_decision_boundary(ada_clf, X, y)\n",
        "print(ada_clf.feature_importances_)"
      ],
      "execution_count": 22,
      "outputs": [
        {
          "output_type": "stream",
          "name": "stdout",
          "text": [
            "[0.785 0.215]\n"
          ]
        },
        {
          "output_type": "display_data",
          "data": {
            "image/png": "[encoded data removed]",
            "text/plain": [
              "<Figure size 432x288 with 1 Axes>"
            ]
          },
          "metadata": {
            "needs_background": "light"
          }
        }
      ]
    },
    {
      "cell_type": "code",
      "metadata": {
        "colab": {
          "base_uri": "https://localhost:8080/"
        },
        "id": "72Jr-E9Ouglt",
        "outputId": "71eb614d-a90c-45e1-df8f-d5968e3fafa9"
      },
      "source": [
        "from sklearn.ensemble import AdaBoostClassifier\n",
        "\n",
        "X_train, y_train = load_iris(return_X_y=True)\n",
        "\n",
        "ada_clf = AdaBoostClassifier(\n",
        "    DecisionTreeClassifier(max_depth=2), \n",
        "    n_estimators=7000, \n",
        "    algorithm=\"SAMME\", # algorithm='SAMME.R'\n",
        "    learning_rate=0.1, \n",
        "    random_state=42)\n",
        "\n",
        "\n",
        "ada_clf.fit(X_train[:, 2:], y_train)"
      ],
      "execution_count": 23,
      "outputs": [
        {
          "output_type": "execute_result",
          "data": {
            "text/plain": [
              "AdaBoostClassifier(algorithm='SAMME',\n",
              "                   base_estimator=DecisionTreeClassifier(max_depth=2),\n",
              "                   learning_rate=0.1, n_estimators=7000, random_state=42)"
            ]
          },
          "metadata": {},
          "execution_count": 23
        }
      ]
    },
    {
      "cell_type": "code",
      "metadata": {
        "colab": {
          "base_uri": "https://localhost:8080/",
          "height": 364
        },
        "id": "6kR0GMgnusls",
        "outputId": "60c6f12b-cae2-45fc-c2a0-242e40fa79db"
      },
      "source": [
        "plot_decision_boundary(ada_clf, X_train[:, 2:], y_train, axes=[0, 6, -2, 5])\n",
        "print(ada_clf.feature_importances_)\n",
        "print(accuracy_score(y_train, ada_clf.predict(X_train[:, 2:])))"
      ],
      "execution_count": 24,
      "outputs": [
        {
          "output_type": "stream",
          "name": "stderr",
          "text": [
            "/usr/local/lib/python3.7/dist-packages/sklearn/tree/_classes.py:631: RuntimeWarning: invalid value encountered in true_divide\n",
            "  return self.tree_.compute_feature_importances()\n"
          ]
        },
        {
          "output_type": "stream",
          "name": "stdout",
          "text": [
            "[nan nan]\n",
            "0.9933333333333333\n"
          ]
        },
        {
          "output_type": "display_data",
          "data": {
            "image/png": "[encoded data removed]",
            "text/plain": [
              "<Figure size 432x288 with 1 Axes>"
            ]
          },
          "metadata": {
            "needs_background": "light"
          }
        }
      ]
    },
    {
      "cell_type": "code",
      "metadata": {
        "colab": {
          "base_uri": "https://localhost:8080/"
        },
        "id": "uL2VRlF_x_bG",
        "outputId": "cac373e8-a149-459f-950e-8d5b0acf71e3"
      },
      "source": [
        "from sklearn.ensemble import AdaBoostClassifier\n",
        "\n",
        "# X_train, y_train = load_iris(return_X_y=True)\n",
        "X_train, y_train = make_moons(n_samples=500, noise=0.30, random_state=42)\n",
        "\n",
        "ada_clf = AdaBoostClassifier(\n",
        "    DecisionTreeClassifier(max_depth=2), \n",
        "    n_estimators=2000, # 200\n",
        "    algorithm=\"SAMME\", # algorithm=\"SAMME.R\"\n",
        "    learning_rate=0.01, # 0.1\n",
        "    random_state=42)\n",
        "\n",
        "# ada_clf.fit(X_train[:, 2:], y_train)\n",
        "ada_clf.fit(X_train, y_train)"
      ],
      "execution_count": 25,
      "outputs": [
        {
          "output_type": "execute_result",
          "data": {
            "text/plain": [
              "AdaBoostClassifier(algorithm='SAMME',\n",
              "                   base_estimator=DecisionTreeClassifier(max_depth=2),\n",
              "                   learning_rate=0.01, n_estimators=2000, random_state=42)"
            ]
          },
          "metadata": {},
          "execution_count": 25
        }
      ]
    },
    {
      "cell_type": "code",
      "metadata": {
        "colab": {
          "base_uri": "https://localhost:8080/",
          "height": 327
        },
        "id": "45RnGGZFyYz9",
        "outputId": "d141ad11-2452-4aae-bb94-a5b920318f13"
      },
      "source": [
        "plot_decision_boundary(ada_clf, X_train, y_train, axes=[-2, 3, -2, 3]) # X_train[:, 2:]\n",
        "print(ada_clf.feature_importances_)\n",
        "print(accuracy_score(y_train, ada_clf.predict(X_train))) # X_train[:, 2:]"
      ],
      "execution_count": 28,
      "outputs": [
        {
          "output_type": "stream",
          "name": "stdout",
          "text": [
            "[0.52175068 0.47824932]\n",
            "0.926\n"
          ]
        },
        {
          "output_type": "display_data",
          "data": {
            "image/png": "[encoded data removed]",
            "text/plain": [
              "<Figure size 432x288 with 1 Axes>"
            ]
          },
          "metadata": {
            "needs_background": "light"
          }
        }
      ]
    },
    {
      "cell_type": "code",
      "metadata": {
        "colab": {
          "base_uri": "https://localhost:8080/"
        },
        "id": "aKdH736UnXbt",
        "outputId": "d473b16e-8319-48ac-eba0-0dd5c5404427"
      },
      "source": [
        "from sklearn.ensemble import AdaBoostClassifier\n",
        "from sklearn.datasets import make_moons\n",
        "\n",
        "# X_train, y_train = load_iris(return_X_y=True)\n",
        "X_train, y_train = make_moons(n_samples=500, noise=0.30, random_state=42)\n",
        "\n",
        "ada_clf = AdaBoostClassifier(\n",
        "    DecisionTreeClassifier(max_depth=2), \n",
        "    n_estimators=2000, # 200\n",
        "    algorithm=\"SAMME.R\", # algorithm=\"SAMME.R\"\n",
        "    learning_rate=0.5, # 0.1\n",
        "    random_state=42)\n",
        "\n",
        "# ada_clf.fit(X_train[:, 2:], y_train)\n",
        "ada_clf.fit(X_train, y_train)"
      ],
      "execution_count": 30,
      "outputs": [
        {
          "output_type": "execute_result",
          "data": {
            "text/plain": [
              "AdaBoostClassifier(base_estimator=DecisionTreeClassifier(max_depth=2),\n",
              "                   learning_rate=0.5, n_estimators=2000, random_state=42)"
            ]
          },
          "metadata": {},
          "execution_count": 30
        }
      ]
    },
    {
      "cell_type": "code",
      "metadata": {
        "colab": {
          "base_uri": "https://localhost:8080/",
          "height": 763
        },
        "id": "orrB11ICnIS_",
        "outputId": "1b5c467d-e847-4381-c26c-ceed08f941a9"
      },
      "source": [
        "plt.figure(figsize=(12, 12))\n",
        "plot_decision_boundary(ada_clf, X_train, y_train, axes=[-2, 3, -1.5, 2]) \n",
        "print(ada_clf.feature_importances_)\n",
        "print(accuracy_score(y_train, ada_clf.predict(X_train)))"
      ],
      "execution_count": 35,
      "outputs": [
        {
          "output_type": "stream",
          "name": "stdout",
          "text": [
            "[0.53989377 0.46010623]\n",
            "1.0\n"
          ]
        },
        {
          "output_type": "display_data",
          "data": {
            "image/png": "[encoded data removed]",
            "text/plain": [
              "<Figure size 864x864 with 1 Axes>"
            ]
          },
          "metadata": {
            "needs_background": "light"
          }
        }
      ]
    },
    {
      "cell_type": "markdown",
      "metadata": {
        "id": "_DZQKujAxnbW"
      },
      "source": [
        "Gradient Boosting"
      ]
    },
    {
      "cell_type": "code",
      "metadata": {
        "id": "PXNHn03buSSC"
      },
      "source": [
        "import numpy as np\n",
        "import matplotlib.pyplot as plt\n",
        "\n",
        "np.random.seed(42)\n",
        "X = np.random.rand(100, 1) - 0.5\n",
        "y = 3*X[:, 0]**2 + 0.05 * np.random.randn(100)"
      ],
      "execution_count": 36,
      "outputs": []
    },
    {
      "cell_type": "code",
      "metadata": {
        "colab": {
          "base_uri": "https://localhost:8080/"
        },
        "id": "WJlJkJMzuT9-",
        "outputId": "3feda952-7865-4cba-e4de-7842a06c5ccb"
      },
      "source": [
        "from sklearn.tree import DecisionTreeRegressor\n",
        "\n",
        "tree_reg1 = DecisionTreeRegressor(max_depth=2, random_state=42)\n",
        "tree_reg1.fit(X, y)"
      ],
      "execution_count": 37,
      "outputs": [
        {
          "output_type": "execute_result",
          "data": {
            "text/plain": [
              "DecisionTreeRegressor(max_depth=2, random_state=42)"
            ]
          },
          "metadata": {},
          "execution_count": 37
        }
      ]
    },
    {
      "cell_type": "code",
      "metadata": {
        "colab": {
          "base_uri": "https://localhost:8080/"
        },
        "id": "4y3ye-sDuZkO",
        "outputId": "68ad35f4-a8f2-4ea8-9822-f44b45b42628"
      },
      "source": [
        "y2 = y - tree_reg1.predict(X)\n",
        "tree_reg2 = DecisionTreeRegressor(max_depth=2, random_state=42)\n",
        "tree_reg2.fit(X, y2)"
      ],
      "execution_count": 38,
      "outputs": [
        {
          "output_type": "execute_result",
          "data": {
            "text/plain": [
              "DecisionTreeRegressor(max_depth=2, random_state=42)"
            ]
          },
          "metadata": {},
          "execution_count": 38
        }
      ]
    },
    {
      "cell_type": "code",
      "metadata": {
        "colab": {
          "base_uri": "https://localhost:8080/"
        },
        "id": "pI6uLa7SufZt",
        "outputId": "e9d06b6b-939d-4d3a-d90b-e9c905bfc379"
      },
      "source": [
        "y3 = y2 - tree_reg2.predict(X)\n",
        "tree_reg3 = DecisionTreeRegressor(max_depth=2, random_state=42)\n",
        "tree_reg3.fit(X, y3)"
      ],
      "execution_count": 39,
      "outputs": [
        {
          "output_type": "execute_result",
          "data": {
            "text/plain": [
              "DecisionTreeRegressor(max_depth=2, random_state=42)"
            ]
          },
          "metadata": {},
          "execution_count": 39
        }
      ]
    },
    {
      "cell_type": "code",
      "metadata": {
        "id": "CE8yz8aFuisJ"
      },
      "source": [
        "X_new = np.array([[0.4]])"
      ],
      "execution_count": 40,
      "outputs": []
    },
    {
      "cell_type": "code",
      "metadata": {
        "colab": {
          "base_uri": "https://localhost:8080/"
        },
        "id": "2ZPvdlrhumPS",
        "outputId": "e1679a44-539a-4318-99da-c1433915c9d1"
      },
      "source": [
        "y_pred = sum(tree.predict(X_new) for tree in (tree_reg1, tree_reg2, tree_reg3))\n",
        "y_pred"
      ],
      "execution_count": 41,
      "outputs": [
        {
          "output_type": "execute_result",
          "data": {
            "text/plain": [
              "array([0.49995198])"
            ]
          },
          "metadata": {},
          "execution_count": 41
        }
      ]
    },
    {
      "cell_type": "code",
      "metadata": {
        "colab": {
          "base_uri": "https://localhost:8080/",
          "height": 287
        },
        "id": "jOYsN381upte",
        "outputId": "8d5d155d-9904-4564-dfc2-bb893f3f9701"
      },
      "source": [
        "plt.plot(X[:, 0], y, \"b.\", label=None)\n",
        "plt.plot(X_new, y_pred, \"rx\", linewidth=2, label=None)"
      ],
      "execution_count": 42,
      "outputs": [
        {
          "output_type": "execute_result",
          "data": {
            "text/plain": [
              "[<matplotlib.lines.Line2D at 0x7f907ede6110>]"
            ]
          },
          "metadata": {},
          "execution_count": 42
        },
        {
          "output_type": "display_data",
          "data": {
            "image/png": "[encoded data removed]",
            "text/plain": [
              "<Figure size 432x288 with 1 Axes>"
            ]
          },
          "metadata": {
            "needs_background": "light"
          }
        }
      ]
    },
    {
      "cell_type": "code",
      "metadata": {
        "colab": {
          "base_uri": "https://localhost:8080/"
        },
        "id": "LAl3cOBWuylj",
        "outputId": "1a2f825d-71ec-4798-938f-40dc128c3e04"
      },
      "source": [
        "from sklearn.ensemble import GradientBoostingRegressor\n",
        "\n",
        "gbrt = GradientBoostingRegressor(max_depth=2, n_estimators=5, learning_rate=1.0, random_state=42)\n",
        "gbrt.fit(X, y)"
      ],
      "execution_count": 43,
      "outputs": [
        {
          "output_type": "execute_result",
          "data": {
            "text/plain": [
              "GradientBoostingRegressor(learning_rate=1.0, max_depth=2, n_estimators=5,\n",
              "                          random_state=42)"
            ]
          },
          "metadata": {},
          "execution_count": 43
        }
      ]
    },
    {
      "cell_type": "code",
      "metadata": {
        "colab": {
          "base_uri": "https://localhost:8080/"
        },
        "id": "b8yUiCX9uz-6",
        "outputId": "48a6a8dc-8e7f-4840-c479-27507bdee436"
      },
      "source": [
        "y2 = y - tree_reg1.predict(X)\n",
        "tree_reg2 = DecisionTreeRegressor(max_depth=2, random_state=42)\n",
        "tree_reg2.fit(X, y2) # passing residual errors"
      ],
      "execution_count": 44,
      "outputs": [
        {
          "output_type": "execute_result",
          "data": {
            "text/plain": [
              "DecisionTreeRegressor(max_depth=2, random_state=42)"
            ]
          },
          "metadata": {},
          "execution_count": 44
        }
      ]
    },
    {
      "cell_type": "code",
      "metadata": {
        "colab": {
          "base_uri": "https://localhost:8080/"
        },
        "id": "SZ2iV04Su-zV",
        "outputId": "051a5844-7550-474a-d1e1-2b0d7ad824de"
      },
      "source": [
        "y3 = y2 - tree_reg2.predict(X)\n",
        "tree_reg3 = DecisionTreeRegressor(max_depth=2, random_state=42)\n",
        "tree_reg3.fit(X, y3) # passing another level of resitual errors"
      ],
      "execution_count": 45,
      "outputs": [
        {
          "output_type": "execute_result",
          "data": {
            "text/plain": [
              "DecisionTreeRegressor(max_depth=2, random_state=42)"
            ]
          },
          "metadata": {},
          "execution_count": 45
        }
      ]
    },
    {
      "cell_type": "code",
      "metadata": {
        "id": "IZS3aguevEVt"
      },
      "source": [
        "X_new = np.array([[0.4]])"
      ],
      "execution_count": null,
      "outputs": []
    },
    {
      "cell_type": "code",
      "metadata": {
        "colab": {
          "base_uri": "https://localhost:8080/"
        },
        "id": "_DM39Fd5vFNn",
        "outputId": "2bdd040c-7460-4615-b614-9edc26957cb4"
      },
      "source": [
        "y_pred = sum(tree.predict(X_new) for tree in (tree_reg1, tree_reg2, tree_reg3))\n",
        "y_pred"
      ],
      "execution_count": 46,
      "outputs": [
        {
          "output_type": "execute_result",
          "data": {
            "text/plain": [
              "array([0.49995198])"
            ]
          },
          "metadata": {},
          "execution_count": 46
        }
      ]
    },
    {
      "cell_type": "code",
      "metadata": {
        "colab": {
          "base_uri": "https://localhost:8080/",
          "height": 287
        },
        "id": "Zlk4Dd0vvJX9",
        "outputId": "64d2cd41-a8d6-4222-d039-f95dbd31d7f0"
      },
      "source": [
        "plt.plot(X[:, 0], y, \"b.\", label=None)\n",
        "plt.plot(X_new, y_pred, \"rx\", linewidth=2, label=None)"
      ],
      "execution_count": 48,
      "outputs": [
        {
          "output_type": "execute_result",
          "data": {
            "text/plain": [
              "[<matplotlib.lines.Line2D at 0x7f907eff8350>]"
            ]
          },
          "metadata": {},
          "execution_count": 48
        },
        {
          "output_type": "display_data",
          "data": {
            "image/png": "[encoded data removed]",
            "text/plain": [
              "<Figure size 432x288 with 1 Axes>"
            ]
          },
          "metadata": {
            "needs_background": "light"
          }
        }
      ]
    },
    {
      "cell_type": "code",
      "metadata": {
        "colab": {
          "base_uri": "https://localhost:8080/"
        },
        "id": "MxkBohq5vphT",
        "outputId": "52712de1-3208-4e3a-8cb6-73d19973fc6c"
      },
      "source": [
        "from sklearn.ensemble import GradientBoostingRegressor\n",
        "\n",
        "gbrt = GradientBoostingRegressor(\n",
        "    max_depth=2, #tree high\n",
        "    n_estimators=5, \n",
        "    learning_rate=1.0, \n",
        "    random_state=42)\n",
        "gbrt.fit(X, y)"
      ],
      "execution_count": 49,
      "outputs": [
        {
          "output_type": "execute_result",
          "data": {
            "text/plain": [
              "GradientBoostingRegressor(learning_rate=1.0, max_depth=2, n_estimators=5,\n",
              "                          random_state=42)"
            ]
          },
          "metadata": {},
          "execution_count": 49
        }
      ]
    },
    {
      "cell_type": "code",
      "metadata": {
        "colab": {
          "base_uri": "https://localhost:8080/",
          "height": 287
        },
        "id": "5KnjTtvmvreS",
        "outputId": "baf6d8a1-413b-496a-80df-2e23904e2d6e"
      },
      "source": [
        "plt.plot(X[:, 0], y, \"b.\", label=None)\n",
        "plt.plot(X, gbrt.predict(X), \"rx\", linewidth=2, label=None)"
      ],
      "execution_count": 50,
      "outputs": [
        {
          "output_type": "execute_result",
          "data": {
            "text/plain": [
              "[<matplotlib.lines.Line2D at 0x7f907f1edcd0>]"
            ]
          },
          "metadata": {},
          "execution_count": 50
        },
        {
          "output_type": "display_data",
          "data": {
            "image/png": "[encoded data removed]",
            "text/plain": [
              "<Figure size 432x288 with 1 Axes>"
            ]
          },
          "metadata": {
            "needs_background": "light"
          }
        }
      ]
    },
    {
      "cell_type": "code",
      "metadata": {
        "colab": {
          "base_uri": "https://localhost:8080/"
        },
        "id": "tAsX6JnVwjJk",
        "outputId": "2eb31e54-de7d-4609-feca-3b240b65c898"
      },
      "source": [
        "gbrt = GradientBoostingRegressor(\n",
        "    max_depth=2, #tree high\n",
        "    n_estimators=1000, \n",
        "    learning_rate=0.1, \n",
        "    random_state=42)\n",
        "gbrt.fit(X, y)"
      ],
      "execution_count": 97,
      "outputs": [
        {
          "output_type": "execute_result",
          "data": {
            "text/plain": [
              "GradientBoostingRegressor(max_depth=2, n_estimators=1000, random_state=42)"
            ]
          },
          "metadata": {},
          "execution_count": 97
        }
      ]
    },
    {
      "cell_type": "code",
      "metadata": {
        "colab": {
          "base_uri": "https://localhost:8080/",
          "height": 287
        },
        "id": "KBEY53X1wpvZ",
        "outputId": "9c4a98df-4dcc-47e3-9455-2fc8fec1b111"
      },
      "source": [
        "plt.plot(X[:, 0], y, \"b.\", label=None)\n",
        "plt.plot(X, gbrt.predict(X), \"rx\", linewidth=2, label=None)"
      ],
      "execution_count": 98,
      "outputs": [
        {
          "output_type": "execute_result",
          "data": {
            "text/plain": [
              "[<matplotlib.lines.Line2D at 0x7f9075538310>]"
            ]
          },
          "metadata": {},
          "execution_count": 98
        },
        {
          "output_type": "display_data",
          "data": {
            "image/png": "[encoded data removed]",
            "text/plain": [
              "<Figure size 432x288 with 1 Axes>"
            ]
          },
          "metadata": {
            "needs_background": "light"
          }
        }
      ]
    },
    {
      "cell_type": "code",
      "metadata": {
        "colab": {
          "base_uri": "https://localhost:8080/"
        },
        "id": "vkB5fiXgx_Aj",
        "outputId": "748baae7-dd8a-4056-9059-a68a9e39e2c1"
      },
      "source": [
        "from sklearn.tree import DecisionTreeClassifier\n",
        " \n",
        "dt_clf = DecisionTreeClassifier(max_depth=3)\n",
        "dt_clf.fit(X_train, y_train)\n",
        "\n",
        "print(accuracy_score(y_test, dt_clf.predict(X_test)))"
      ],
      "execution_count": 68,
      "outputs": [
        {
          "output_type": "stream",
          "name": "stdout",
          "text": [
            "0.92\n"
          ]
        }
      ]
    },
    {
      "cell_type": "code",
      "metadata": {
        "colab": {
          "base_uri": "https://localhost:8080/",
          "height": 693
        },
        "id": "KpDvTUr_4Ils",
        "outputId": "73b8a1a7-9237-412f-8831-975b710ebbc6"
      },
      "source": [
        "from sklearn.model_selection import train_test_split\n",
        "from sklearn.metrics import r2_score, mean_absolute_error, mean_squared_error\n",
        "from sklearn.ensemble import GradientBoostingRegressor\n",
        "import numpy as np\n",
        "\n",
        "import numpy as np\n",
        "import matplotlib.pyplot as plt\n",
        "\n",
        "np.random.seed(42)\n",
        "X = np.random.rand(100, 1) - 0.5\n",
        "y = 3*X[:, 0]**2 + 0.05 * np.random.randn(100)\n",
        "\n",
        "plt.scatter(X, y)\n",
        "plt.show()\n",
        "\n",
        "## CHANGE ESTIMATORS\n",
        "\n",
        "gbrt = GradientBoostingRegressor(\n",
        "    max_depth=3, # tree height\n",
        "    n_estimators=10, \n",
        "    learning_rate=1, \n",
        "    random_state=42\n",
        ")\n",
        "gbrt.fit(X, y)\n",
        "\n",
        "x_train, x_test, y_train, y_test = train_test_split(X, y, test_size=0.3, random_state=42)\n",
        "\n",
        "test_score = np.zeros((gbrt.get_params()[\"n_estimators\"],), dtype=np.float64)\n",
        "for i, y_pred in enumerate(gbrt.staged_predict(x_test)):\n",
        "    test_score[i] = gbrt.loss_(y_test, y_pred)\n",
        "\n",
        "fig = plt.figure(figsize=(6, 6))\n",
        "plt.subplot(1, 1, 1)\n",
        "plt.plot(\n",
        "    np.arange(gbrt.get_params()[\"n_estimators\"]) + 1,\n",
        "    gbrt.train_score_,\n",
        "    \"b-\",\n",
        "    label=\"train\",\n",
        ")\n",
        "plt.plot(\n",
        "    np.arange(gbrt.get_params()[\"n_estimators\"]) + 1, test_score, \"r-\", label=\"test\"\n",
        ")\n",
        "plt.legend(loc=\"upper right\")\n",
        "plt.xlabel(\"X\")\n",
        "plt.ylabel(\"Y\")\n",
        "fig.tight_layout()\n",
        "plt.show()"
      ],
      "execution_count": 88,
      "outputs": [
        {
          "output_type": "display_data",
          "data": {
            "image/png": "[encoded data removed]",
            "text/plain": [
              "<Figure size 432x288 with 1 Axes>"
            ]
          },
          "metadata": {
            "needs_background": "light"
          }
        },
        {
          "output_type": "display_data",
          "data": {
            "image/png": "[encoded data removed]",
            "text/plain": [
              "<Figure size 432x432 with 1 Axes>"
            ]
          },
          "metadata": {
            "needs_background": "light"
          }
        }
      ]
    },
    {
      "cell_type": "code",
      "metadata": {
        "colab": {
          "base_uri": "https://localhost:8080/"
        },
        "id": "0vFWRQV-4RHN",
        "outputId": "e9be01d0-539f-4ac4-d6b6-6136616dab74"
      },
      "source": [
        "print(\"r2_score\", r2_score(y_test, gbrt.predict(x_test)))\n",
        "print(\"mean_squared_error\", mean_squared_error(y_test, gbrt.predict(x_test)))\n",
        "print(\"mean_absolute_error\", mean_absolute_error(y_test, gbrt.predict(x_test)))"
      ],
      "execution_count": 89,
      "outputs": [
        {
          "output_type": "stream",
          "name": "stdout",
          "text": [
            "r2_score 0.9939955677103536\n",
            "mean_squared_error 0.0003356139792650786\n",
            "mean_absolute_error 0.014775327670774763\n"
          ]
        }
      ]
    },
    {
      "cell_type": "code",
      "metadata": {
        "colab": {
          "base_uri": "https://localhost:8080/",
          "height": 324
        },
        "id": "nXl8ucID7ovR",
        "outputId": "225c2e53-e475-4584-85d7-93ac9450cdd1"
      },
      "source": [
        "from sklearn.model_selection import train_test_split\n",
        "from sklearn.metrics import r2_score, mean_absolute_error, mean_squared_error\n",
        "from sklearn.ensemble import GradientBoostingRegressor\n",
        "import numpy as np\n",
        "import matplotlib.pyplot as plt\n",
        "\n",
        "np.random.seed(42)\n",
        "X = np.random.rand(100, 1) - 0.5\n",
        "Y = 3*X[:, 0]**2 + 0.05 * np.random.randn(100)\n",
        "\n",
        "# plt.show()\n",
        "\n",
        "## CHANGE ESTIMATORS\n",
        "\n",
        "gbrt = GradientBoostingRegressor(\n",
        "    max_depth=2, # tree height\n",
        "    n_estimators=1000, \n",
        "    learning_rate=0.01, \n",
        "    random_state=42\n",
        ")\n",
        "\n",
        "x_train, x_test, y_train, y_test = train_test_split(X, Y, test_size=0.3, random_state=42)\n",
        "gbrt.fit(x_train, y_train)\n",
        "\n",
        "pred_y = gbrt.predict(x_test)\n",
        "\n",
        "dots = []\n",
        "\n",
        "for x, y in zip(x_test, pred_y):\n",
        "  dots.append((x, y))\n",
        "\n",
        "dots = sorted(dots, key=lambda x: x[0])\n",
        "\n",
        "xx = []\n",
        "yy = []\n",
        "\n",
        "for x, y in dots:\n",
        "  xx.append(x)\n",
        "  yy.append(y)\n",
        "\n",
        "# plt.plot(X[:, 0], y, \"b.\", label=None)\n",
        "plt.scatter(X, Y)\n",
        "plt.plot(xx, yy, \"r-\")\n",
        "plt.show()\n",
        "print(\"r2_score\", r2_score(y_test, gbrt.predict(x_test)))\n",
        "print(\"mean_squared_error\", mean_squared_error(y_test, gbrt.predict(x_test)))\n",
        "print(\"mean_absolute_error\", mean_absolute_error(y_test, gbrt.predict(x_test)))"
      ],
      "execution_count": 105,
      "outputs": [
        {
          "output_type": "display_data",
          "data": {
            "image/png": "[encoded data removed]",
            "text/plain": [
              "<Figure size 432x288 with 1 Axes>"
            ]
          },
          "metadata": {
            "needs_background": "light"
          }
        },
        {
          "output_type": "stream",
          "name": "stdout",
          "text": [
            "r2_score 0.9477783936776208\n",
            "mean_squared_error 0.002918893953003502\n",
            "mean_absolute_error 0.04134527321212556\n"
          ]
        }
      ]
    },
    {
      "cell_type": "markdown",
      "metadata": {
        "id": "4ZHEpwBi-PuP"
      },
      "source": [
        "### Early stoping"
      ]
    },
    {
      "cell_type": "code",
      "metadata": {
        "id": "Szl8zsL9-R_1"
      },
      "source": [
        "import numpy as np\n",
        "import matplotlib.pyplot as plt\n",
        "\n",
        "np.random.seed(42)\n",
        "X = np.random.rand(100, 1) - 0.5\n",
        "y = 3*X[:, 0]**2 + 0.05 * np.random.randn(100)"
      ],
      "execution_count": 109,
      "outputs": []
    },
    {
      "cell_type": "code",
      "metadata": {
        "colab": {
          "base_uri": "https://localhost:8080/"
        },
        "id": "ja538j5p-qDB",
        "outputId": "60ac438e-026a-430c-a5e7-8e9cc2891fd6"
      },
      "source": [
        "from sklearn.ensemble import GradientBoostingRegressor\n",
        "\n",
        "gbrt = GradientBoostingRegressor(max_depth=2, n_estimators=5, learning_rate=1.0, random_state=42)\n",
        "gbrt.fit(X, y)\n",
        "\n",
        "gbrt_slow = GradientBoostingRegressor(max_depth=2, n_estimators=200, learning_rate=0.1, random_state=42)\n",
        "gbrt_slow.fit(X, y)"
      ],
      "execution_count": 110,
      "outputs": [
        {
          "output_type": "execute_result",
          "data": {
            "text/plain": [
              "GradientBoostingRegressor(max_depth=2, n_estimators=200, random_state=42)"
            ]
          },
          "metadata": {},
          "execution_count": 110
        }
      ]
    },
    {
      "cell_type": "code",
      "metadata": {
        "id": "8kWhSi-k-Vvm"
      },
      "source": [
        "def plot_predictions(regressors, X, y, axes, label=None, style=\"r-\", data_style=\"b.\", data_label=None):\n",
        "    x1 = np.linspace(axes[0], axes[1], 500)\n",
        "    y_pred = sum(regressor.predict(x1.reshape(-1, 1)) for regressor in regressors)\n",
        "    plt.plot(X[:, 0], y, data_style, label=data_label)\n",
        "    plt.plot(x1, y_pred, style, linewidth=2, label=label)\n",
        "    if label or data_label:\n",
        "        plt.legend(loc=\"upper center\", fontsize=16)\n",
        "    plt.axis(axes)"
      ],
      "execution_count": 112,
      "outputs": []
    },
    {
      "cell_type": "code",
      "metadata": {
        "colab": {
          "base_uri": "https://localhost:8080/",
          "height": 302
        },
        "id": "a9s0d5Zr-ajS",
        "outputId": "09b92984-caaa-4123-923c-4497d8b35101"
      },
      "source": [
        "fix, axes = plt.subplots(ncols=2, figsize=(10,4), sharey=True)\n",
        "\n",
        "plt.sca(axes[0])\n",
        "plot_predictions([gbrt], X, y, axes=[-0.5, 0.5, -0.1, 0.8], label=\"Ensemble predictions\")\n",
        "plt.title(\"learning_rate={}, n_estimators={}\".format(gbrt.learning_rate, gbrt.n_estimators), fontsize=14)\n",
        "plt.xlabel(\"$x_1$\", fontsize=16)\n",
        "plt.ylabel(\"$y$\", fontsize=16, rotation=0)\n",
        "\n",
        "plt.sca(axes[1])\n",
        "plot_predictions([gbrt_slow], X, y, axes=[-0.5, 0.5, -0.1, 0.8])\n",
        "plt.title(\"learning_rate={}, n_estimators={}\".format(gbrt_slow.learning_rate, gbrt_slow.n_estimators), fontsize=14)\n",
        "plt.xlabel(\"$x_1$\", fontsize=16)\n",
        "\n",
        "plt.show()"
      ],
      "execution_count": 113,
      "outputs": [
        {
          "output_type": "display_data",
          "data": {
            "image/png": "[encoded data removed]",
            "text/plain": [
              "<Figure size 720x288 with 2 Axes>"
            ]
          },
          "metadata": {
            "needs_background": "light"
          }
        }
      ]
    },
    {
      "cell_type": "code",
      "metadata": {
        "colab": {
          "base_uri": "https://localhost:8080/"
        },
        "id": "TfWUcQMF_jRP",
        "outputId": "c901d60c-d22f-480e-b9c1-b644eb12ff2a"
      },
      "source": [
        "import numpy as np\n",
        "from sklearn.model_selection import train_test_split\n",
        "from sklearn.metrics import mean_squared_error\n",
        "\n",
        "X_train, X_val, y_train, y_val = train_test_split(X, y, random_state=49)\n",
        "\n",
        "gbrt = GradientBoostingRegressor(max_depth=2, n_estimators=120, random_state=42)\n",
        "gbrt.fit(X_train, y_train)\n",
        "\n",
        "errors = [mean_squared_error(y_val, y_pred) for y_pred in gbrt.staged_predict(X_val)]\n",
        "bst_n_estimators = np.argmin(errors) + 1\n",
        "\n",
        "gbrt_best = GradientBoostingRegressor(max_depth=2, n_estimators=bst_n_estimators, random_state=42)\n",
        "gbrt_best.fit(X_train, y_train)"
      ],
      "execution_count": 114,
      "outputs": [
        {
          "output_type": "execute_result",
          "data": {
            "text/plain": [
              "GradientBoostingRegressor(max_depth=2, n_estimators=56, random_state=42)"
            ]
          },
          "metadata": {},
          "execution_count": 114
        }
      ]
    },
    {
      "cell_type": "code",
      "metadata": {
        "id": "l_xBrSnY_mT4"
      },
      "source": [
        "min_error = np.min(errors)"
      ],
      "execution_count": 116,
      "outputs": []
    },
    {
      "cell_type": "code",
      "metadata": {
        "colab": {
          "base_uri": "https://localhost:8080/",
          "height": 302
        },
        "id": "Pinb90vH_sl2",
        "outputId": "a50d4334-4382-4365-9b66-6c72182bf741"
      },
      "source": [
        "plt.figure(figsize=(12, 4))\n",
        "\n",
        "plt.subplot(121)\n",
        "plt.plot(errors, \"b.-\")\n",
        "plt.plot([bst_n_estimators, bst_n_estimators], [0, min_error], \"k--\")\n",
        "plt.plot([0, 120], [min_error, min_error], \"k--\")\n",
        "plt.plot(bst_n_estimators, min_error, \"ko\")\n",
        "plt.text(bst_n_estimators, min_error*1.2, \"Minimum\", ha=\"center\", fontsize=14)\n",
        "plt.axis([0, 120, 0, 0.01])\n",
        "plt.xlabel(\"Number of trees\")\n",
        "plt.ylabel(\"Error\", fontsize=16)\n",
        "plt.title(\"Validation error\", fontsize=14)\n",
        "\n",
        "plt.subplot(122)\n",
        "plot_predictions([gbrt_best], X, y, axes=[-0.5, 0.5, -0.1, 0.8])\n",
        "plt.title(\"Best model (%d trees)\" % bst_n_estimators, fontsize=14)\n",
        "plt.ylabel(\"$y$\", fontsize=16, rotation=0)\n",
        "plt.xlabel(\"$x_1$\", fontsize=16)\n",
        "\n",
        "plt.show()"
      ],
      "execution_count": 117,
      "outputs": [
        {
          "output_type": "display_data",
          "data": {
            "image/png": "[encoded data removed]",
            "text/plain": [
              "<Figure size 864x288 with 2 Axes>"
            ]
          },
          "metadata": {
            "needs_background": "light"
          }
        }
      ]
    },
    {
      "cell_type": "code",
      "metadata": {
        "id": "70kLQV5nB57O"
      },
      "source": [
        "gbrt = GradientBoostingRegressor(max_depth=2, warm_start=True, random_state=42, learning_rate=0.05)\n",
        "\n",
        "min_val_error = float(\"inf\")\n",
        "error_going_up = 0\n",
        "stop_after_error_was_going_up_times = 6\n",
        "for n_estimators in range(1, 300):\n",
        "    gbrt.n_estimators = n_estimators\n",
        "    gbrt.fit(X_train, y_train)\n",
        "    y_pred = gbrt.predict(X_val)\n",
        "    val_error = mean_squared_error(y_val, y_pred)\n",
        "    if val_error < min_val_error:\n",
        "        min_val_error = val_error\n",
        "        error_going_up = 0\n",
        "    else:\n",
        "        error_going_up += 1\n",
        "        if error_going_up == stop_after_error_was_going_up_times:\n",
        "            break  # early stopping"
      ],
      "execution_count": 133,
      "outputs": []
    },
    {
      "cell_type": "code",
      "metadata": {
        "colab": {
          "base_uri": "https://localhost:8080/"
        },
        "id": "EzuZiawZB9sm",
        "outputId": "12e0ab66-b037-4a13-aa88-96bd74f3aeb3"
      },
      "source": [
        "print(gbrt.n_estimators)"
      ],
      "execution_count": 134,
      "outputs": [
        {
          "output_type": "stream",
          "name": "stdout",
          "text": [
            "121\n"
          ]
        }
      ]
    },
    {
      "cell_type": "code",
      "metadata": {
        "colab": {
          "base_uri": "https://localhost:8080/"
        },
        "id": "d7LqSjlNCClT",
        "outputId": "609ddcee-5a1e-4e7b-f7a3-0927423be79b"
      },
      "source": [
        "print(\"Minimum validation MSE:\", min_val_error)"
      ],
      "execution_count": 135,
      "outputs": [
        {
          "output_type": "stream",
          "name": "stdout",
          "text": [
            "Minimum validation MSE: 0.002694283337938586\n"
          ]
        }
      ]
    },
    {
      "cell_type": "markdown",
      "metadata": {
        "id": "PHRBgCycHTlU"
      },
      "source": [
        "### XGBoost"
      ]
    },
    {
      "cell_type": "code",
      "metadata": {
        "colab": {
          "base_uri": "https://localhost:8080/"
        },
        "id": "zUiYNdc8HW1n",
        "outputId": "fda8290b-4a04-4181-81bd-12b373f6cc5f"
      },
      "source": [
        "from xgboost import XGBRegressor as XGBR\n",
        "\n",
        "xgb_reg = XGBR(random_state=42)\n",
        "xgb_reg.fit(X_train, y_train)\n",
        "y_pred = xgb_reg.predict(X_val)\n",
        "val_error = mean_squared_error(y_val, y_pred) # Not shown\n",
        "print(\"Validation MSE:\", val_error)           # Not shown"
      ],
      "execution_count": 136,
      "outputs": [
        {
          "output_type": "stream",
          "name": "stdout",
          "text": [
            "[19:13:33] WARNING: /workspace/src/objective/regression_obj.cu:152: reg:linear is now deprecated in favor of reg:squarederror.\n",
            "Validation MSE: 0.0028512559726563943\n"
          ]
        }
      ]
    },
    {
      "cell_type": "code",
      "metadata": {
        "colab": {
          "base_uri": "https://localhost:8080/"
        },
        "id": "Rf-mmjrTHerB",
        "outputId": "a53b3b9f-a5e2-47f3-c1bc-7ae2eed2871a"
      },
      "source": [
        "xgb_reg.fit(X_train, y_train, eval_set=[(X_val, y_val)], early_stopping_rounds=2)\n",
        "y_pred = xgb_reg.predict(X_val)\n",
        "val_error = mean_squared_error(y_val, y_pred)\n",
        "print(\"Validation MSE:\", val_error)"
      ],
      "execution_count": 137,
      "outputs": [
        {
          "output_type": "stream",
          "name": "stdout",
          "text": [
            "[19:14:07] WARNING: /workspace/src/objective/regression_obj.cu:152: reg:linear is now deprecated in favor of reg:squarederror.\n",
            "[0]\tvalidation_0-rmse:0.286719\n",
            "Will train until validation_0-rmse hasn't improved in 2 rounds.\n",
            "[1]\tvalidation_0-rmse:0.258221\n",
            "[2]\tvalidation_0-rmse:0.232634\n",
            "[3]\tvalidation_0-rmse:0.210526\n",
            "[4]\tvalidation_0-rmse:0.190232\n",
            "[5]\tvalidation_0-rmse:0.172196\n",
            "[6]\tvalidation_0-rmse:0.156394\n",
            "[7]\tvalidation_0-rmse:0.142241\n",
            "[8]\tvalidation_0-rmse:0.129789\n",
            "[9]\tvalidation_0-rmse:0.118752\n",
            "[10]\tvalidation_0-rmse:0.108388\n",
            "[11]\tvalidation_0-rmse:0.100155\n",
            "[12]\tvalidation_0-rmse:0.09208\n",
            "[13]\tvalidation_0-rmse:0.084791\n",
            "[14]\tvalidation_0-rmse:0.078699\n",
            "[15]\tvalidation_0-rmse:0.073248\n",
            "[16]\tvalidation_0-rmse:0.069391\n",
            "[17]\tvalidation_0-rmse:0.066277\n",
            "[18]\tvalidation_0-rmse:0.063458\n",
            "[19]\tvalidation_0-rmse:0.060326\n",
            "[20]\tvalidation_0-rmse:0.0578\n",
            "[21]\tvalidation_0-rmse:0.055643\n",
            "[22]\tvalidation_0-rmse:0.053943\n",
            "[23]\tvalidation_0-rmse:0.053138\n",
            "[24]\tvalidation_0-rmse:0.052415\n",
            "[25]\tvalidation_0-rmse:0.051821\n",
            "[26]\tvalidation_0-rmse:0.051226\n",
            "[27]\tvalidation_0-rmse:0.051135\n",
            "[28]\tvalidation_0-rmse:0.05091\n",
            "[29]\tvalidation_0-rmse:0.050893\n",
            "[30]\tvalidation_0-rmse:0.050725\n",
            "[31]\tvalidation_0-rmse:0.050471\n",
            "[32]\tvalidation_0-rmse:0.050285\n",
            "[33]\tvalidation_0-rmse:0.050492\n",
            "[34]\tvalidation_0-rmse:0.050348\n",
            "Stopping. Best iteration:\n",
            "[32]\tvalidation_0-rmse:0.050285\n",
            "\n",
            "Validation MSE: 0.002528626115371327\n"
          ]
        }
      ]
    },
    {
      "cell_type": "code",
      "metadata": {
        "id": "A8MrajApHtv0"
      },
      "source": [
        "%timeit XGBR().fit(X_train, y_train)"
      ],
      "execution_count": null,
      "outputs": []
    },
    {
      "cell_type": "code",
      "metadata": {
        "colab": {
          "base_uri": "https://localhost:8080/"
        },
        "id": "jfT9rDfkH0pd",
        "outputId": "b569ad39-eb88-43a2-8360-516934b0b119"
      },
      "source": [
        "%timeit GradientBoostingRegressor().fit(X_train, y_train)"
      ],
      "execution_count": 139,
      "outputs": [
        {
          "output_type": "stream",
          "name": "stdout",
          "text": [
            "10 loops, best of 5: 22.5 ms per loop\n"
          ]
        }
      ]
    }
  ]
}