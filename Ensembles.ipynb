{
  "nbformat": 4,
  "nbformat_minor": 0,
  "metadata": {
    "colab": {
      "name": "Ensembles.ipynb",
      "provenance": [],
      "authorship_tag": "ABX9TyOPhd08OCPN0gkpCmWhaBpG",
      "include_colab_link": true
    },
    "kernelspec": {
      "name": "python3",
      "display_name": "Python 3"
    },
    "language_info": {
      "name": "python"
    }
  },
  "cells": [
    {
      "cell_type": "markdown",
      "metadata": {
        "id": "view-in-github",
        "colab_type": "text"
      },
      "source": [
        "<a href=\"https://colab.research.google.com/github/Daivar/ML-models-training/blob/main/Ensembles.ipynb\" target=\"_parent\"><img src=\"https://colab.research.google.com/assets/colab-badge.svg\" alt=\"Open In Colab\"/></a>"
      ]
    },
    {
      "cell_type": "markdown",
      "metadata": {
        "id": "iHfC58JNiyUu"
      },
      "source": [
        "Ensemble learning, hard voting"
      ]
    },
    {
      "cell_type": "code",
      "metadata": {
        "colab": {
          "base_uri": "https://localhost:8080/"
        },
        "id": "flazgtWLi5Ty",
        "outputId": "cc8b3a72-deb0-4c6d-91da-46d057ce137a"
      },
      "source": [
        "from sklearn.ensemble import RandomForestClassifier \n",
        "from sklearn.linear_model import LogisticRegression \n",
        "from sklearn.svm import SVC\n",
        "from sklearn.ensemble import VotingClassifier \n",
        "from sklearn.model_selection import train_test_split\n",
        "from sklearn.datasets import make_moons\n",
        "\n",
        "X, y = make_moons(n_samples=500, noise=0.30, random_state=42)\n",
        "X_train, X_test, y_train, y_test = train_test_split(X, y, random_state=42) \n",
        " \n",
        "# ... these are separatelly tunnable\n",
        "log_clf = LogisticRegression(solver=\"lbfgs\", random_state=42)\n",
        "rnd_clf = RandomForestClassifier(n_estimators=100, random_state=42)\n",
        "svm_clf = SVC(gamma=\"scale\", random_state=42)\n",
        "ensemble = [('lr', log_clf), ('rf', rnd_clf), ('svc', svm_clf)]\n",
        "voting_clf = VotingClassifier(estimators=ensemble, voting='hard') \n",
        "\n",
        "from sklearn.metrics import accuracy_score\n",
        "for clf in (log_clf, rnd_clf, svm_clf, voting_clf):\n",
        "    clf.fit(X_train, y_train)\n",
        "    y_pred = clf.predict(X_test)\n",
        "    print(clf.__class__.__name__, accuracy_score(y_test, y_pred))"
      ],
      "execution_count": 1,
      "outputs": [
        {
          "output_type": "stream",
          "name": "stdout",
          "text": [
            "LogisticRegression 0.864\n",
            "RandomForestClassifier 0.896\n",
            "SVC 0.896\n",
            "VotingClassifier 0.912\n"
          ]
        }
      ]
    },
    {
      "cell_type": "code",
      "metadata": {
        "colab": {
          "base_uri": "https://localhost:8080/"
        },
        "id": "t-M6XaEQjQd6",
        "outputId": "0fdf4b82-373d-44bd-e8f3-bb84294f1ba8"
      },
      "source": [
        "from sklearn.ensemble import RandomForestClassifier \n",
        "from sklearn.linear_model import LogisticRegression \n",
        "from sklearn.svm import SVC\n",
        "from sklearn.ensemble import VotingClassifier \n",
        "from sklearn.model_selection import train_test_split\n",
        "from sklearn.datasets import make_moons\n",
        "\n",
        "X, y = make_moons(n_samples=500, noise=0.10, random_state=42) # noise 0.1 (was 0.3)\n",
        "X_train, X_test, y_train, y_test = train_test_split(X, y, random_state=42) \n",
        " \n",
        "# ... these are separatelly tunnable\n",
        "log_clf = LogisticRegression(solver=\"lbfgs\", random_state=42)\n",
        "rnd_clf = RandomForestClassifier(n_estimators=100, random_state=42)\n",
        "svm_clf = SVC(gamma=\"scale\", random_state=42)\n",
        "ensemble = [('lr', log_clf), ('rf', rnd_clf), ('svc', svm_clf)]\n",
        "voting_clf = VotingClassifier(estimators=ensemble, voting='hard') \n",
        "\n",
        "from sklearn.metrics import accuracy_score\n",
        "for clf in (log_clf, rnd_clf, svm_clf, voting_clf):\n",
        "    clf.fit(X_train, y_train)\n",
        "    y_pred = clf.predict(X_test)\n",
        "    print(clf.__class__.__name__, accuracy_score(y_test, y_pred))"
      ],
      "execution_count": 2,
      "outputs": [
        {
          "output_type": "stream",
          "name": "stdout",
          "text": [
            "LogisticRegression 0.864\n",
            "RandomForestClassifier 1.0\n",
            "SVC 1.0\n",
            "VotingClassifier 1.0\n"
          ]
        }
      ]
    },
    {
      "cell_type": "code",
      "metadata": {
        "colab": {
          "base_uri": "https://localhost:8080/"
        },
        "id": "5TK3wNNmjZp8",
        "outputId": "1ed63438-94d9-41cd-f47c-67dad1339d3a"
      },
      "source": [
        "from sklearn.tree import DecisionTreeClassifier\n",
        " \n",
        "dt_clf = DecisionTreeClassifier(max_depth=3)\n",
        "dt_clf.fit(X_train, y_train)\n",
        "\n",
        "print(accuracy_score(y_test, dt_clf.predict(X_test)))"
      ],
      "execution_count": 3,
      "outputs": [
        {
          "output_type": "stream",
          "name": "stdout",
          "text": [
            "0.904\n"
          ]
        }
      ]
    },
    {
      "cell_type": "code",
      "metadata": {
        "colab": {
          "base_uri": "https://localhost:8080/"
        },
        "id": "cYnDZWR_jg2E",
        "outputId": "8c6ee6bd-8351-4cf2-9b57-06b108ce8687"
      },
      "source": [
        "ensemble.append(('dt', dt_clf))\n",
        "\n",
        "print(ensemble)\n",
        "\n",
        "voting_clf = VotingClassifier(estimators=ensemble, voting='hard') \n",
        "voting_clf.fit(X_train, y_train)\n",
        "\n",
        "from sklearn.metrics import accuracy_score\n",
        "\n",
        "for _, clf in ensemble:\n",
        "    clf.fit(X_train, y_train)\n",
        "    y_pred = clf.predict(X_test)\n",
        "    print(clf.__class__.__name__, accuracy_score(y_test, y_pred))\n",
        "\n",
        "print(voting_clf.__class__.__name__, accuracy_score(y_test, voting_clf.predict(X_test)))"
      ],
      "execution_count": 4,
      "outputs": [
        {
          "output_type": "stream",
          "name": "stdout",
          "text": [
            "[('lr', LogisticRegression(random_state=42)), ('rf', RandomForestClassifier(random_state=42)), ('svc', SVC(random_state=42)), ('dt', DecisionTreeClassifier(max_depth=3))]\n",
            "LogisticRegression 0.864\n",
            "RandomForestClassifier 1.0\n",
            "SVC 1.0\n",
            "DecisionTreeClassifier 0.904\n",
            "VotingClassifier 0.92\n"
          ]
        }
      ]
    },
    {
      "cell_type": "markdown",
      "metadata": {
        "id": "4EV4yi-Sk4yt"
      },
      "source": [
        "without logistic regression(without weekest clasiffier): "
      ]
    },
    {
      "cell_type": "code",
      "metadata": {
        "colab": {
          "base_uri": "https://localhost:8080/"
        },
        "id": "KJOM5iZSj67z",
        "outputId": "2f1e6c28-27ae-4de5-9783-07ec48fed84a"
      },
      "source": [
        "from sklearn.ensemble import RandomForestClassifier \n",
        "from sklearn.linear_model import LogisticRegression \n",
        "from sklearn.svm import SVC\n",
        "from sklearn.ensemble import VotingClassifier \n",
        "from sklearn.model_selection import train_test_split\n",
        "from sklearn.datasets import make_moons\n",
        "\n",
        "X, y = make_moons(n_samples=500, noise=0.10, random_state=42) # noise 0.1 (was 0.3)\n",
        "X_train, X_test, y_train, y_test = train_test_split(X, y, random_state=42) \n",
        " \n",
        "# ... these are separatelly tunnable\n",
        "# log_clf = LogisticRegression(solver=\"lbfgs\", random_state=42)\n",
        "rnd_clf = RandomForestClassifier(n_estimators=100, random_state=42)\n",
        "svm_clf = SVC(gamma=\"scale\", random_state=42)\n",
        "ensemble = [('rf', rnd_clf), ('svc', svm_clf)]\n",
        "voting_clf = VotingClassifier(estimators=ensemble, voting='hard') \n",
        "\n",
        "from sklearn.metrics import accuracy_score\n",
        "for clf in (rnd_clf, svm_clf, voting_clf):\n",
        "    clf.fit(X_train, y_train)\n",
        "    y_pred = clf.predict(X_test)\n",
        "    print(clf.__class__.__name__, accuracy_score(y_test, y_pred))"
      ],
      "execution_count": 9,
      "outputs": [
        {
          "output_type": "stream",
          "name": "stdout",
          "text": [
            "RandomForestClassifier 1.0\n",
            "SVC 1.0\n",
            "VotingClassifier 1.0\n"
          ]
        }
      ]
    },
    {
      "cell_type": "code",
      "metadata": {
        "colab": {
          "base_uri": "https://localhost:8080/"
        },
        "id": "AY86K3wyjpG0",
        "outputId": "62e17fd0-e3fa-42c9-8ac9-fc286127814c"
      },
      "source": [
        "ensemble.append(('dt', dt_clf))\n",
        "\n",
        "print(ensemble)\n",
        "\n",
        "voting_clf = VotingClassifier(estimators=ensemble, voting='hard') \n",
        "voting_clf.fit(X_train, y_train)\n",
        "\n",
        "from sklearn.metrics import accuracy_score\n",
        "\n",
        "for _, clf in ensemble:\n",
        "    clf.fit(X_train, y_train)\n",
        "    y_pred = clf.predict(X_test)\n",
        "    print(clf.__class__.__name__, accuracy_score(y_test, y_pred))\n",
        "\n",
        "print(voting_clf.__class__.__name__, accuracy_score(y_test, voting_clf.predict(X_test)))"
      ],
      "execution_count": 10,
      "outputs": [
        {
          "output_type": "stream",
          "name": "stdout",
          "text": [
            "[('rf', RandomForestClassifier(random_state=42)), ('svc', SVC(random_state=42)), ('dt', DecisionTreeClassifier(max_depth=3))]\n",
            "RandomForestClassifier 1.0\n",
            "SVC 1.0\n",
            "DecisionTreeClassifier 0.904\n",
            "VotingClassifier 1.0\n"
          ]
        }
      ]
    },
    {
      "cell_type": "markdown",
      "metadata": {
        "id": "g_K7ZruvmqrF"
      },
      "source": [
        "### Soft voting"
      ]
    },
    {
      "cell_type": "code",
      "metadata": {
        "colab": {
          "base_uri": "https://localhost:8080/"
        },
        "id": "AlyuqHG3mvta",
        "outputId": "8f658878-a584-496c-f0d6-46addd46794b"
      },
      "source": [
        "from sklearn.ensemble import RandomForestClassifier \n",
        "from sklearn.ensemble import VotingClassifier \n",
        "from sklearn.linear_model import LogisticRegression \n",
        "from sklearn.svm import SVC\n",
        "from sklearn.model_selection import train_test_split\n",
        "from sklearn.datasets import make_moons\n",
        "\n",
        "X, y = make_moons(n_samples=500, noise=0.30, random_state=42)\n",
        "X_train, X_test, y_train, y_test = train_test_split(X, y, random_state=42) \n",
        " \n",
        "dt_clf = DecisionTreeClassifier(max_depth=3)\n",
        "rnd_clf = RandomForestClassifier(n_estimators=100, random_state=42)\n",
        "svm_clf = SVC(gamma=\"scale\", probability=True, random_state=42, C=50)\n",
        "ensemble = [('lr', log_clf), ('rf', rnd_clf), ('svc', svm_clf)]\n",
        " \n",
        "voting_clf = VotingClassifier(estimators=ensemble, voting='soft') \n",
        "voting_clf.fit(X_train, y_train)\n",
        "\n",
        "from sklearn.metrics import accuracy_score\n",
        "\n",
        "for clf in (dt_clf, rnd_clf, svm_clf, voting_clf):\n",
        "    clf.fit(X_train, y_train)\n",
        "    y_pred = clf.predict(X_test)\n",
        "    print(clf.__class__.__name__, accuracy_score(y_test, y_pred))"
      ],
      "execution_count": 14,
      "outputs": [
        {
          "output_type": "stream",
          "name": "stdout",
          "text": [
            "DecisionTreeClassifier 0.896\n",
            "RandomForestClassifier 0.896\n",
            "SVC 0.888\n",
            "VotingClassifier 0.912\n"
          ]
        }
      ]
    },
    {
      "cell_type": "markdown",
      "metadata": {
        "id": "mmEcqdMJnov7"
      },
      "source": [
        "### Bagging and Pasting in Scikit"
      ]
    },
    {
      "cell_type": "code",
      "metadata": {
        "colab": {
          "base_uri": "https://localhost:8080/"
        },
        "id": "ZwwbWallntzE",
        "outputId": "ffbc33a4-4be8-4bac-9344-ec36253b44a0"
      },
      "source": [
        "from sklearn.ensemble import BaggingClassifier \n",
        "from sklearn.tree import DecisionTreeClassifier \n",
        "from sklearn.datasets import make_moons\n",
        "\n",
        "X, y = make_moons(n_samples=500, noise=0.30, random_state=42)\n",
        "X_train, X_test, y_train, y_test = train_test_split(X, y, random_state=42) \n",
        " \n",
        "dtc = DecisionTreeClassifier(max_depth=4)\n",
        "bag_clf = BaggingClassifier(dtc, n_estimators=1000, max_samples=100, bootstrap=True, n_jobs=-1) # n_jobs=-1 treniruosis ant visų branduolių\n",
        "bag_clf.fit(X_train, y_train) \n",
        "y_pred = bag_clf.predict(X_test)\n",
        "\n",
        "from sklearn.metrics import accuracy_score\n",
        "print(accuracy_score(y_test, y_pred))"
      ],
      "execution_count": 19,
      "outputs": [
        {
          "output_type": "stream",
          "name": "stdout",
          "text": [
            "0.904\n"
          ]
        }
      ]
    },
    {
      "cell_type": "code",
      "metadata": {
        "colab": {
          "base_uri": "https://localhost:8080/"
        },
        "id": "Y4s5I1JNovcQ",
        "outputId": "b8c57f20-b8af-492b-b305-18a50310a61a"
      },
      "source": [
        "from sklearn.ensemble import BaggingClassifier \n",
        "from sklearn.tree import DecisionTreeClassifier \n",
        "from sklearn.datasets import make_moons\n",
        "\n",
        "X, y = make_moons(n_samples=500, noise=0.30, random_state=42)\n",
        "X_train, X_test, y_train, y_test = train_test_split(X, y, random_state=42) \n",
        " \n",
        "dtc = DecisionTreeClassifier(max_depth=5) #max_depth=5\n",
        "bag_clf = BaggingClassifier(dtc, n_estimators=1000, max_samples=300, bootstrap=True, n_jobs=-1) # samples - 300\n",
        "bag_clf.fit(X_train, y_train) \n",
        "y_pred = bag_clf.predict(X_test)\n",
        "\n",
        "from sklearn.metrics import accuracy_score\n",
        "print(accuracy_score(y_test, y_pred))"
      ],
      "execution_count": 22,
      "outputs": [
        {
          "output_type": "stream",
          "name": "stdout",
          "text": [
            "0.912\n"
          ]
        }
      ]
    },
    {
      "cell_type": "code",
      "metadata": {
        "colab": {
          "base_uri": "https://localhost:8080/"
        },
        "id": "nbLnejQdpcnW",
        "outputId": "251c4ce1-cd55-48e4-c28c-fa2d75c54e66"
      },
      "source": [
        "from sklearn.ensemble import BaggingClassifier \n",
        "from sklearn.tree import DecisionTreeClassifier \n",
        "from sklearn.datasets import make_moons\n",
        "\n",
        "X, y = make_moons(n_samples=500, noise=0.30, random_state=42)\n",
        "X_train, X_test, y_train, y_test = train_test_split(X, y, random_state=42) \n",
        " \n",
        "dtc = DecisionTreeClassifier(max_depth=5) #max_depth=5\n",
        "bag_clf = BaggingClassifier(dtc, n_estimators=1000, max_samples=300, bootstrap=False, n_jobs=-1) # bootstrap = True veikia geriau\n",
        "bag_clf.fit(X_train, y_train) \n",
        "y_pred = bag_clf.predict(X_test)\n",
        "\n",
        "from sklearn.metrics import accuracy_score\n",
        "print(accuracy_score(y_test, y_pred))"
      ],
      "execution_count": 23,
      "outputs": [
        {
          "output_type": "stream",
          "name": "stdout",
          "text": [
            "0.888\n"
          ]
        }
      ]
    },
    {
      "cell_type": "code",
      "metadata": {
        "colab": {
          "base_uri": "https://localhost:8080/",
          "height": 400
        },
        "id": "ZrPegxKooBC2",
        "outputId": "fa4f8fa7-6f91-4992-a651-5bc42c6fdcb5"
      },
      "source": [
        "# ref: https://github.com/ageron/handson-ml2/blob/master/06_decision_trees.ipynb\n",
        "\n",
        "import matplotlib.pyplot as plt\n",
        "from matplotlib.colors import ListedColormap\n",
        "import numpy as np\n",
        "\n",
        "# TODO :: add the ability to plot decision boundaries based on unbounded number of features\n",
        "def plot_decision_boundary(clf, X, y, axes=[-1.5, 2.45, -1, 1.5], alpha=0.5, contour=True):\n",
        "    x1s = np.linspace(axes[0], axes[1], 100)\n",
        "    x2s = np.linspace(axes[2], axes[3], 100)\n",
        "    x1, x2 = np.meshgrid(x1s, x2s)\n",
        "    X_new = np.c_[x1.ravel(), x2.ravel()]\n",
        "    y_pred = clf.predict(X_new).reshape(x1.shape)\n",
        "    custom_cmap = ListedColormap(['#fafab0','#9898ff','#a0faa0'])\n",
        "    plt.contourf(x1, x2, y_pred, alpha=0.3, cmap=custom_cmap)\n",
        "    if contour:\n",
        "        custom_cmap2 = ListedColormap(['#7d7d58','#4c4c7f','#507d50'])\n",
        "        plt.contour(x1, x2, y_pred, cmap=custom_cmap2, alpha=0.8)\n",
        "    plt.plot(X[:, 0][y==0], X[:, 1][y==0], \"yo\", alpha=alpha)\n",
        "    plt.plot(X[:, 0][y==1], X[:, 1][y==1], \"bs\", alpha=alpha)\n",
        "    plt.axis(axes)\n",
        "    plt.xlabel(r\"$x_1$\", fontsize=18)\n",
        "    plt.ylabel(r\"$x_2$\", fontsize=18, rotation=0)\n",
        "\n",
        "plt.figure(figsize=(12, 6))\n",
        "plot_decision_boundary(bag_clf, X, y)\n",
        "plt.show()"
      ],
      "execution_count": 16,
      "outputs": [
        {
          "output_type": "display_data",
          "data": {
            "image/png": "[encoded data removed]",
            "text/plain": [
              "<Figure size 864x432 with 1 Axes>"
            ]
          },
          "metadata": {
            "needs_background": "light"
          }
        }
      ]
    },
    {
      "cell_type": "markdown",
      "metadata": {
        "id": "ttkZ5-8DqmHA"
      },
      "source": [
        "### OOB"
      ]
    },
    {
      "cell_type": "code",
      "metadata": {
        "colab": {
          "base_uri": "https://localhost:8080/"
        },
        "id": "hJPPm9Ump5-l",
        "outputId": "cd3790c7-8d0d-4353-8847-53c6df72160c"
      },
      "source": [
        "from sklearn.ensemble import BaggingClassifier \n",
        "from sklearn.tree import DecisionTreeClassifier \n",
        "from sklearn.datasets import make_moons\n",
        "\n",
        "X, y = make_moons(n_samples=500, noise=0.30, random_state=42)\n",
        "\n",
        "dtc = DecisionTreeClassifier(max_depth=4)\n",
        "bag_clf = BaggingClassifier(dtc, n_estimators=1000, max_samples=100, bootstrap=True, n_jobs=-1, oob_score=True) \n",
        "bag_clf.fit(X, y) \n",
        "y_pred = bag_clf.predict(X)\n",
        "\n",
        "from sklearn.metrics import accuracy_score\n",
        "print(accuracy_score(y, y_pred))\n",
        "print(bag_clf.oob_score_)"
      ],
      "execution_count": 24,
      "outputs": [
        {
          "output_type": "stream",
          "name": "stdout",
          "text": [
            "0.914\n",
            "0.886\n"
          ]
        }
      ]
    }
  ]
}