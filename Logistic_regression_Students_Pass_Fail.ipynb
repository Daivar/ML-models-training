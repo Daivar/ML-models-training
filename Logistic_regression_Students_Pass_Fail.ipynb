{
  "nbformat": 4,
  "nbformat_minor": 0,
  "metadata": {
    "colab": {
      "name": "Logistic_regression_Students_Pass_Fail.ipynb",
      "provenance": [],
      "include_colab_link": true
    },
    "kernelspec": {
      "name": "python3",
      "display_name": "Python 3"
    },
    "language_info": {
      "name": "python"
    }
  },
  "cells": [
    {
      "cell_type": "markdown",
      "metadata": {
        "id": "view-in-github",
        "colab_type": "text"
      },
      "source": [
        "<a href=\"https://colab.research.google.com/github/Daivar/ML-models-training/blob/main/Logistic_regression_Students_Pass_Fail.ipynb\" target=\"_parent\"><img src=\"https://colab.research.google.com/assets/colab-badge.svg\" alt=\"Open In Colab\"/></a>"
      ]
    },
    {
      "cell_type": "markdown",
      "metadata": {
        "id": "FKNNp67DKffk"
      },
      "source": [
        "https://heartbeat.comet.ml/logistic-regression-in-python-using-scikit-learn-d34e882eebb1\n",
        "\n"
      ]
    },
    {
      "cell_type": "code",
      "metadata": {
        "id": "b7MVTVoqKc1f"
      },
      "source": [
        "import pandas as pd\n",
        "import numpy as np\n",
        "from sklearn import metrics \n",
        "from sklearn.linear_model import LogisticRegression\n",
        "from sklearn.model_selection import train_test_split"
      ],
      "execution_count": 27,
      "outputs": []
    },
    {
      "cell_type": "code",
      "metadata": {
        "colab": {
          "base_uri": "https://localhost:8080/",
          "height": 417
        },
        "id": "43zDeg5cKvMr",
        "outputId": "7ec1d65a-0487-4976-dd3c-8b5f645f2a18"
      },
      "source": [
        "df = pd.read_csv(\"https://raw.githubusercontent.com/dhirajk100/LogReg01/master/Student-Pass-Fail-Data.csv\")\n",
        "df"
      ],
      "execution_count": 28,
      "outputs": [
        {
          "output_type": "execute_result",
          "data": {
            "text/html": [
              "<div>\n",
              "<style scoped>\n",
              "    .dataframe tbody tr th:only-of-type {\n",
              "        vertical-align: middle;\n",
              "    }\n",
              "\n",
              "    .dataframe tbody tr th {\n",
              "        vertical-align: top;\n",
              "    }\n",
              "\n",
              "    .dataframe thead th {\n",
              "        text-align: right;\n",
              "    }\n",
              "</style>\n",
              "<table border=\"1\" class=\"dataframe\">\n",
              "  <thead>\n",
              "    <tr style=\"text-align: right;\">\n",
              "      <th></th>\n",
              "      <th>Self_Study_Daily</th>\n",
              "      <th>Tution_Monthly</th>\n",
              "      <th>Pass_Or_Fail</th>\n",
              "    </tr>\n",
              "  </thead>\n",
              "  <tbody>\n",
              "    <tr>\n",
              "      <th>0</th>\n",
              "      <td>7</td>\n",
              "      <td>27</td>\n",
              "      <td>1</td>\n",
              "    </tr>\n",
              "    <tr>\n",
              "      <th>1</th>\n",
              "      <td>2</td>\n",
              "      <td>43</td>\n",
              "      <td>0</td>\n",
              "    </tr>\n",
              "    <tr>\n",
              "      <th>2</th>\n",
              "      <td>7</td>\n",
              "      <td>26</td>\n",
              "      <td>1</td>\n",
              "    </tr>\n",
              "    <tr>\n",
              "      <th>3</th>\n",
              "      <td>8</td>\n",
              "      <td>29</td>\n",
              "      <td>1</td>\n",
              "    </tr>\n",
              "    <tr>\n",
              "      <th>4</th>\n",
              "      <td>3</td>\n",
              "      <td>42</td>\n",
              "      <td>0</td>\n",
              "    </tr>\n",
              "    <tr>\n",
              "      <th>...</th>\n",
              "      <td>...</td>\n",
              "      <td>...</td>\n",
              "      <td>...</td>\n",
              "    </tr>\n",
              "    <tr>\n",
              "      <th>995</th>\n",
              "      <td>6</td>\n",
              "      <td>22</td>\n",
              "      <td>1</td>\n",
              "    </tr>\n",
              "    <tr>\n",
              "      <th>996</th>\n",
              "      <td>9</td>\n",
              "      <td>30</td>\n",
              "      <td>1</td>\n",
              "    </tr>\n",
              "    <tr>\n",
              "      <th>997</th>\n",
              "      <td>3</td>\n",
              "      <td>39</td>\n",
              "      <td>0</td>\n",
              "    </tr>\n",
              "    <tr>\n",
              "      <th>998</th>\n",
              "      <td>7</td>\n",
              "      <td>25</td>\n",
              "      <td>1</td>\n",
              "    </tr>\n",
              "    <tr>\n",
              "      <th>999</th>\n",
              "      <td>5</td>\n",
              "      <td>37</td>\n",
              "      <td>0</td>\n",
              "    </tr>\n",
              "  </tbody>\n",
              "</table>\n",
              "<p>1000 rows × 3 columns</p>\n",
              "</div>"
            ],
            "text/plain": [
              "     Self_Study_Daily  Tution_Monthly  Pass_Or_Fail\n",
              "0                   7              27             1\n",
              "1                   2              43             0\n",
              "2                   7              26             1\n",
              "3                   8              29             1\n",
              "4                   3              42             0\n",
              "..                ...             ...           ...\n",
              "995                 6              22             1\n",
              "996                 9              30             1\n",
              "997                 3              39             0\n",
              "998                 7              25             1\n",
              "999                 5              37             0\n",
              "\n",
              "[1000 rows x 3 columns]"
            ]
          },
          "metadata": {},
          "execution_count": 28
        }
      ]
    },
    {
      "cell_type": "code",
      "metadata": {
        "colab": {
          "base_uri": "https://localhost:8080/",
          "height": 583
        },
        "id": "eFb7kDspbVuP",
        "outputId": "0933e1f8-1a4f-44b9-d08e-d45f1fb24e08"
      },
      "source": [
        "df.hist()"
      ],
      "execution_count": 29,
      "outputs": [
        {
          "output_type": "execute_result",
          "data": {
            "text/plain": [
              "array([[<matplotlib.axes._subplots.AxesSubplot object at 0x7fb9c2a436d0>,\n",
              "        <matplotlib.axes._subplots.AxesSubplot object at 0x7fb9c29e1ad0>],\n",
              "       [<matplotlib.axes._subplots.AxesSubplot object at 0x7fb9c2999610>,\n",
              "        <matplotlib.axes._subplots.AxesSubplot object at 0x7fb9c294cc10>]],\n",
              "      dtype=object)"
            ]
          },
          "metadata": {},
          "execution_count": 29
        },
        {
          "output_type": "display_data",
          "data": {
            "image/png": "[encoded data removed]",
            "text/plain": [
              "<Figure size 720x576 with 4 Axes>"
            ]
          },
          "metadata": {
            "needs_background": "light"
          }
        }
      ]
    },
    {
      "cell_type": "code",
      "metadata": {
        "colab": {
          "base_uri": "https://localhost:8080/"
        },
        "id": "RfeXRrGJbeCh",
        "outputId": "23a5559c-3805-4068-97b7-aa8d48abef95"
      },
      "source": [
        "df['Pass_Or_Fail'].value_counts()"
      ],
      "execution_count": 30,
      "outputs": [
        {
          "output_type": "execute_result",
          "data": {
            "text/plain": [
              "0    501\n",
              "1    499\n",
              "Name: Pass_Or_Fail, dtype: int64"
            ]
          },
          "metadata": {},
          "execution_count": 30
        }
      ]
    },
    {
      "cell_type": "code",
      "metadata": {
        "id": "QIuyL-cnK1l8"
      },
      "source": [
        "x = df.drop('Pass_Or_Fail',axis = 1)\n",
        "y = df.Pass_Or_Fail"
      ],
      "execution_count": 31,
      "outputs": []
    },
    {
      "cell_type": "code",
      "metadata": {
        "id": "HvuKuT0-K9KZ"
      },
      "source": [
        "x_train, x_test, y_train, y_test = train_test_split(x, y, test_size=0.2, random_state=4)"
      ],
      "execution_count": 32,
      "outputs": []
    },
    {
      "cell_type": "code",
      "metadata": {
        "id": "DXSWkKUHK9i3"
      },
      "source": [
        "logistic_regression = LogisticRegression(solver='newton-cg', random_state=42)"
      ],
      "execution_count": 33,
      "outputs": []
    },
    {
      "cell_type": "code",
      "metadata": {
        "colab": {
          "base_uri": "https://localhost:8080/"
        },
        "id": "TidTqNiKLFMs",
        "outputId": "e7a21f34-eadc-47b5-df3b-6bae4c3337da"
      },
      "source": [
        "logistic_regression.fit(x_train, y_train)"
      ],
      "execution_count": 34,
      "outputs": [
        {
          "output_type": "execute_result",
          "data": {
            "text/plain": [
              "LogisticRegression(random_state=42, solver='newton-cg')"
            ]
          },
          "metadata": {},
          "execution_count": 34
        }
      ]
    },
    {
      "cell_type": "code",
      "metadata": {
        "id": "AjLo1sjgLI6X"
      },
      "source": [
        "y_pred = logistic_regression.predict(x_test)"
      ],
      "execution_count": 35,
      "outputs": []
    },
    {
      "cell_type": "code",
      "metadata": {
        "colab": {
          "base_uri": "https://localhost:8080/"
        },
        "id": "sII0kwmYLZ2w",
        "outputId": "8ed45082-50b2-44b7-c0af-50de57401a00"
      },
      "source": [
        "accuracy = metrics.accuracy_score(y_test, y_pred)\n",
        "accuracy_percentage = 100 * accuracy\n",
        "accuracy_percentage"
      ],
      "execution_count": 11,
      "outputs": [
        {
          "output_type": "execute_result",
          "data": {
            "text/plain": [
              "97.0"
            ]
          },
          "metadata": {},
          "execution_count": 11
        }
      ]
    },
    {
      "cell_type": "code",
      "metadata": {
        "colab": {
          "base_uri": "https://localhost:8080/"
        },
        "id": "nwBsG7HZLaTb",
        "outputId": "9088718c-75ef-462b-d7df-64e2d96d8280"
      },
      "source": [
        "from sklearn.metrics import classification_report, confusion_matrix\n",
        "\n",
        "print(confusion_matrix(y_test, logistic_regression.predict(x_test)))\n",
        "print(classification_report(y_test, logistic_regression.predict(x_test)))"
      ],
      "execution_count": 36,
      "outputs": [
        {
          "output_type": "stream",
          "name": "stdout",
          "text": [
            "[[95  6]\n",
            " [ 0 99]]\n",
            "              precision    recall  f1-score   support\n",
            "\n",
            "           0       1.00      0.94      0.97       101\n",
            "           1       0.94      1.00      0.97        99\n",
            "\n",
            "    accuracy                           0.97       200\n",
            "   macro avg       0.97      0.97      0.97       200\n",
            "weighted avg       0.97      0.97      0.97       200\n",
            "\n"
          ]
        }
      ]
    },
    {
      "cell_type": "code",
      "metadata": {
        "id": "d1kzeNstUqVz"
      },
      "source": [
        "# print(model.classes_)"
      ],
      "execution_count": 13,
      "outputs": []
    },
    {
      "cell_type": "code",
      "metadata": {
        "colab": {
          "base_uri": "https://localhost:8080/"
        },
        "id": "4QtjWR5UMCYm",
        "outputId": "b033030b-6b02-4829-d895-6a9837ffd4f5"
      },
      "source": [
        "# predicting whether a student will fail or pass\n",
        "First_Friend = logistic_regression.predict((np.array([4, 38]).reshape(1, -1)))\n",
        "First_Friend # Failed"
      ],
      "execution_count": 14,
      "outputs": [
        {
          "output_type": "stream",
          "name": "stderr",
          "text": [
            "/usr/local/lib/python3.7/dist-packages/sklearn/base.py:446: UserWarning: X does not have valid feature names, but LogisticRegression was fitted with feature names\n",
            "  \"X does not have valid feature names, but\"\n"
          ]
        },
        {
          "output_type": "execute_result",
          "data": {
            "text/plain": [
              "array([0])"
            ]
          },
          "metadata": {},
          "execution_count": 14
        }
      ]
    },
    {
      "cell_type": "code",
      "metadata": {
        "colab": {
          "base_uri": "https://localhost:8080/"
        },
        "id": "ph8IsQmaMsCG",
        "outputId": "099f86e8-6323-4910-b8df-b7cd98bbea88"
      },
      "source": [
        "Second_Friend = logistic_regression.predict((np.array([1, 10]).reshape(1, -1)))\n",
        "Second_Friend"
      ],
      "execution_count": 15,
      "outputs": [
        {
          "output_type": "stream",
          "name": "stderr",
          "text": [
            "/usr/local/lib/python3.7/dist-packages/sklearn/base.py:446: UserWarning: X does not have valid feature names, but LogisticRegression was fitted with feature names\n",
            "  \"X does not have valid feature names, but\"\n"
          ]
        },
        {
          "output_type": "execute_result",
          "data": {
            "text/plain": [
              "array([1])"
            ]
          },
          "metadata": {},
          "execution_count": 15
        }
      ]
    },
    {
      "cell_type": "markdown",
      "metadata": {
        "id": "R4XRlXSHLfkS"
      },
      "source": [
        "### It is said that logistic regression requires relatively larger number of data points to be useful - find the smallest amount of data that would make the models still be useful (how would you define that)?\n"
      ]
    },
    {
      "cell_type": "code",
      "metadata": {
        "colab": {
          "base_uri": "https://localhost:8080/",
          "height": 497
        },
        "id": "Qqj3YytuNJT7",
        "outputId": "c442fd24-980e-4900-be3d-7dca37867243"
      },
      "source": [
        "from sklearn.metrics import ConfusionMatrixDisplay\n",
        "import matplotlib.pyplot as plt\n",
        "\n",
        "plt.rcParams[\"figure.figsize\"] = (10,8)\n",
        "cm = confusion_matrix(y_test, logistic_regression.predict(x_test))\n",
        "disp = ConfusionMatrixDisplay(confusion_matrix=cm, display_labels=['Fail', 'Pass'])\n",
        "\n",
        "disp.plot()\n",
        "plt.show()"
      ],
      "execution_count": 16,
      "outputs": [
        {
          "output_type": "display_data",
          "data": {
            "image/png": "[encoded data removed]",
            "text/plain": [
              "<Figure size 720x576 with 2 Axes>"
            ]
          },
          "metadata": {
            "needs_background": "light"
          }
        }
      ]
    },
    {
      "cell_type": "markdown",
      "metadata": {
        "id": "yPfbcR8dLld7"
      },
      "source": [
        ""
      ]
    },
    {
      "cell_type": "code",
      "metadata": {
        "id": "eeR82p0-PhKW",
        "colab": {
          "base_uri": "https://localhost:8080/"
        },
        "outputId": "9a33e7ed-a880-494c-c661-eb336294c145"
      },
      "source": [
        "import pandas as pd\n",
        "import numpy as np\n",
        "from sklearn import metrics \n",
        "from sklearn.linear_model import LogisticRegression\n",
        "from sklearn.model_selection import train_test_split\n",
        "from sklearn.metrics import accuracy_score \n",
        "\n",
        "def train_model(x, y, solver):\n",
        "  x_train, x_test, y_train, y_test = train_test_split(x, y, random_state=4)\n",
        "  logistic_regression = LogisticRegression(solver=solver, random_state=42)\n",
        "  logistic_regression.fit(x_train, y_train)\n",
        "  y_pred = logistic_regression.predict(x_test)\n",
        "  return y_test, y_pred\n",
        "\n",
        "df = pd.read_csv('https://raw.githubusercontent.com/dhirajk100/LogReg01/master/Student-Pass-Fail-Data.csv')\n",
        "target_name = 'Pass_Or_Fail'\n",
        "solver = 'liblinear'\n",
        "\n",
        "x_all, y_all = df.drop(target_name, axis=1), df[target_name]\n",
        "y_test, y_pred = train_model(x_all, y_all, solver)\n",
        "\n",
        "accuracies = {'All': accuracy_score(y_test, y_pred)}\n",
        "for c in df.columns.difference([target_name]):\n",
        "  x, y = df[c], df[target_name]\n",
        "  y_test, y_pred = train_model(np.array(x).reshape(-1, 1), y, solver)\n",
        "  accuracies[c] = accuracy_score(y_test, y_pred)\n",
        "\n",
        "print(accuracies)"
      ],
      "execution_count": 24,
      "outputs": [
        {
          "output_type": "stream",
          "name": "stdout",
          "text": [
            "{'All': 0.968, 'Self_Study_Daily': 0.888, 'Tution_Monthly': 0.916}\n"
          ]
        }
      ]
    },
    {
      "cell_type": "markdown",
      "metadata": {
        "id": "9OWZ_idUMLI2"
      },
      "source": [
        "### Exercise - random guesser.\n",
        "We have mentioned, that for binary classification a random number generator guessing the classes would be around 50% right.\n",
        "When class count is n the random guesser should be 100 / n-% accurate.\n",
        "Prove that this is correct or incorrect.\n",
        "Use either your own generated data or function: make_classification().\n",
        "Then check if the same holdS for a dataset with 50/50 distribution (student pass/fail dataset).\n",
        "Print the confusion matrix - is these anything interesting in it. What should be the distribution 25% in each section?\n"
      ]
    },
    {
      "cell_type": "code",
      "metadata": {
        "colab": {
          "base_uri": "https://localhost:8080/",
          "height": 497
        },
        "id": "O081Zp-eKygf",
        "outputId": "93235973-3ad5-413b-f225-e6b42f2bea1a"
      },
      "source": [
        "import numpy as np\n",
        "\n",
        "# passes = df.nlargest(499, 'Pass_Or_Fail')\n",
        "# fails = df.nsmallest(499, 'Pass_Or_Fail')\n",
        "# equal_y = np.concatenate((passes, fails))\n",
        "mydf = df.drop(df.index[[1,4]])\n",
        "y = mydf['Pass_Or_Fail']\n",
        "random_array = np.random.randint(2, size=998).reshape(-1, 1)\n",
        "\n",
        "from sklearn.metrics import ConfusionMatrixDisplay\n",
        "import matplotlib.pyplot as plt\n",
        "\n",
        "plt.rcParams[\"figure.figsize\"] = (10,8)\n",
        "cm = confusion_matrix(random_array, y)\n",
        "cm = cm.astype('float') / cm.sum(axis=1)[:, np.newaxis]\n",
        "disp = ConfusionMatrixDisplay(confusion_matrix=cm, display_labels=['Fail', 'Pass'])\n",
        "\n",
        "disp.plot()\n",
        "plt.show()"
      ],
      "execution_count": 37,
      "outputs": [
        {
          "output_type": "display_data",
          "data": {
            "image/png": "[encoded data removed]",
            "text/plain": [
              "<Figure size 720x576 with 2 Axes>"
            ]
          },
          "metadata": {
            "needs_background": "light"
          }
        }
      ]
    },
    {
      "cell_type": "code",
      "metadata": {
        "colab": {
          "base_uri": "https://localhost:8080/",
          "height": 497
        },
        "id": "BBzYjEkPMFCH",
        "outputId": "5a89637c-b101-49dc-da43-3e8969bb09e6"
      },
      "source": [
        "df = pd.read_csv(\"https://raw.githubusercontent.com/dhirajk100/LogReg01/master/Student-Pass-Fail-Data.csv\")\n",
        "\n",
        "mydf = df.drop(df.index[[1,4]])\n",
        "y = mydf['Pass_Or_Fail']\n",
        "random_array = np.random.randint(2, size=998).reshape(-1, 1)\n",
        "\n",
        "from sklearn.metrics import ConfusionMatrixDisplay\n",
        "import matplotlib.pyplot as plt\n",
        "\n",
        "plt.rcParams[\"figure.figsize\"] = (10,8)\n",
        "cm = confusion_matrix(random_array, y)\n",
        "# cm = cm.astype('float') / cm.sum(axis=1)[:, np.newaxis]\n",
        "disp = ConfusionMatrixDisplay(confusion_matrix=cm, display_labels=['Fail', 'Pass'])\n",
        "\n",
        "disp.plot()\n",
        "plt.show()"
      ],
      "execution_count": 38,
      "outputs": [
        {
          "output_type": "display_data",
          "data": {
            "image/png": "[encoded data removed]",
            "text/plain": [
              "<Figure size 720x576 with 2 Axes>"
            ]
          },
          "metadata": {
            "needs_background": "light"
          }
        }
      ]
    },
    {
      "cell_type": "code",
      "metadata": {
        "colab": {
          "base_uri": "https://localhost:8080/"
        },
        "id": "x8H9dGiZMlcS",
        "outputId": "dd7b613e-817c-4912-9da0-d2bed595bf13"
      },
      "source": [
        "\n",
        "print(f'ACC: {accuracy_score(y, random_array)}')"
      ],
      "execution_count": 41,
      "outputs": [
        {
          "output_type": "stream",
          "name": "stdout",
          "text": [
            "ACC: 0.4909819639278557\n"
          ]
        }
      ]
    },
    {
      "cell_type": "markdown",
      "metadata": {
        "id": "5_kAmZSURgdu"
      },
      "source": [
        "### Make_clasification"
      ]
    },
    {
      "cell_type": "code",
      "metadata": {
        "colab": {
          "base_uri": "https://localhost:8080/",
          "height": 497
        },
        "id": "nXRxNKt0RTN6",
        "outputId": "0ea90f1b-5ae9-445d-fc0b-eaf69e289745"
      },
      "source": [
        "from sklearn.datasets import make_classification\n",
        "from sklearn.metrics import ConfusionMatrixDisplay\n",
        "import matplotlib.pyplot as plt\n",
        "\n",
        "n_samples = 1000\n",
        "n_classes = 4\n",
        "\n",
        "X, Y = make_classification(n_samples=n_samples, n_classes=n_classes, n_informative=4)\n",
        "random_array = np.random.randint(n_classes, size=n_samples).reshape(-1, 1)\n",
        "\n",
        "plt.rcParams[\"figure.figsize\"] = (10,8)\n",
        "cm = confusion_matrix(random_array, Y)\n",
        "disp = ConfusionMatrixDisplay(confusion_matrix=cm, display_labels=['-', '+'])\n",
        "\n",
        "disp.plot()\n",
        "plt.show()"
      ],
      "execution_count": 42,
      "outputs": [
        {
          "output_type": "display_data",
          "data": {
            "image/png": "[encoded data removed]",
            "text/plain": [
              "<Figure size 720x576 with 2 Axes>"
            ]
          },
          "metadata": {
            "needs_background": "light"
          }
        }
      ]
    },
    {
      "cell_type": "code",
      "metadata": {
        "colab": {
          "base_uri": "https://localhost:8080/",
          "height": 514
        },
        "id": "EWf2lZx5R3mI",
        "outputId": "b8150b06-e2ff-4d79-99e0-7c1bf0ce1038"
      },
      "source": [
        "from sklearn.datasets import make_classification\n",
        "from sklearn.metrics import ConfusionMatrixDisplay\n",
        "import matplotlib.pyplot as plt\n",
        "\n",
        "n_samples = 1000000\n",
        "n_classes = 4\n",
        "\n",
        "X, Y = make_classification(n_samples=n_samples, n_classes=n_classes, n_informative=4)\n",
        "random_array = np.random.randint(n_classes, size=n_samples).reshape(-1, 1)\n",
        "\n",
        "plt.rcParams[\"figure.figsize\"] = (10,8)\n",
        "cm = confusion_matrix(random_array, Y)\n",
        "disp = ConfusionMatrixDisplay(confusion_matrix=cm, display_labels=['-', '+'])\n",
        "\n",
        "disp.plot()\n",
        "plt.show()\n",
        "\n",
        "print(f'ACC: {accuracy_score(Y, random_array)}')"
      ],
      "execution_count": 43,
      "outputs": [
        {
          "output_type": "display_data",
          "data": {
            "image/png": "[encoded data removed]",
            "text/plain": [
              "<Figure size 720x576 with 2 Axes>"
            ]
          },
          "metadata": {
            "needs_background": "light"
          }
        },
        {
          "output_type": "stream",
          "name": "stdout",
          "text": [
            "ACC: 0.250018\n"
          ]
        }
      ]
    },
    {
      "cell_type": "markdown",
      "metadata": {
        "id": "2gs5cKU5XM2Y"
      },
      "source": [
        "### Multi-class clasification"
      ]
    },
    {
      "cell_type": "code",
      "metadata": {
        "colab": {
          "base_uri": "https://localhost:8080/",
          "height": 514
        },
        "id": "dn8ATWamWANS",
        "outputId": "cafab6be-cadf-466d-8886-44c6beb8ac06"
      },
      "source": [
        "from sklearn.datasets import make_classification\n",
        "from sklearn.metrics import ConfusionMatrixDisplay\n",
        "import matplotlib.pyplot as plt\n",
        "\n",
        "n_samples = 10000\n",
        "n_classes = 4\n",
        "\n",
        "X, Y = make_classification(n_samples=n_samples, n_classes=n_classes, n_informative=18)\n",
        "\n",
        "x_train, x_test, y_train, y_test = train_test_split(X, Y, test_size=0.1, random_state=42)\n",
        "log_reg = LogisticRegression(solver='lbfgs', random_state=42, multi_class='ovr')\n",
        "log_reg.fit(x_train, y_train)\n",
        "\n",
        "plt.rcParams[\"figure.figsize\"] = (10,8)\n",
        "cm = confusion_matrix(log_reg.predict(x_test), y_test)\n",
        "disp = ConfusionMatrixDisplay(confusion_matrix=cm, display_labels=['-', '+'])\n",
        "\n",
        "disp.plot()\n",
        "plt.show()\n",
        "\n",
        "print(f'ACC: {accuracy_score(y_test, log_reg.predict(x_test))}')"
      ],
      "execution_count": 55,
      "outputs": [
        {
          "output_type": "display_data",
          "data": {
            "image/png": "[encoded data removed]",
            "text/plain": [
              "<Figure size 720x576 with 2 Axes>"
            ]
          },
          "metadata": {
            "needs_background": "light"
          }
        },
        {
          "output_type": "stream",
          "name": "stdout",
          "text": [
            "ACC: 0.592\n"
          ]
        }
      ]
    },
    {
      "cell_type": "code",
      "metadata": {
        "colab": {
          "base_uri": "https://localhost:8080/",
          "height": 514
        },
        "id": "u3SJSf-eXXSd",
        "outputId": "baec0c18-bda9-401a-c55a-f35f599075f3"
      },
      "source": [
        "from sklearn.datasets import make_classification\n",
        "from sklearn.metrics import ConfusionMatrixDisplay\n",
        "from sklearn.multiclass import OneVsOneClassifier\n",
        "from sklearn.svm import LinearSVC\n",
        "import matplotlib.pyplot as plt\n",
        "\n",
        "n_samples = 10000\n",
        "n_classes = 4\n",
        "\n",
        "X, Y = make_classification(n_samples=n_samples, n_classes=n_classes, n_informative=18)\n",
        "\n",
        "x_train, x_test, y_train, y_test = train_test_split(X, Y, test_size=0.1, random_state=42)\n",
        "log_reg = LogisticRegression(solver='lbfgs', random_state=42, multi_class='multinomial')\n",
        "log_reg.fit(x_train, y_train)\n",
        "\n",
        "\n",
        "plt.rcParams[\"figure.figsize\"] = (10,8)\n",
        "cm = confusion_matrix(log_reg.predict(x_test), y_test)\n",
        "disp = ConfusionMatrixDisplay(confusion_matrix=cm, display_labels=['-', '+'])\n",
        "\n",
        "disp.plot()\n",
        "plt.show()\n",
        "\n",
        "print(f'ACC: {accuracy_score(y_test, log_reg.predict(x_test))}')"
      ],
      "execution_count": 64,
      "outputs": [
        {
          "output_type": "display_data",
          "data": {
            "image/png": "[encoded data removed]",
            "text/plain": [
              "<Figure size 720x576 with 2 Axes>"
            ]
          },
          "metadata": {
            "needs_background": "light"
          }
        },
        {
          "output_type": "stream",
          "name": "stdout",
          "text": [
            "ACC: 0.55\n"
          ]
        }
      ]
    }
  ]
}