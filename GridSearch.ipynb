{
  "nbformat": 4,
  "nbformat_minor": 0,
  "metadata": {
    "colab": {
      "name": "GridSearch.ipynb",
      "provenance": [],
      "authorship_tag": "ABX9TyOqOfYEiIe1G0PI/3O2s1HH",
      "include_colab_link": true
    },
    "kernelspec": {
      "name": "python3",
      "display_name": "Python 3"
    },
    "language_info": {
      "name": "python"
    }
  },
  "cells": [
    {
      "cell_type": "markdown",
      "metadata": {
        "id": "view-in-github",
        "colab_type": "text"
      },
      "source": [
        "<a href=\"https://colab.research.google.com/github/Daivar/ML-models-training/blob/main/GridSearch.ipynb\" target=\"_parent\"><img src=\"https://colab.research.google.com/assets/colab-badge.svg\" alt=\"Open In Colab\"/></a>"
      ]
    },
    {
      "cell_type": "code",
      "metadata": {
        "colab": {
          "base_uri": "https://localhost:8080/"
        },
        "id": "gnOH1CANKX-E",
        "outputId": "0d4e6d7f-a093-4a65-a073-c113319123b4"
      },
      "source": [
        "from sklearn.datasets import load_iris\n",
        "from sklearn.model_selection import train_test_split\n",
        "from sklearn.neighbors import KNeighborsClassifier\n",
        "from sklearn.pipeline import make_pipeline\n",
        "from sklearn.model_selection import GridSearchCV\n",
        "from sklearn.preprocessing import StandardScaler\n",
        "from sklearn.metrics import accuracy_score\n",
        "from sklearn.metrics import classification_report\n",
        "from sklearn.metrics import confusion_matrix\n",
        "from sklearn.metrics import roc_auc_score\n",
        "from sklearn.metrics import roc_curve\n",
        "import matplotlib.pyplot as plt\n",
        "import numpy as np\n",
        "import pandas as pd\n",
        "import seaborn as sns\n",
        "import time\n",
        "\n",
        "# Load iris dataset\n",
        "iris = load_iris()\n",
        "X = iris.data\n",
        "y = iris.target\n",
        "X_train, X_test, y_train, y_test = train_test_split(X, y, random_state=0)\n",
        "\n",
        "# Create pipeline\n",
        "pipe = make_pipeline(\n",
        "    StandardScaler(), \n",
        "    KNeighborsClassifier(n_neighbors=1)\n",
        ")\n",
        "\n",
        "# Create gridsearchcv object\n",
        "param_grid = {\n",
        "    'kneighborsclassifier__n_neighbors': np.arange(1, 20),\n",
        "    'kneighborsclassifier__algorithm': ['ball_tree', 'kd_tree', 'brute']\n",
        "    }\n",
        "grid = GridSearchCV(pipe, param_grid, cv=5, scoring='accuracy')\n",
        "\n",
        "# Fit gridsearchcv object\n",
        "start = time.time()\n",
        "grid.fit(X_train, y_train)\n",
        "end = time.time()\n",
        "print('Time to fit: {}'.format(end - start))\n",
        "\n",
        "# Print results\n",
        "print('Best parameters: {}'.format(grid.best_params_))\n",
        "print('Best score: {}'.format(grid.best_score_))\n",
        "print('Test set score: {}'.format(grid.score(X_test, y_test)))\n",
        "\n",
        "# Plot ROC curve\n",
        "y_pred = grid.predict_proba(X_test)[:, 1]   "
      ],
      "execution_count": 1,
      "outputs": [
        {
          "output_type": "stream",
          "name": "stdout",
          "text": [
            "Time to fit: 1.1494958400726318\n",
            "Best parameters: {'kneighborsclassifier__algorithm': 'ball_tree', 'kneighborsclassifier__n_neighbors': 6}\n",
            "Best score: 0.9557312252964426\n",
            "Test set score: 0.9736842105263158\n"
          ]
        }
      ]
    },
    {
      "cell_type": "code",
      "metadata": {
        "colab": {
          "base_uri": "https://localhost:8080/"
        },
        "id": "Gx1HXc_fU0YI",
        "outputId": "7e58fa3d-131f-44b5-a376-16714e9cd11e"
      },
      "source": [
        "from sklearn.datasets import load_iris\n",
        "from sklearn.model_selection import train_test_split\n",
        "from sklearn.neighbors import KNeighborsClassifier\n",
        "from sklearn.pipeline import make_pipeline\n",
        "from sklearn.model_selection import GridSearchCV\n",
        "from sklearn.preprocessing import StandardScaler\n",
        "from sklearn.metrics import accuracy_score\n",
        "from sklearn.metrics import classification_report\n",
        "from sklearn.metrics import confusion_matrix\n",
        "from sklearn.metrics import roc_auc_score\n",
        "from sklearn.metrics import roc_curve\n",
        "import matplotlib.pyplot as plt\n",
        "import numpy as np\n",
        "import pandas as pd\n",
        "import seaborn as sns\n",
        "import time\n",
        "\n",
        "# Load iris dataset\n",
        "iris = load_iris()\n",
        "X = iris.data\n",
        "y = iris.target\n",
        "X_train, X_test, y_train, y_test = train_test_split(X, y, random_state=0)\n",
        "\n",
        "# Create pipeline\n",
        "pipe = make_pipeline(\n",
        "    StandardScaler(), \n",
        "    KNeighborsClassifier(n_neighbors=1)\n",
        ")\n",
        "\n",
        "# Create gridsearchcv object\n",
        "param_grid = {\n",
        "    'kneighborsclassifier__n_neighbors': np.arange(1, 5),\n",
        "    'kneighborsclassifier__algorithm': ['ball_tree', 'kd_tree', 'brute']\n",
        "}\n",
        "grid = GridSearchCV(pipe, param_grid, cv=5, scoring='accuracy')\n",
        "\n",
        "# Fit gridsearchcv object\n",
        "start = time.time()\n",
        "grid.fit(X_train, y_train)\n",
        "end = time.time()\n",
        "print('Time to fit: {}'.format(end - start))\n",
        "\n",
        "# Print results\n",
        "print('Best parameters: {}'.format(grid.best_params_))\n",
        "print('Best score: {}'.format(grid.best_score_))\n",
        "print('Test set score: {}'.format(grid.score(X_test, y_test)))\n",
        "print(len(grid.cv_results_['params']))\n",
        "print(grid.cv_results_['params'])\n",
        "print(sorted(grid.cv_results_.keys()))"
      ],
      "execution_count": 3,
      "outputs": [
        {
          "output_type": "stream",
          "name": "stdout",
          "text": [
            "Time to fit: 0.25907254219055176\n",
            "Best parameters: {'kneighborsclassifier__algorithm': 'ball_tree', 'kneighborsclassifier__n_neighbors': 2}\n",
            "Best score: 0.9470355731225297\n",
            "Test set score: 0.9473684210526315\n",
            "12\n",
            "[{'kneighborsclassifier__algorithm': 'ball_tree', 'kneighborsclassifier__n_neighbors': 1}, {'kneighborsclassifier__algorithm': 'ball_tree', 'kneighborsclassifier__n_neighbors': 2}, {'kneighborsclassifier__algorithm': 'ball_tree', 'kneighborsclassifier__n_neighbors': 3}, {'kneighborsclassifier__algorithm': 'ball_tree', 'kneighborsclassifier__n_neighbors': 4}, {'kneighborsclassifier__algorithm': 'kd_tree', 'kneighborsclassifier__n_neighbors': 1}, {'kneighborsclassifier__algorithm': 'kd_tree', 'kneighborsclassifier__n_neighbors': 2}, {'kneighborsclassifier__algorithm': 'kd_tree', 'kneighborsclassifier__n_neighbors': 3}, {'kneighborsclassifier__algorithm': 'kd_tree', 'kneighborsclassifier__n_neighbors': 4}, {'kneighborsclassifier__algorithm': 'brute', 'kneighborsclassifier__n_neighbors': 1}, {'kneighborsclassifier__algorithm': 'brute', 'kneighborsclassifier__n_neighbors': 2}, {'kneighborsclassifier__algorithm': 'brute', 'kneighborsclassifier__n_neighbors': 3}, {'kneighborsclassifier__algorithm': 'brute', 'kneighborsclassifier__n_neighbors': 4}]\n",
            "['mean_fit_time', 'mean_score_time', 'mean_test_score', 'param_kneighborsclassifier__algorithm', 'param_kneighborsclassifier__n_neighbors', 'params', 'rank_test_score', 'split0_test_score', 'split1_test_score', 'split2_test_score', 'split3_test_score', 'split4_test_score', 'std_fit_time', 'std_score_time', 'std_test_score']\n"
          ]
        }
      ]
    },
    {
      "cell_type": "code",
      "metadata": {
        "colab": {
          "base_uri": "https://localhost:8080/"
        },
        "id": "uwygWt2uLNTw",
        "outputId": "604ffb12-690e-4d79-acc4-e2229f32c6be"
      },
      "source": [
        "from sklearn import svm, datasets\n",
        "from sklearn.model_selection import GridSearchCV\n",
        "\n",
        "iris = datasets.load_iris()\n",
        "\n",
        "parameters = {'kernel':('linear', 'rbf'), 'C':[1, 2, 5, 10]}\n",
        "clf = GridSearchCV(svm.SVC(), parameters, cv=5)\n",
        "clf.fit(iris.data, iris.target)\n",
        "\n",
        "print(sorted(clf.cv_results_.keys()))\n",
        "\n",
        "print('Best parameters: {}'.format(clf.best_params_))\n"
      ],
      "execution_count": 2,
      "outputs": [
        {
          "output_type": "stream",
          "name": "stdout",
          "text": [
            "['mean_fit_time', 'mean_score_time', 'mean_test_score', 'param_C', 'param_kernel', 'params', 'rank_test_score', 'split0_test_score', 'split1_test_score', 'split2_test_score', 'split3_test_score', 'split4_test_score', 'std_fit_time', 'std_score_time', 'std_test_score']\n",
            "Best parameters: {'C': 5, 'kernel': 'rbf'}\n"
          ]
        }
      ]
    },
    {
      "cell_type": "code",
      "metadata": {
        "colab": {
          "base_uri": "https://localhost:8080/"
        },
        "id": "bHZPbRGpMiVn",
        "outputId": "dea1b05a-4c8f-46a6-ebc1-4a0ec66390c0"
      },
      "source": [
        "from sklearn import svm, datasets\n",
        "from sklearn.model_selection import GridSearchCV\n",
        "\n",
        "iris = datasets.load_iris()\n",
        "\n",
        "parameters = {'kernel':('linear', 'rbf'), 'C':[1, 10]}\n",
        "clf = GridSearchCV(svm.SVC(), parameters, cv=5)\n",
        "clf.fit(iris.data, iris.target)\n",
        "\n",
        "sorted(clf.cv_results_.keys())"
      ],
      "execution_count": 4,
      "outputs": [
        {
          "output_type": "execute_result",
          "data": {
            "text/plain": [
              "['mean_fit_time',\n",
              " 'mean_score_time',\n",
              " 'mean_test_score',\n",
              " 'param_C',\n",
              " 'param_kernel',\n",
              " 'params',\n",
              " 'rank_test_score',\n",
              " 'split0_test_score',\n",
              " 'split1_test_score',\n",
              " 'split2_test_score',\n",
              " 'split3_test_score',\n",
              " 'split4_test_score',\n",
              " 'std_fit_time',\n",
              " 'std_score_time',\n",
              " 'std_test_score']"
            ]
          },
          "metadata": {},
          "execution_count": 4
        }
      ]
    },
    {
      "cell_type": "code",
      "metadata": {
        "colab": {
          "base_uri": "https://localhost:8080/",
          "height": 439
        },
        "id": "yyC4BSDS4XMS",
        "outputId": "af6c14bb-f99c-49c8-c08b-d2b38f5c6b93"
      },
      "source": [
        "import numpy as np\n",
        "from sklearn import datasets\n",
        "\n",
        "iris = datasets.load_iris()\n",
        "X = iris.data\n",
        "y = iris.target\n",
        "\n",
        "from sklearn import preprocessing\n",
        "X = preprocessing.StandardScaler().fit(X).transform(X.astype(float))\n",
        "\n",
        "from sklearn.model_selection import train_test_split\n",
        "X_train, X_test, y_train, y_test = train_test_split(X, y, test_size=0.2, random_state=4)\n",
        "\n",
        "from sklearn.neighbors import KNeighborsClassifier\n",
        "from sklearn import metrics\n",
        "#Train Model and Predict\n",
        "k = 4  \n",
        "neigh = KNeighborsClassifier(n_neighbors = k).fit(X_train,y_train)\n",
        "Pred_y = neigh.predict(X_test)\n",
        "print(\"Accuracy of model at K=4 is\",metrics.accuracy_score(y_test, Pred_y))\n",
        "\n",
        "error_rate = []\n",
        "for i in range(1,40):\n",
        "  knn = KNeighborsClassifier(n_neighbors=i)\n",
        "  knn.fit(X_train,y_train)\n",
        "  pred_i = knn.predict(X_test)\n",
        "  error_rate.append(np.mean(pred_i != y_test))\n",
        "\n",
        "plt.figure(figsize=(10,6))\n",
        "plt.plot(range(1,40),error_rate,color='blue', linestyle='dashed', \n",
        "         marker='o',markerfacecolor='red', markersize=10)\n",
        "plt.title('Error Rate vs. K Value')\n",
        "plt.xlabel('K')\n",
        "plt.ylabel('Error Rate')\n",
        "print(\"Minimum error:-\",min(error_rate),\"at K =\", error_rate.index(min(error_rate)))"
      ],
      "execution_count": 11,
      "outputs": [
        {
          "output_type": "stream",
          "name": "stdout",
          "text": [
            "Accuracy of model at K=4 is 0.9333333333333333\n",
            "Minimum error:- 0.03333333333333333 at K = 19\n"
          ]
        },
        {
          "output_type": "display_data",
          "data": {
            "image/png": "[encoded data removed]",
            "text/plain": [
              "<Figure size 720x432 with 1 Axes>"
            ]
          },
          "metadata": {
            "needs_background": "light"
          }
        }
      ]
    },
    {
      "cell_type": "code",
      "metadata": {
        "colab": {
          "base_uri": "https://localhost:8080/"
        },
        "id": "1ixGcYFkXBm-",
        "outputId": "1c85b92d-60f4-4359-d368-c3fa83e09ea1"
      },
      "source": [
        "!wget https://raw.githubusercontent.com/MindaugasBernatavicius/DeepLearningCourse/master/04_ML_Intro/forestfires.csv"
      ],
      "execution_count": 6,
      "outputs": [
        {
          "output_type": "stream",
          "name": "stdout",
          "text": [
            "--2021-12-01 16:12:02--  https://raw.githubusercontent.com/MindaugasBernatavicius/DeepLearningCourse/master/04_ML_Intro/forestfires.csv\n",
            "Resolving raw.githubusercontent.com (raw.githubusercontent.com)... 185.199.108.133, 185.199.109.133, 185.199.110.133, ...\n",
            "Connecting to raw.githubusercontent.com (raw.githubusercontent.com)|185.199.108.133|:443... connected.\n",
            "HTTP request sent, awaiting response... 200 OK\n",
            "Length: 25425 (25K) [text/plain]\n",
            "Saving to: ‘forestfires.csv’\n",
            "\n",
            "\rforestfires.csv       0%[                    ]       0  --.-KB/s               \rforestfires.csv     100%[===================>]  24.83K  --.-KB/s    in 0.001s  \n",
            "\n",
            "2021-12-01 16:12:03 (19.5 MB/s) - ‘forestfires.csv’ saved [25425/25425]\n",
            "\n"
          ]
        }
      ]
    },
    {
      "cell_type": "code",
      "metadata": {
        "id": "Pzi_yQw2XLoN"
      },
      "source": [
        "import pandas\n",
        "import numpy as np\n",
        "from sklearn.preprocessing import PolynomialFeatures\n",
        "from sklearn.model_selection import train_test_split\n",
        "from sklearn.linear_model import LinearRegression\n",
        "from sklearn.linear_model import Lasso\n",
        "from sklearn.tree import DecisionTreeRegressor\n",
        "from sklearn.pipeline import make_pipeline\n",
        "\n",
        "\n",
        "filename='forestfires.csv'\n",
        "names = ['X', 'Y', 'month', 'day', 'FFMC', 'DMC', 'DC', 'ISI', 'temp', 'RH', 'wind','rain', 'area']\n",
        "\n",
        "df= pandas.read_csv(filename, names=names)\n",
        "df.month.replace(('jan','feb','mar','apr','may','jun','jul','aug','sep','oct','nov','dec'),(1,2,3,4,5,6,7,8,9,10,11,12), inplace=True)\n",
        "df.day.replace(('mon','tue','wed','thu','fri','sat','sun'),(1,2,3,4,5,6,7), inplace=True)\n",
        "\n",
        "\n",
        "array = df.values\n",
        "X = array[:,0:12]\n",
        "Y = array[:,12] # area\n",
        "\n",
        "xtrain, xtest, ytrain, ytest = train_test_split(X, Y, test_size=0.15)\n"
      ],
      "execution_count": 7,
      "outputs": []
    },
    {
      "cell_type": "code",
      "metadata": {
        "colab": {
          "base_uri": "https://localhost:8080/"
        },
        "id": "Y8Df_Og0bYVO",
        "outputId": "8b371232-f1be-4e0d-9c19-5abd1d82e3c0"
      },
      "source": [
        "from sklearn.tree import DecisionTreeClassifier\n",
        " \n",
        "dt_clf = DecisionTreeClassifier(max_depth=3)\n",
        "dt_clf.fit(X_train, y_train)\n",
        "\n",
        "print(accuracy_score(y_test, dt_clf.predict(X_test)))"
      ],
      "execution_count": 15,
      "outputs": [
        {
          "output_type": "stream",
          "name": "stdout",
          "text": [
            "0.9736842105263158\n"
          ]
        }
      ]
    }
  ]
}