{
  "nbformat": 4,
  "nbformat_minor": 0,
  "metadata": {
    "colab": {
      "name": "California_housing.ipynb",
      "provenance": [],
      "authorship_tag": "ABX9TyPNx/7d6rilOeGCPPlAHy+J",
      "include_colab_link": true
    },
    "kernelspec": {
      "name": "python3",
      "display_name": "Python 3"
    },
    "language_info": {
      "name": "python"
    }
  },
  "cells": [
    {
      "cell_type": "markdown",
      "metadata": {
        "id": "view-in-github",
        "colab_type": "text"
      },
      "source": [
        "<a href=\"https://colab.research.google.com/github/Daivar/ML-models-training/blob/main/California_housing.ipynb\" target=\"_parent\"><img src=\"https://colab.research.google.com/assets/colab-badge.svg\" alt=\"Open In Colab\"/></a>"
      ]
    },
    {
      "cell_type": "code",
      "metadata": {
        "id": "ctrRjhzH30ky"
      },
      "source": [
        "from sklearn import datasets \n",
        "cal_housing = datasets.fetch_california_housing() "
      ],
      "execution_count": null,
      "outputs": []
    },
    {
      "cell_type": "code",
      "metadata": {
        "colab": {
          "base_uri": "https://localhost:8080/"
        },
        "id": "GQ9SxnLC61QQ",
        "outputId": "a49edcab-5317-466d-f635-769139530642"
      },
      "source": [
        "from sklearn import datasets \n",
        "from sklearn.model_selection import train_test_split\n",
        "from sklearn.pipeline import make_pipeline\n",
        "from sklearn.preprocessing import StandardScaler \n",
        "from sklearn.svm import SVR, LinearSVR\n",
        "\n",
        "X, y = datasets.fetch_california_housing(return_X_y=True)\n",
        "\n",
        "reg = make_pipeline(StandardScaler(), SVR(kernel='rbf', C=10, epsilon=1))\n",
        "\n",
        "x_train, x_test, y_train, y_test = train_test_split(X, y, test_size=0.2, random_state=1)\n",
        "reg.fit(x_train, y_train)\n",
        "print(reg.score(x_test, y_test))\n",
        "print(reg.get_params())"
      ],
      "execution_count": null,
      "outputs": [
        {
          "output_type": "stream",
          "name": "stdout",
          "text": [
            "0.6902581733291663\n",
            "{'memory': None, 'steps': [('standardscaler', StandardScaler()), ('svr', SVR(C=10, epsilon=1))], 'verbose': False, 'standardscaler': StandardScaler(), 'svr': SVR(C=10, epsilon=1), 'standardscaler__copy': True, 'standardscaler__with_mean': True, 'standardscaler__with_std': True, 'svr__C': 10, 'svr__cache_size': 200, 'svr__coef0': 0.0, 'svr__degree': 3, 'svr__epsilon': 1, 'svr__gamma': 'scale', 'svr__kernel': 'rbf', 'svr__max_iter': -1, 'svr__shrinking': True, 'svr__tol': 0.001, 'svr__verbose': False}\n"
          ]
        }
      ]
    },
    {
      "cell_type": "code",
      "metadata": {
        "colab": {
          "base_uri": "https://localhost:8080/"
        },
        "id": "hLhhcEusCuR9",
        "outputId": "40103839-90ac-441d-a84d-98b14887a287"
      },
      "source": [
        "X"
      ],
      "execution_count": null,
      "outputs": [
        {
          "output_type": "execute_result",
          "data": {
            "text/plain": [
              "array([[   8.3252    ,   41.        ,    6.98412698, ...,    2.55555556,\n",
              "          37.88      , -122.23      ],\n",
              "       [   8.3014    ,   21.        ,    6.23813708, ...,    2.10984183,\n",
              "          37.86      , -122.22      ],\n",
              "       [   7.2574    ,   52.        ,    8.28813559, ...,    2.80225989,\n",
              "          37.85      , -122.24      ],\n",
              "       ...,\n",
              "       [   1.7       ,   17.        ,    5.20554273, ...,    2.3256351 ,\n",
              "          39.43      , -121.22      ],\n",
              "       [   1.8672    ,   18.        ,    5.32951289, ...,    2.12320917,\n",
              "          39.43      , -121.32      ],\n",
              "       [   2.3886    ,   16.        ,    5.25471698, ...,    2.61698113,\n",
              "          39.37      , -121.24      ]])"
            ]
          },
          "metadata": {},
          "execution_count": 4
        }
      ]
    },
    {
      "cell_type": "code",
      "metadata": {
        "colab": {
          "base_uri": "https://localhost:8080/"
        },
        "id": "iY-sX-iLCwjC",
        "outputId": "1a4df30b-3e45-4e03-f89e-2aac38c4f22e"
      },
      "source": [
        "y"
      ],
      "execution_count": null,
      "outputs": [
        {
          "output_type": "execute_result",
          "data": {
            "text/plain": [
              "array([4.526, 3.585, 3.521, ..., 0.923, 0.847, 0.894])"
            ]
          },
          "metadata": {},
          "execution_count": 5
        }
      ]
    },
    {
      "cell_type": "code",
      "metadata": {
        "id": "_i1aEgvMOJP3"
      },
      "source": [
        ""
      ],
      "execution_count": null,
      "outputs": []
    },
    {
      "cell_type": "code",
      "metadata": {
        "colab": {
          "base_uri": "https://localhost:8080/"
        },
        "id": "AXiXFYE9LPeb",
        "outputId": "837fa8c7-3360-4f01-ae3c-adcd53b1c0c1"
      },
      "source": [
        "type(y)"
      ],
      "execution_count": 23,
      "outputs": [
        {
          "output_type": "execute_result",
          "data": {
            "text/plain": [
              "numpy.ndarray"
            ]
          },
          "metadata": {},
          "execution_count": 23
        }
      ]
    },
    {
      "cell_type": "code",
      "metadata": {
        "colab": {
          "base_uri": "https://localhost:8080/"
        },
        "id": "leIsdgveMo6m",
        "outputId": "a5be0bdd-52a0-45be-9655-1bfb01f07cd9"
      },
      "source": [
        "from sklearn import datasets\n",
        "from sklearn.pipeline import make_pipeline\n",
        "from sklearn.preprocessing import StandardScaler\n",
        "from sklearn.svm import SVR, LinearSVR\n",
        "import matplotlib.pyplot as plt\n",
        "from sklearn.model_selection import train_test_split\n",
        "import time\n",
        "\n",
        "X, y = datasets.fetch_california_housing(return_X_y=True)\n",
        "\n",
        "current_time = time.time()\n",
        "\n",
        "# reg = make_pipeline(StandardScaler(), SVR()) # C=5, epsilon=1\n",
        "# 0.6792999897267982\n",
        "# time taken: 2.408140182495117\n",
        "\n",
        "reg = make_pipeline(StandardScaler(), LinearSVR(random_state=1)) # C=2, max_iter=10000,\n",
        "# 0.617856045060232\n",
        "# time taken: 0.20993614196777344\n",
        "\n",
        "x_train, x_test, y_train, y_test = train_test_split(X, y, test_size=0.2, random_state=1)\n",
        "\n",
        "reg.fit(x_train, y_train)\n",
        "print(reg.score(x_test, y_test))\n",
        "\n",
        "print(f\"time taken: {time.time() - current_time}\")\n",
        "\n"
      ],
      "execution_count": 31,
      "outputs": [
        {
          "output_type": "stream",
          "name": "stdout",
          "text": [
            "0.5953573085874637\n",
            "time taken: 1.1071875095367432\n"
          ]
        },
        {
          "output_type": "stream",
          "name": "stderr",
          "text": [
            "/usr/local/lib/python3.7/dist-packages/sklearn/svm/_base.py:1208: ConvergenceWarning: Liblinear failed to converge, increase the number of iterations.\n",
            "  ConvergenceWarning,\n"
          ]
        }
      ]
    },
    {
      "cell_type": "code",
      "metadata": {
        "colab": {
          "base_uri": "https://localhost:8080/"
        },
        "id": "mVXslCctNzxY",
        "outputId": "64415486-4087-417c-8343-7dedb59f334d"
      },
      "source": [
        "from sklearn.tree import DecisionTreeRegressor\n",
        "from sklearn.model_selection import train_test_split\n",
        "import time\n",
        "from sklearn import tree\n",
        "\n",
        "X, y = datasets.fetch_california_housing(return_X_y=True)\n",
        "\n",
        "california = datasets.fetch_california_housing()\n",
        "\n",
        "current_time = time.time()\n",
        "x_train, x_test, y_train, y_test = train_test_split(X, y, test_size=0.2, random_state=1)\n",
        "\n",
        "tree_reg = DecisionTreeRegressor(random_state=1)\n",
        "# 0.617856045060232\n",
        "# time taken: 0.198683500289917\n",
        "\n",
        "tree_reg.fit(x_train,y_train)\n",
        "print(tree_reg.score(x_test, y_test))\n",
        "print(f\"time taken: {time.time() - current_time}\")\n",
        "\n"
      ],
      "execution_count": 32,
      "outputs": [
        {
          "output_type": "stream",
          "name": "stdout",
          "text": [
            "0.617856045060232\n",
            "time taken: 0.1952652931213379\n"
          ]
        }
      ]
    },
    {
      "cell_type": "code",
      "metadata": {
        "colab": {
          "base_uri": "https://localhost:8080/"
        },
        "id": "9QfR9WO9N9MW",
        "outputId": "08fa3624-ea48-40d9-e8ab-d8ac2ca1adaa"
      },
      "source": [
        "from sklearn.linear_model import LinearRegression\n",
        "import time\n",
        "\n",
        "X, y = datasets.fetch_california_housing(return_X_y=True)\n",
        "\n",
        "current_time = time.time()\n",
        "\n",
        "x_train, x_test, y_train, y_test = train_test_split(X, y, test_size=0.2, random_state=1)\n",
        "\n",
        "lnreg = LinearRegression()\n",
        "# 0.596596837481228\n",
        "# time taken: 0.013402700424194336\n",
        "\n",
        "lnreg.fit(x_train, y_train)\n",
        "print(lnreg.score(x_test, y_test))\n",
        "print(f\"time taken: {time.time() - current_time}\")"
      ],
      "execution_count": 33,
      "outputs": [
        {
          "output_type": "stream",
          "name": "stdout",
          "text": [
            "0.596596837481228\n",
            "time taken: 0.010635614395141602\n"
          ]
        }
      ]
    }
  ]
}