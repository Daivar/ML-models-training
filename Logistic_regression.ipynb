{
  "nbformat": 4,
  "nbformat_minor": 0,
  "metadata": {
    "colab": {
      "name": "Logistic_regression.ipynb",
      "provenance": [],
      "toc_visible": true,
      "authorship_tag": "ABX9TyOkAR4t8fKDHJfxBNCF9ndw",
      "include_colab_link": true
    },
    "kernelspec": {
      "name": "python3",
      "display_name": "Python 3"
    },
    "language_info": {
      "name": "python"
    }
  },
  "cells": [
    {
      "cell_type": "markdown",
      "metadata": {
        "id": "view-in-github",
        "colab_type": "text"
      },
      "source": [
        "<a href=\"https://colab.research.google.com/github/Daivar/ML-models-training/blob/main/Logistic_regression.ipynb\" target=\"_parent\"><img src=\"https://colab.research.google.com/assets/colab-badge.svg\" alt=\"Open In Colab\"/></a>"
      ]
    },
    {
      "cell_type": "markdown",
      "metadata": {
        "id": "wcnngaFTzm_C"
      },
      "source": [
        "### MWE logistic regression\n"
      ]
    },
    {
      "cell_type": "markdown",
      "metadata": {
        "id": "qonyZ0qjq6TX"
      },
      "source": [
        "### MWE"
      ]
    },
    {
      "cell_type": "code",
      "metadata": {
        "colab": {
          "base_uri": "https://localhost:8080/"
        },
        "id": "pOeNYZLszsm1",
        "outputId": "2a6aa285-76a5-45ac-e0bc-0a111f4b6d6e"
      },
      "source": [
        "import numpy as np\n",
        "from sklearn.linear_model import LogisticRegression\n",
        "\n",
        "x = np.arange(10).reshape(-1, 1)\n",
        "y = np.array([0, 0, 0, 0, 1, 1, 1, 1, 1, 1])\n",
        "\n",
        "model = LogisticRegression(solver='liblinear', random_state=0)\n",
        "model.fit(x, y)\n",
        "\n",
        "print(model.classes_)\n",
        "print(model.intercept_)\n",
        "print(model.coef_)"
      ],
      "execution_count": 1,
      "outputs": [
        {
          "output_type": "stream",
          "name": "stdout",
          "text": [
            "[0 1]\n",
            "[-1.04608067]\n",
            "[[0.51491375]]\n"
          ]
        }
      ]
    },
    {
      "cell_type": "code",
      "metadata": {
        "colab": {
          "base_uri": "https://localhost:8080/"
        },
        "id": "ode-Hhc70BWM",
        "outputId": "f6b0da8e-6482-49b2-da08-ffe591ab189b"
      },
      "source": [
        "model.predict_proba(x)"
      ],
      "execution_count": 2,
      "outputs": [
        {
          "output_type": "execute_result",
          "data": {
            "text/plain": [
              "array([[0.74002157, 0.25997843],\n",
              "       [0.62975524, 0.37024476],\n",
              "       [0.5040632 , 0.4959368 ],\n",
              "       [0.37785549, 0.62214451],\n",
              "       [0.26628093, 0.73371907],\n",
              "       [0.17821501, 0.82178499],\n",
              "       [0.11472079, 0.88527921],\n",
              "       [0.07186982, 0.92813018],\n",
              "       [0.04422513, 0.95577487],\n",
              "       [0.02690569, 0.97309431]])"
            ]
          },
          "metadata": {},
          "execution_count": 2
        }
      ]
    },
    {
      "cell_type": "code",
      "metadata": {
        "colab": {
          "base_uri": "https://localhost:8080/"
        },
        "id": "oZhrn8PE1Mqd",
        "outputId": "513d018f-b535-4279-c565-51f04d65743a"
      },
      "source": [
        "model.predict_proba([[1], [2], [3]])"
      ],
      "execution_count": 3,
      "outputs": [
        {
          "output_type": "execute_result",
          "data": {
            "text/plain": [
              "array([[0.62975524, 0.37024476],\n",
              "       [0.5040632 , 0.4959368 ],\n",
              "       [0.37785549, 0.62214451]])"
            ]
          },
          "metadata": {},
          "execution_count": 3
        }
      ]
    },
    {
      "cell_type": "code",
      "metadata": {
        "colab": {
          "base_uri": "https://localhost:8080/"
        },
        "id": "iVSjq8Rf0pg4",
        "outputId": "b1df0947-50d3-407b-f73b-ba15babceb53"
      },
      "source": [
        "model.predict(x) "
      ],
      "execution_count": 4,
      "outputs": [
        {
          "output_type": "execute_result",
          "data": {
            "text/plain": [
              "array([0, 0, 0, 1, 1, 1, 1, 1, 1, 1])"
            ]
          },
          "metadata": {},
          "execution_count": 4
        }
      ]
    },
    {
      "cell_type": "code",
      "metadata": {
        "colab": {
          "base_uri": "https://localhost:8080/"
        },
        "id": "H29OtG1p0vJX",
        "outputId": "a8df1042-6643-4092-aedd-4da97a618088"
      },
      "source": [
        "model.score(x, y)"
      ],
      "execution_count": 5,
      "outputs": [
        {
          "output_type": "execute_result",
          "data": {
            "text/plain": [
              "0.9"
            ]
          },
          "metadata": {},
          "execution_count": 5
        }
      ]
    },
    {
      "cell_type": "code",
      "metadata": {
        "colab": {
          "base_uri": "https://localhost:8080/"
        },
        "id": "z-fDP7hG1sEN",
        "outputId": "1f9d47ab-6940-4d18-ed59-259e071d1a6a"
      },
      "source": [
        "import numpy as np\n",
        "from sklearn.linear_model import LogisticRegression\n",
        "from sklearn.model_selection import train_test_split\n",
        "\n",
        "x = np.array([    150,      178,      130,      170,      105,         400,      120,         210,        289,       190,          390])\n",
        "y = np.array(['benign', 'benign', 'benign', 'benign', 'benign', 'malignant', 'benign', 'malignant', 'malignant', 'benign', 'malignant'])\n",
        "\n",
        "x_train, x_test, y_train, y_test = train_test_split(x, y, test_size=0.1)\n",
        "\n",
        "model = LogisticRegression(solver='liblinear', random_state=42)\n",
        "model.fit(x_train.reshape(-1, 1), y_train)\n",
        "\n",
        "print(model.classes_)\n",
        "print(model.intercept_)\n",
        "print(model.coef_)\n",
        "\n",
        "# on test set\n",
        "print(model.predict(x_test.reshape(-1, 1)))\n",
        "print(x_test)\n",
        "print(y_test)"
      ],
      "execution_count": 25,
      "outputs": [
        {
          "output_type": "stream",
          "name": "stdout",
          "text": [
            "['benign' 'malignant']\n",
            "[-1.08233285]\n",
            "[[0.0044435]]\n",
            "['malignant' 'benign']\n",
            "[400 120]\n",
            "['malignant' 'benign']\n"
          ]
        }
      ]
    },
    {
      "cell_type": "code",
      "metadata": {
        "colab": {
          "base_uri": "https://localhost:8080/"
        },
        "id": "siGw6vZh34sR",
        "outputId": "987647a5-2671-4c69-95ce-97c8ba4f8ab3"
      },
      "source": [
        "model.predict([[245]]) "
      ],
      "execution_count": 7,
      "outputs": [
        {
          "output_type": "execute_result",
          "data": {
            "text/plain": [
              "array(['malignant'], dtype='<U9')"
            ]
          },
          "metadata": {},
          "execution_count": 7
        }
      ]
    },
    {
      "cell_type": "code",
      "metadata": {
        "colab": {
          "base_uri": "https://localhost:8080/"
        },
        "id": "dL2l2sOAOYbO",
        "outputId": "39ecdc31-b1c6-4038-e79e-99811b39688c"
      },
      "source": [
        "model.classes_"
      ],
      "execution_count": 8,
      "outputs": [
        {
          "output_type": "execute_result",
          "data": {
            "text/plain": [
              "array(['benign', 'malignant'], dtype='<U9')"
            ]
          },
          "metadata": {},
          "execution_count": 8
        }
      ]
    },
    {
      "cell_type": "code",
      "metadata": {
        "colab": {
          "base_uri": "https://localhost:8080/",
          "height": 296
        },
        "id": "e_qqqEOw4LY-",
        "outputId": "7b4ab5c3-4bbd-4246-c869-586fc97554ed"
      },
      "source": [
        "import matplotlib.pyplot as plt\n",
        "from scipy.special import expit\n",
        "\n",
        "plt.scatter(x, y, color='red', marker= '+', label= 'Training Data')\n",
        "\n",
        "x_test = np.linspace(100, 400, 100)\n",
        "loss = expit(model.coef_ * x_test + model.intercept_).ravel()\n",
        "# print(loss)\n",
        "plt.plot(x_test, loss , color='green', label='Regression Line')\n",
        "plt.plot([100, 400], [0.5, 0.5], color='blue', label='Midpoint')\n",
        "\n",
        "plt.rcParams[\"figure.figsize\"] = (10,6)\n",
        "plt.grid()\n",
        "plt.xlabel('X')\n",
        "plt.ylabel('Y')\n",
        "plt.legend()"
      ],
      "execution_count": 9,
      "outputs": [
        {
          "output_type": "execute_result",
          "data": {
            "text/plain": [
              "<matplotlib.legend.Legend at 0x7f84804a9ad0>"
            ]
          },
          "metadata": {},
          "execution_count": 9
        },
        {
          "output_type": "display_data",
          "data": {
            "image/png": "[encoded data removed]",
            "text/plain": [
              "<Figure size 432x288 with 1 Axes>"
            ]
          },
          "metadata": {
            "needs_background": "light"
          }
        }
      ]
    },
    {
      "cell_type": "code",
      "metadata": {
        "colab": {
          "base_uri": "https://localhost:8080/"
        },
        "id": "3vnzohcNPHm_",
        "outputId": "002edae1-d130-44d6-8129-bea7d2f9f534"
      },
      "source": [
        "model.predict_proba(x.reshape(-1, 1))"
      ],
      "execution_count": 10,
      "outputs": [
        {
          "output_type": "execute_result",
          "data": {
            "text/plain": [
              "array([[0.53733656, 0.46266344],\n",
              "       [0.49173672, 0.50826328],\n",
              "       [0.56957347, 0.43042653],\n",
              "       [0.50478446, 0.49521554],\n",
              "       [0.6090258 , 0.3909742 ],\n",
              "       [0.18520781, 0.81479219],\n",
              "       [0.58549056, 0.41450944],\n",
              "       [0.43983437, 0.56016563],\n",
              "       [0.31924246, 0.68075754],\n",
              "       [0.47219174, 0.52780826],\n",
              "       [0.1952562 , 0.8047438 ]])"
            ]
          },
          "metadata": {},
          "execution_count": 10
        }
      ]
    },
    {
      "cell_type": "code",
      "metadata": {
        "colab": {
          "base_uri": "https://localhost:8080/"
        },
        "id": "TZI4h03QPMne",
        "outputId": "f0307391-bb1f-41b3-80f0-a5ab896f7f29"
      },
      "source": [
        "model.score(x.reshape(-1, 1), y)"
      ],
      "execution_count": 11,
      "outputs": [
        {
          "output_type": "execute_result",
          "data": {
            "text/plain": [
              "0.8181818181818182"
            ]
          },
          "metadata": {},
          "execution_count": 11
        }
      ]
    },
    {
      "cell_type": "code",
      "metadata": {
        "colab": {
          "base_uri": "https://localhost:8080/"
        },
        "id": "i1hs1Gac2gDw",
        "outputId": "1f1a0059-f096-495b-e16b-077b13e7f9eb"
      },
      "source": [
        "from sklearn.metrics import classification_report, confusion_matrix\n",
        "\n",
        "print(confusion_matrix(y, model.predict(x.reshape(-1, 1))))\n",
        "print(classification_report(y, model.predict(x.reshape(-1, 1))))"
      ],
      "execution_count": 12,
      "outputs": [
        {
          "output_type": "stream",
          "name": "stdout",
          "text": [
            "[[5 2]\n",
            " [0 4]]\n",
            "              precision    recall  f1-score   support\n",
            "\n",
            "      benign       1.00      0.71      0.83         7\n",
            "   malignant       0.67      1.00      0.80         4\n",
            "\n",
            "    accuracy                           0.82        11\n",
            "   macro avg       0.83      0.86      0.82        11\n",
            "weighted avg       0.88      0.82      0.82        11\n",
            "\n"
          ]
        }
      ]
    },
    {
      "cell_type": "code",
      "metadata": {
        "colab": {
          "base_uri": "https://localhost:8080/",
          "height": 482
        },
        "id": "AT-TJNoJtLDs",
        "outputId": "fa9ca967-0fea-485a-8510-261cd6acaaa2"
      },
      "source": [
        "cm = confusion_matrix(y, model.predict(x.reshape(-1, 1)))\n",
        "\n",
        "fig, ax = plt.subplots(figsize=(8, 8))\n",
        "ax.imshow(cm)\n",
        "ax.grid(False)\n",
        "ax.xaxis.set(ticks=(0, 1), ticklabels=('Predicted 0s', 'Predicted 1s'))\n",
        "ax.yaxis.set(ticks=(0, 1), ticklabels=('Actual 0s', 'Actual 1s'))\n",
        "ax.set_ylim(1.5, -0.5)\n",
        "for i in range(2):\n",
        "    for j in range(2):\n",
        "        ax.text(j, i, cm[i, j], ha='center', va='center', color='red')\n",
        "plt.show()"
      ],
      "execution_count": 22,
      "outputs": [
        {
          "output_type": "display_data",
          "data": {
            "image/png": "[encoded data removed]",
            "text/plain": [
              "<Figure size 576x576 with 1 Axes>"
            ]
          },
          "metadata": {
            "needs_background": "light"
          }
        }
      ]
    },
    {
      "cell_type": "code",
      "metadata": {
        "colab": {
          "base_uri": "https://localhost:8080/",
          "height": 392
        },
        "id": "E5edh3s2u0Ov",
        "outputId": "45c674a1-df4f-41dc-cd26-21052b72c04f"
      },
      "source": [
        "from sklearn.metrics import ConfusionMatrixDisplay\n",
        "\n",
        "# cm = confusion_matrix(y_test, predictions, labels=clf.classes_)\n",
        "cm = confusion_matrix(y, model.predict(x.reshape(-1, 1)))\n",
        "disp = ConfusionMatrixDisplay(confusion_matrix=cm, display_labels=model.classes_)\n",
        "disp.plot()\n",
        "plt.show()"
      ],
      "execution_count": 23,
      "outputs": [
        {
          "output_type": "display_data",
          "data": {
            "image/png": "[encoded data removed]",
            "text/plain": [
              "<Figure size 720x432 with 2 Axes>"
            ]
          },
          "metadata": {
            "needs_background": "light"
          }
        }
      ]
    },
    {
      "cell_type": "code",
      "metadata": {
        "colab": {
          "base_uri": "https://localhost:8080/"
        },
        "id": "zA8fiFqN7of7",
        "outputId": "0218f877-5aa7-42fe-9392-f5772be57b4b"
      },
      "source": [
        "import numpy as np\n",
        "from sklearn.linear_model import LogisticRegression\n",
        "from sklearn.model_selection import train_test_split\n",
        "\n",
        "x = np.array([    150,      178,      130,      170,      105,         400,      120,         210,        289,       190,          390])\n",
        "y = np.array(['benign', 'benign', 'benign', 'benign', 'benign', 'malignant', 'benign', 'malignant', 'malignant', 'benign', 'malignant'])\n",
        "\n",
        "x_train, x_test, y_train, y_test = train_test_split(x, y, test_size=0.1)\n",
        "\n",
        "model = LogisticRegression(solver='liblinear', random_state=42) # penalty='none')\n",
        "model.fit(x_train.reshape(-1, 1), y_train)\n",
        "\n",
        "# Print metrics\n",
        "print(model.predict(x_test.reshape(-1, 1)))\n",
        "# print(x_test)\n",
        "print(y_test)\n",
        "print(model.score(x.reshape(-1, 1), y))\n",
        "\n"
      ],
      "execution_count": 30,
      "outputs": [
        {
          "output_type": "stream",
          "name": "stdout",
          "text": [
            "['benign' 'benign']\n",
            "['malignant' 'malignant']\n",
            "0.6363636363636364\n"
          ]
        }
      ]
    },
    {
      "cell_type": "code",
      "metadata": {
        "colab": {
          "base_uri": "https://localhost:8080/"
        },
        "id": "xkon8yt59w57",
        "outputId": "16a9527a-0b76-496e-8ccd-86846329f8ae"
      },
      "source": [
        "import numpy as np\n",
        "from sklearn.linear_model import LogisticRegression\n",
        "from sklearn.model_selection import train_test_split\n",
        "from sklearn.metrics import classification_report, confusion_matrix\n",
        "from sklearn.metrics import f1_score\n",
        "\n",
        "x = np.array([    150,      178,      130,      170,      105,         400,      120,         210,        289,       190,          390])\n",
        "y = np.array(['benign', 'benign', 'benign', 'benign', 'benign', 'malignant', 'benign', 'malignant', 'malignant', 'benign', 'malignant'])\n",
        "\n",
        "x_train, x_test, y_train, y_test = train_test_split(x, y, test_size=0.1)\n",
        "\n",
        "# model = LogisticRegression(solver='liblinear', random_state=42) # acc 0.9090909090909091 - f1 0.8952380952380952\n",
        "model = LogisticRegression(solver='newton-cg', random_state=42, penalty='none') # acc 0.9090909090909091 - f1 0.8952380952380952\n",
        "\n",
        "# penalty='none'\n",
        "model.fit(x_train.reshape(-1, 1), y_train)\n",
        "\n",
        "# Print metrics\n",
        "print(model.predict(x_test.reshape(-1, 1)))\n",
        "# print(x_test)\n",
        "print(y_test)\n",
        "print(model.score(x.reshape(-1, 1), y))\n",
        "print(confusion_matrix(y, model.predict(x.reshape(-1, 1))))\n",
        "print(classification_report(y, model.predict(x.reshape(-1, 1))))\n",
        "\n",
        "f1_score(y, model.predict(x.reshape(-1, 1)), average='macro')"
      ],
      "execution_count": 32,
      "outputs": [
        {
          "output_type": "stream",
          "name": "stdout",
          "text": [
            "['benign' 'malignant']\n",
            "['benign' 'malignant']\n",
            "1.0\n",
            "[[7 0]\n",
            " [0 4]]\n",
            "              precision    recall  f1-score   support\n",
            "\n",
            "      benign       1.00      1.00      1.00         7\n",
            "   malignant       1.00      1.00      1.00         4\n",
            "\n",
            "    accuracy                           1.00        11\n",
            "   macro avg       1.00      1.00      1.00        11\n",
            "weighted avg       1.00      1.00      1.00        11\n",
            "\n"
          ]
        },
        {
          "output_type": "execute_result",
          "data": {
            "text/plain": [
              "1.0"
            ]
          },
          "metadata": {},
          "execution_count": 32
        }
      ]
    },
    {
      "cell_type": "code",
      "metadata": {
        "colab": {
          "base_uri": "https://localhost:8080/",
          "height": 405
        },
        "id": "0_xyoZA2-Txq",
        "outputId": "0d722f29-4904-4bda-af9c-01e7b36c1103"
      },
      "source": [
        "import matplotlib.pyplot as plt\n",
        "from scipy.special import expit\n",
        "\n",
        "plt.scatter(x, y, color='red', marker= '+', label= 'Training Data')\n",
        "\n",
        "x_test = np.linspace(100, 400, 100)\n",
        "loss = expit(model.coef_ * x_test + model.intercept_).ravel()\n",
        "# print(loss)\n",
        "plt.plot(x_test, loss , color='green', label='Regression Line')\n",
        "plt.plot([100, 400], [0.5, 0.5], color='blue', label='Midpoint')\n",
        "\n",
        "plt.rcParams[\"figure.figsize\"] = (10,6)\n",
        "plt.grid()\n",
        "plt.xlabel('X')\n",
        "plt.ylabel('Y')\n",
        "plt.legend()"
      ],
      "execution_count": 33,
      "outputs": [
        {
          "output_type": "execute_result",
          "data": {
            "text/plain": [
              "<matplotlib.legend.Legend at 0x7f847f7ead10>"
            ]
          },
          "metadata": {},
          "execution_count": 33
        },
        {
          "output_type": "display_data",
          "data": {
            "image/png": "[encoded data removed]",
            "text/plain": [
              "<Figure size 720x432 with 1 Axes>"
            ]
          },
          "metadata": {
            "needs_background": "light"
          }
        }
      ]
    },
    {
      "cell_type": "code",
      "metadata": {
        "colab": {
          "base_uri": "https://localhost:8080/",
          "height": 772
        },
        "id": "YVvDMEkb-rzC",
        "outputId": "68908174-d32f-4000-f929-5d6cef2a56b4"
      },
      "source": [
        "x = np.array([    150,      178,      130,      170,      105,         400,      120,         210,        289,       190,          390])\n",
        "y = np.array(['benign', 'benign', 'benign', 'benign', 'benign', 'malignant', 'benign', 'malignant', 'malignant', 'benign', 'malignant'])\n",
        "\n",
        "x_train, x_test, y_train, y_test = train_test_split(x, y, test_size=0.1)\n",
        "\n",
        "# model = LogisticRegression(solver='liblinear', random_state=42) # acc 0.9090909090909091 - f1 0.8952380952380952\n",
        "# model = LogisticRegression(solver='newton-cg', random_state=42) # acc 1.0                - f1 1.0\n",
        "# model = LogisticRegression(solver='newton-cg', random_state=42, penalty='none') # same as above, just sometime falls below 1\n",
        "model = LogisticRegression(solver='sag', random_state=42, penalty='none')\n",
        "\n",
        "model.fit(x_train.reshape(-1, 1), y_train)\n",
        "\n",
        "# Print metrics\n",
        "print(model.predict(x_test.reshape(-1, 1)))\n",
        "# print(x_test)\n",
        "print(y_test)\n",
        "print(model.score(x.reshape(-1, 1), y))\n",
        "print(confusion_matrix(y, model.predict(x.reshape(-1, 1))))\n",
        "print(classification_report(y, model.predict(x.reshape(-1, 1))))\n",
        "\n",
        "f1_score(y, model.predict(x.reshape(-1, 1)), average='macro')\n",
        "\n",
        "\n",
        "# visualize\n",
        "plt.scatter(x, y, color='red', marker= '+', label= 'Training Data')\n",
        "\n",
        "x_test = np.linspace(100, 400, 100)\n",
        "linear_function_output = model.coef_ * x_test + model.intercept_ # equation of the line\n",
        "loss = expit(linear_function_output).ravel()\n",
        "# print(loss)\n",
        "plt.plot(x_test, loss , color='green', label='Regression Line')\n",
        "plt.plot([100, 400], [0.5, 0.5], color='blue', label='Midpoint')\n",
        "\n",
        "plt.rcParams[\"figure.figsize\"] = (10,6)\n",
        "plt.grid()\n",
        "plt.xlabel('X')\n",
        "plt.ylabel('Y')\n",
        "plt.legend()"
      ],
      "execution_count": 46,
      "outputs": [
        {
          "output_type": "stream",
          "name": "stdout",
          "text": [
            "['malignant' 'malignant']\n",
            "['benign' 'malignant']\n",
            "0.36363636363636365\n",
            "[[0 7]\n",
            " [0 4]]\n",
            "              precision    recall  f1-score   support\n",
            "\n",
            "      benign       0.00      0.00      0.00         7\n",
            "   malignant       0.36      1.00      0.53         4\n",
            "\n",
            "    accuracy                           0.36        11\n",
            "   macro avg       0.18      0.50      0.27        11\n",
            "weighted avg       0.13      0.36      0.19        11\n",
            "\n"
          ]
        },
        {
          "output_type": "stream",
          "name": "stderr",
          "text": [
            "/usr/local/lib/python3.7/dist-packages/sklearn/metrics/_classification.py:1308: UndefinedMetricWarning: Precision and F-score are ill-defined and being set to 0.0 in labels with no predicted samples. Use `zero_division` parameter to control this behavior.\n",
            "  _warn_prf(average, modifier, msg_start, len(result))\n",
            "/usr/local/lib/python3.7/dist-packages/sklearn/metrics/_classification.py:1308: UndefinedMetricWarning: Precision and F-score are ill-defined and being set to 0.0 in labels with no predicted samples. Use `zero_division` parameter to control this behavior.\n",
            "  _warn_prf(average, modifier, msg_start, len(result))\n",
            "/usr/local/lib/python3.7/dist-packages/sklearn/metrics/_classification.py:1308: UndefinedMetricWarning: Precision and F-score are ill-defined and being set to 0.0 in labels with no predicted samples. Use `zero_division` parameter to control this behavior.\n",
            "  _warn_prf(average, modifier, msg_start, len(result))\n"
          ]
        },
        {
          "output_type": "execute_result",
          "data": {
            "text/plain": [
              "<matplotlib.legend.Legend at 0x7f847fc4bd90>"
            ]
          },
          "metadata": {},
          "execution_count": 46
        },
        {
          "output_type": "display_data",
          "data": {
            "image/png": "[encoded data removed]",
            "text/plain": [
              "<Figure size 720x432 with 1 Axes>"
            ]
          },
          "metadata": {
            "needs_background": "light"
          }
        }
      ]
    },
    {
      "cell_type": "code",
      "metadata": {
        "colab": {
          "base_uri": "https://localhost:8080/",
          "height": 772
        },
        "id": "I22JqRLV__XJ",
        "outputId": "f0ca63f3-353f-4f4f-809d-d41d2e994c64"
      },
      "source": [
        "x = np.array([    150,      178,      130,      170,      105,         400,      120,         210,        289,       190,          390])\n",
        "y = np.array(['benign', 'benign', 'benign', 'benign', 'benign', 'malignant', 'benign', 'malignant', 'malignant', 'benign', 'malignant'])\n",
        "\n",
        "x_train, x_test, y_train, y_test = train_test_split(x, y, test_size=0.1)\n",
        "\n",
        "\n",
        "model = LogisticRegression(solver='sag', random_state=42, penalty='l2', max_iter=100000)\n",
        "\n",
        "model.fit(x_train.reshape(-1, 1), y_train)\n",
        "\n",
        "# Print metrics\n",
        "print(model.predict(x_test.reshape(-1, 1)))\n",
        "# print(x_test)\n",
        "print(y_test)\n",
        "print(model.score(x.reshape(-1, 1), y))\n",
        "print(confusion_matrix(y, model.predict(x.reshape(-1, 1))))\n",
        "print(classification_report(y, model.predict(x.reshape(-1, 1))))\n",
        "\n",
        "f1_score(y, model.predict(x.reshape(-1, 1)), average='macro')\n",
        "\n",
        "\n",
        "# visualize\n",
        "plt.scatter(x, y, color='red', marker= '+', label= 'Training Data')\n",
        "\n",
        "x_test = np.linspace(100, 400, 100)\n",
        "linear_function_output = model.coef_ * x_test + model.intercept_ # equation of the line\n",
        "loss = expit(linear_function_output).ravel()\n",
        "# print(loss)\n",
        "plt.plot(x_test, loss , color='green', label='Regression Line')\n",
        "plt.plot([100, 400], [0.5, 0.5], color='blue', label='Midpoint')\n",
        "\n",
        "plt.rcParams[\"figure.figsize\"] = (10,6)\n",
        "plt.grid()\n",
        "plt.xlabel('X')\n",
        "plt.ylabel('Y')\n",
        "plt.legend()\n",
        "\n"
      ],
      "execution_count": 47,
      "outputs": [
        {
          "output_type": "stream",
          "name": "stdout",
          "text": [
            "['malignant' 'malignant']\n",
            "['benign' 'benign']\n",
            "0.36363636363636365\n",
            "[[0 7]\n",
            " [0 4]]\n",
            "              precision    recall  f1-score   support\n",
            "\n",
            "      benign       0.00      0.00      0.00         7\n",
            "   malignant       0.36      1.00      0.53         4\n",
            "\n",
            "    accuracy                           0.36        11\n",
            "   macro avg       0.18      0.50      0.27        11\n",
            "weighted avg       0.13      0.36      0.19        11\n",
            "\n"
          ]
        },
        {
          "output_type": "stream",
          "name": "stderr",
          "text": [
            "/usr/local/lib/python3.7/dist-packages/sklearn/metrics/_classification.py:1308: UndefinedMetricWarning: Precision and F-score are ill-defined and being set to 0.0 in labels with no predicted samples. Use `zero_division` parameter to control this behavior.\n",
            "  _warn_prf(average, modifier, msg_start, len(result))\n",
            "/usr/local/lib/python3.7/dist-packages/sklearn/metrics/_classification.py:1308: UndefinedMetricWarning: Precision and F-score are ill-defined and being set to 0.0 in labels with no predicted samples. Use `zero_division` parameter to control this behavior.\n",
            "  _warn_prf(average, modifier, msg_start, len(result))\n",
            "/usr/local/lib/python3.7/dist-packages/sklearn/metrics/_classification.py:1308: UndefinedMetricWarning: Precision and F-score are ill-defined and being set to 0.0 in labels with no predicted samples. Use `zero_division` parameter to control this behavior.\n",
            "  _warn_prf(average, modifier, msg_start, len(result))\n"
          ]
        },
        {
          "output_type": "execute_result",
          "data": {
            "text/plain": [
              "<matplotlib.legend.Legend at 0x7f847f51af50>"
            ]
          },
          "metadata": {},
          "execution_count": 47
        },
        {
          "output_type": "display_data",
          "data": {
            "image/png": "[encoded data removed]",
            "text/plain": [
              "<Figure size 720x432 with 1 Axes>"
            ]
          },
          "metadata": {
            "needs_background": "light"
          }
        }
      ]
    },
    {
      "cell_type": "code",
      "metadata": {
        "colab": {
          "base_uri": "https://localhost:8080/",
          "height": 648
        },
        "id": "zZawKiGtBtqS",
        "outputId": "585f714b-a118-4e99-ae1e-a198fee861c7"
      },
      "source": [
        "x = np.array([    150,      178,      130,      170,      105,         400,      120,         210,        289,       190,          390])\n",
        "y = np.array(['benign', 'benign', 'benign', 'benign', 'benign', 'malignant', 'benign', 'malignant', 'malignant', 'benign', 'malignant'])\n",
        "\n",
        "x_train, x_test, y_train, y_test = train_test_split(x, y, test_size=0.1)\n",
        "\n",
        "# model = LogisticRegression(solver='liblinear', random_state=42)                 # acc 0.9090909090909091 - f1 0.8952380952380952\n",
        "# model = LogisticRegression(solver='newton-cg', random_state=42)                 # acc 1.0                - f1 1.0\n",
        "# model = LogisticRegression(solver='newton-cg', random_state=42, penalty='none') # same as above, just sometime falls below 1\n",
        "# model = LogisticRegression(solver='sag', random_state=42, penalty='none')       # acc 0.36363636363636365 - f1: none\n",
        "# model = LogisticRegression(solver='sag', random_state=42, penalty='l2', max_iter=100000)\n",
        "model = LogisticRegression(solver='liblinear', random_state=42, C=20000.0) \n",
        "\n",
        "model.fit(x_train.reshape(-1, 1), y_train)\n",
        "\n",
        "# Print metrics\n",
        "print(model.predict(x_test.reshape(-1, 1)))\n",
        "# print(x_test)\n",
        "print(y_test)\n",
        "print(model.score(x.reshape(-1, 1), y))\n",
        "print(confusion_matrix(y, model.predict(x.reshape(-1, 1))))\n",
        "print(classification_report(y, model.predict(x.reshape(-1, 1))))\n",
        "\n",
        "f1_score(y, model.predict(x.reshape(-1, 1)), average='macro')\n",
        "\n",
        "\n",
        "# visualize\n",
        "plt.scatter(x, y, color='red', marker= '+', label= 'Training Data')\n",
        "\n",
        "x_test = np.linspace(100, 400, 100)\n",
        "linear_function_output = model.coef_ * x_test + model.intercept_ # equation of the line\n",
        "loss = expit(linear_function_output).ravel()\n",
        "# print(loss)\n",
        "plt.plot(x_test, loss , color='green', label='Regression Line')\n",
        "plt.plot([100, 400], [0.5, 0.5], color='blue', label='Midpoint')\n",
        "\n",
        "plt.rcParams[\"figure.figsize\"] = (10,6)\n",
        "plt.grid()\n",
        "plt.xlabel('X')\n",
        "plt.ylabel('Y')\n",
        "plt.legend()"
      ],
      "execution_count": 45,
      "outputs": [
        {
          "output_type": "stream",
          "name": "stdout",
          "text": [
            "['benign' 'benign']\n",
            "['benign' 'benign']\n",
            "1.0\n",
            "[[7 0]\n",
            " [0 4]]\n",
            "              precision    recall  f1-score   support\n",
            "\n",
            "      benign       1.00      1.00      1.00         7\n",
            "   malignant       1.00      1.00      1.00         4\n",
            "\n",
            "    accuracy                           1.00        11\n",
            "   macro avg       1.00      1.00      1.00        11\n",
            "weighted avg       1.00      1.00      1.00        11\n",
            "\n"
          ]
        },
        {
          "output_type": "execute_result",
          "data": {
            "text/plain": [
              "<matplotlib.legend.Legend at 0x7f847fa4d650>"
            ]
          },
          "metadata": {},
          "execution_count": 45
        },
        {
          "output_type": "display_data",
          "data": {
            "image/png": "[encoded data removed]",
            "text/plain": [
              "<Figure size 720x432 with 1 Axes>"
            ]
          },
          "metadata": {
            "needs_background": "light"
          }
        }
      ]
    },
    {
      "cell_type": "code",
      "metadata": {
        "colab": {
          "base_uri": "https://localhost:8080/",
          "height": 665
        },
        "id": "ZvQJhdJcFkbm",
        "outputId": "1cb9c4fb-da91-4217-c1d4-6858a210b919"
      },
      "source": [
        "x = np.array([    150,      178,      130,      170,      105,         400,      120,         210,        289,       190,          390])\n",
        "y = np.array(['benign', 'benign', 'benign', 'benign', 'benign', 'malignant', 'benign', 'malignant', 'malignant', 'benign', 'malignant'])\n",
        "\n",
        "x_train, x_test, y_train, y_test = train_test_split(x, y, test_size=0.1)\n",
        "\n",
        "# model = LogisticRegression(solver='liblinear', random_state=42)                 # acc 0.9090909090909091 - f1 0.8952380952380952\n",
        "# model = LogisticRegression(solver='newton-cg', random_state=42)                 # acc 1.0                - f1 1.0\n",
        "# model = LogisticRegression(solver='newton-cg', random_state=42, penalty='none') # same as above, just sometime falls below 1\n",
        "# model = LogisticRegression(solver='sag', random_state=42, penalty='none')       # acc 0.36363636363636365 - f1: none\n",
        "# model = LogisticRegression(solver='sag', random_state=42, penalty='l2', max_iter=100000)\n",
        "# model = LogisticRegression(solver='liblinear', random_state=42, C=20000.0) \n",
        "model = LogisticRegression() \n",
        "\n",
        "model.fit(x_train.reshape(-1, 1), y_train)\n",
        "\n",
        "# Print metrics\n",
        "print(model.predict(x_test.reshape(-1, 1)))\n",
        "print(x_test)\n",
        "print(y_test)\n",
        "print(model.score(x.reshape(-1, 1), y))\n",
        "print(confusion_matrix(y, model.predict(x.reshape(-1, 1))))\n",
        "print(classification_report(y, model.predict(x.reshape(-1, 1))))\n",
        "\n",
        "f1_score(y, model.predict(x.reshape(-1, 1)), average='macro')\n",
        "\n",
        "\n",
        "# visualize\n",
        "plt.scatter(x, y, color='red', marker= '+', label= 'Training Data')\n",
        "\n",
        "x_test = np.linspace(100, 400, 100)\n",
        "linear_function_output = model.coef_ * x_test + model.intercept_ # equation of the line\n",
        "loss = expit(linear_function_output).ravel()\n",
        "# print(loss)\n",
        "plt.plot(x_test, loss , color='green', label='Regression Line')\n",
        "plt.plot([100, 400], [0.5, 0.5], color='blue', label='Midpoint')\n",
        "\n",
        "plt.rcParams[\"figure.figsize\"] = (10,6)\n",
        "plt.grid()\n",
        "plt.xlabel('X')\n",
        "plt.ylabel('Y')\n",
        "plt.legend()"
      ],
      "execution_count": 48,
      "outputs": [
        {
          "output_type": "stream",
          "name": "stdout",
          "text": [
            "['benign' 'benign']\n",
            "[130 170]\n",
            "['benign' 'benign']\n",
            "1.0\n",
            "[[7 0]\n",
            " [0 4]]\n",
            "              precision    recall  f1-score   support\n",
            "\n",
            "      benign       1.00      1.00      1.00         7\n",
            "   malignant       1.00      1.00      1.00         4\n",
            "\n",
            "    accuracy                           1.00        11\n",
            "   macro avg       1.00      1.00      1.00        11\n",
            "weighted avg       1.00      1.00      1.00        11\n",
            "\n"
          ]
        },
        {
          "output_type": "execute_result",
          "data": {
            "text/plain": [
              "<matplotlib.legend.Legend at 0x7f847fa6e6d0>"
            ]
          },
          "metadata": {},
          "execution_count": 48
        },
        {
          "output_type": "display_data",
          "data": {
            "image/png": "[encoded data removed]",
            "text/plain": [
              "<Figure size 720x432 with 1 Axes>"
            ]
          },
          "metadata": {
            "needs_background": "light"
          }
        }
      ]
    }
  ]
}