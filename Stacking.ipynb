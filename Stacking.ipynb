{
  "nbformat": 4,
  "nbformat_minor": 0,
  "metadata": {
    "colab": {
      "name": "Stacking.ipynb",
      "provenance": [],
      "authorship_tag": "ABX9TyNOYtwII0gkxV6NvTR8y+aP",
      "include_colab_link": true
    },
    "kernelspec": {
      "name": "python3",
      "display_name": "Python 3"
    },
    "language_info": {
      "name": "python"
    }
  },
  "cells": [
    {
      "cell_type": "markdown",
      "metadata": {
        "id": "view-in-github",
        "colab_type": "text"
      },
      "source": [
        "<a href=\"https://colab.research.google.com/github/Daivar/ML-models-training/blob/main/Stacking.ipynb\" target=\"_parent\"><img src=\"https://colab.research.google.com/assets/colab-badge.svg\" alt=\"Open In Colab\"/></a>"
      ]
    },
    {
      "cell_type": "code",
      "metadata": {
        "colab": {
          "base_uri": "https://localhost:8080/"
        },
        "id": "cDTzGQLslnmi",
        "outputId": "59423b39-2fd0-49ab-b4fa-a018eec706aa"
      },
      "source": [
        "from sklearn.datasets import load_iris\n",
        "from sklearn.ensemble import RandomForestClassifier\n",
        "from sklearn.ensemble import StackingClassifier\n",
        "from sklearn.linear_model import LogisticRegression\n",
        "from sklearn.neighbors import KNeighborsClassifier\n",
        "from sklearn.svm import SVC\n",
        "from sklearn.tree import DecisionTreeClassifier\n",
        "from sklearn.metrics import confusion_matrix\n",
        "from sklearn.model_selection import train_test_split\n",
        "\n",
        "iris = load_iris()\n",
        "X, y = iris.data, iris.target\n",
        "X_train, X_val, y_train, y_val = train_test_split(X, y, random_state=49)\n",
        "\n",
        "clfs=[\n",
        "    ('rf', RandomForestClassifier(n_estimators=100, random_state=1)),\n",
        "    ('dt', DecisionTreeClassifier(max_depth=1, random_state=1)),\n",
        "    ('knn', KNeighborsClassifier(n_neighbors=1, p=2, metric='minkowski')), \n",
        "    ('svc',  SVC(kernel='rbf', random_state=1, probability=True))\n",
        "]\n",
        "\n",
        "# Create meta-classifier\n",
        "meta = LogisticRegression(solver='lbfgs', C=5.0, random_state=1)\n",
        "\n",
        "# Create StackingClassifier\n",
        "stack = StackingClassifier(estimators=clfs, final_estimator=meta, stack_method='predict_proba')\n",
        "\n",
        "stack.fit(X_train, y_train)\n",
        "cm = confusion_matrix(y_val, stack.predict(X_val))\n",
        "print(cm)\n"
      ],
      "execution_count": 3,
      "outputs": [
        {
          "output_type": "stream",
          "name": "stdout",
          "text": [
            "[[12  0  0]\n",
            " [ 0 11  1]\n",
            " [ 0  1 13]]\n"
          ]
        }
      ]
    }
  ]
}