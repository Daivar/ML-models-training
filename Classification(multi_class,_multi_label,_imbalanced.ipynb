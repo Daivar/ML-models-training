{
  "nbformat": 4,
  "nbformat_minor": 0,
  "metadata": {
    "colab": {
      "name": "Classification(multi-class, multi-label, imbalanced.ipynb",
      "provenance": [],
      "toc_visible": true,
      "authorship_tag": "ABX9TyPqt4cF9ZxgHyjB8Cbr3kGj",
      "include_colab_link": true
    },
    "kernelspec": {
      "name": "python3",
      "display_name": "Python 3"
    },
    "language_info": {
      "name": "python"
    }
  },
  "cells": [
    {
      "cell_type": "markdown",
      "metadata": {
        "id": "view-in-github",
        "colab_type": "text"
      },
      "source": [
        "<a href=\"https://colab.research.google.com/github/Daivar/ML-models-training/blob/main/Classification(multi_class%2C_multi_label%2C_imbalanced.ipynb\" target=\"_parent\"><img src=\"https://colab.research.google.com/assets/colab-badge.svg\" alt=\"Open In Colab\"/></a>"
      ]
    },
    {
      "cell_type": "code",
      "metadata": {
        "id": "TBQF4yIrhf4o"
      },
      "source": [
        "import matplotlib.pyplot as plt\n",
        "import numpy as np\n",
        "from sklearn.datasets import load_digits\n",
        "from sklearn.linear_model import LogisticRegression\n",
        "from sklearn.metrics import classification_report, confusion_matrix\n",
        "from sklearn.model_selection import train_test_split\n",
        "from sklearn.preprocessing import StandardScaler\n",
        "import matplotlib.font_manager as font_manager\n",
        "from matplotlib.pyplot import *\n",
        "from matplotlib.font_manager import FontProperties"
      ],
      "execution_count": 16,
      "outputs": []
    },
    {
      "cell_type": "markdown",
      "metadata": {
        "id": "2xz_x-yilwoD"
      },
      "source": [
        "### https://realpython.com/logistic-regression-python/#multi-variate-logistic-regression"
      ]
    },
    {
      "cell_type": "code",
      "metadata": {
        "colab": {
          "base_uri": "https://localhost:8080/"
        },
        "id": "Nh2GNOM0KKdv",
        "outputId": "8d671055-46bd-4a20-c64a-f96f3704374f"
      },
      "source": [
        "x, y = load_digits(return_X_y=True)\n",
        "print(x, y)"
      ],
      "execution_count": 17,
      "outputs": [
        {
          "output_type": "stream",
          "name": "stdout",
          "text": [
            "[[ 0.  0.  5. ...  0.  0.  0.]\n",
            " [ 0.  0.  0. ... 10.  0.  0.]\n",
            " [ 0.  0.  0. ... 16.  9.  0.]\n",
            " ...\n",
            " [ 0.  0.  1. ...  6.  0.  0.]\n",
            " [ 0.  0.  2. ... 12.  0.  0.]\n",
            " [ 0.  0. 10. ... 12.  1.  0.]] [0 1 2 ... 8 9 8]\n"
          ]
        }
      ]
    },
    {
      "cell_type": "code",
      "metadata": {
        "id": "-RQSkcK6jV5p"
      },
      "source": [
        "x_train, x_test, y_train, y_test =\\\n",
        "    train_test_split(x, y, test_size=0.2, random_state=0)"
      ],
      "execution_count": 18,
      "outputs": []
    },
    {
      "cell_type": "code",
      "metadata": {
        "id": "sNxVgt9RjqXa"
      },
      "source": [
        "scaler = StandardScaler()\n",
        "x_train = scaler.fit_transform(x_train)"
      ],
      "execution_count": 19,
      "outputs": []
    },
    {
      "cell_type": "code",
      "metadata": {
        "colab": {
          "base_uri": "https://localhost:8080/"
        },
        "id": "ApNaZvX5jtOZ",
        "outputId": "50b686b4-ab5d-4292-fc9d-da5a3b13b70e"
      },
      "source": [
        "model = LogisticRegression(solver='liblinear', C=0.05, multi_class='ovr',\n",
        "                           random_state=0)\n",
        "model.fit(x_train, y_train)"
      ],
      "execution_count": 20,
      "outputs": [
        {
          "output_type": "execute_result",
          "data": {
            "text/plain": [
              "LogisticRegression(C=0.05, multi_class='ovr', random_state=0,\n",
              "                   solver='liblinear')"
            ]
          },
          "metadata": {},
          "execution_count": 20
        }
      ]
    },
    {
      "cell_type": "code",
      "metadata": {
        "colab": {
          "base_uri": "https://localhost:8080/"
        },
        "id": "KFAcLLUkj0Th",
        "outputId": "90949f6d-de1e-4291-8c84-0f15a505b6d5"
      },
      "source": [
        "LogisticRegression(C=0.05, class_weight=None, dual=False, fit_intercept=True,\n",
        "                   intercept_scaling=1, l1_ratio=None, max_iter=100,\n",
        "                   multi_class='ovr', n_jobs=None, penalty='l2', random_state=0,\n",
        "                   solver='liblinear', tol=0.0001, verbose=0, warm_start=False)"
      ],
      "execution_count": 21,
      "outputs": [
        {
          "output_type": "execute_result",
          "data": {
            "text/plain": [
              "LogisticRegression(C=0.05, multi_class='ovr', random_state=0,\n",
              "                   solver='liblinear')"
            ]
          },
          "metadata": {},
          "execution_count": 21
        }
      ]
    },
    {
      "cell_type": "code",
      "metadata": {
        "id": "8Ppin9WXj39J"
      },
      "source": [
        "x_test = scaler.transform(x_test)"
      ],
      "execution_count": 22,
      "outputs": []
    },
    {
      "cell_type": "code",
      "metadata": {
        "id": "bjhgjwBEj7eo"
      },
      "source": [
        "y_pred = model.predict(x_test)"
      ],
      "execution_count": 23,
      "outputs": []
    },
    {
      "cell_type": "code",
      "metadata": {
        "colab": {
          "base_uri": "https://localhost:8080/"
        },
        "id": "NXQC_TeYj8yI",
        "outputId": "f8274478-98d5-4372-fde9-f2cc6b5773d4"
      },
      "source": [
        "y_pred = model.predict(x_test)\n",
        "print(y_pred)"
      ],
      "execution_count": 24,
      "outputs": [
        {
          "output_type": "stream",
          "name": "stdout",
          "text": [
            "[2 8 2 6 6 7 1 9 8 5 2 8 6 6 6 6 1 0 5 8 8 7 8 4 7 5 4 9 2 9 4 7 6 8 9 4 3\n",
            " 1 0 1 8 6 7 7 9 0 7 6 2 1 9 6 7 9 0 0 5 1 6 3 0 2 3 4 1 9 2 6 9 1 8 3 5 1\n",
            " 2 1 2 2 9 7 2 3 6 0 5 3 7 5 1 2 9 9 3 1 7 7 4 8 5 8 5 5 2 5 9 0 7 1 4 7 3\n",
            " 4 8 9 7 7 8 0 1 5 2 5 3 4 1 7 0 6 1 5 9 9 9 5 9 9 5 7 5 6 2 8 6 7 6 1 5 1\n",
            " 5 9 9 1 5 3 6 1 8 9 7 7 6 7 6 5 6 0 8 8 9 3 6 1 0 4 1 6 3 8 6 7 4 9 6 3 0\n",
            " 3 3 3 0 7 7 5 7 8 0 7 8 9 6 4 5 0 1 4 6 4 3 3 0 9 5 9 2 1 4 2 1 6 8 9 2 4\n",
            " 9 3 7 6 2 3 3 1 6 9 3 6 3 2 2 0 7 6 1 1 3 7 2 7 8 5 5 7 5 3 2 7 2 7 5 5 7\n",
            " 0 9 1 6 5 9 7 4 3 8 0 3 6 4 6 3 1 6 8 8 8 4 6 7 5 2 4 5 3 2 4 6 9 4 5 4 3\n",
            " 4 6 2 9 0 6 7 2 0 9 6 0 4 2 0 7 5 8 5 7 8 2 8 4 3 7 2 6 8 1 5 1 0 8 2 8 9\n",
            " 5 6 2 2 7 2 1 5 1 6 4 5 0 9 4 1 1 7 0 8 9 0 5 4 3 8 8]\n"
          ]
        }
      ]
    },
    {
      "cell_type": "code",
      "metadata": {
        "colab": {
          "base_uri": "https://localhost:8080/"
        },
        "id": "W-IHVBRGkIhx",
        "outputId": "dfc39469-3594-40be-d4ae-a9161f9f8e79"
      },
      "source": [
        "model.score(x_test, y_test)\n"
      ],
      "execution_count": 25,
      "outputs": [
        {
          "output_type": "execute_result",
          "data": {
            "text/plain": [
              "0.9416666666666667"
            ]
          },
          "metadata": {},
          "execution_count": 25
        }
      ]
    },
    {
      "cell_type": "code",
      "metadata": {
        "colab": {
          "base_uri": "https://localhost:8080/"
        },
        "id": "B49NA3rQkP9s",
        "outputId": "475e37d7-8587-4b73-baed-aafc36062faa"
      },
      "source": [
        "confusion_matrix(y_test, y_pred)"
      ],
      "execution_count": 26,
      "outputs": [
        {
          "output_type": "execute_result",
          "data": {
            "text/plain": [
              "array([[27,  0,  0,  0,  0,  0,  0,  0,  0,  0],\n",
              "       [ 0, 32,  0,  0,  0,  0,  1,  0,  1,  1],\n",
              "       [ 1,  1, 33,  1,  0,  0,  0,  0,  0,  0],\n",
              "       [ 0,  0,  1, 28,  0,  0,  0,  0,  0,  0],\n",
              "       [ 0,  0,  0,  0, 29,  0,  0,  1,  0,  0],\n",
              "       [ 0,  0,  0,  0,  0, 39,  0,  0,  0,  1],\n",
              "       [ 0,  1,  0,  0,  0,  0, 43,  0,  0,  0],\n",
              "       [ 0,  0,  0,  0,  0,  0,  0, 39,  0,  0],\n",
              "       [ 0,  2,  1,  2,  0,  0,  0,  1, 33,  0],\n",
              "       [ 0,  0,  0,  1,  0,  1,  0,  2,  1, 36]])"
            ]
          },
          "metadata": {},
          "execution_count": 26
        }
      ]
    },
    {
      "cell_type": "code",
      "metadata": {
        "colab": {
          "base_uri": "https://localhost:8080/",
          "height": 497
        },
        "id": "PcS2cTvgkSKB",
        "outputId": "ed95afe8-b918-4f6b-ce87-923b17d924ef"
      },
      "source": [
        "cm = confusion_matrix(y_test, y_pred)\n",
        "\n",
        "fig, ax = plt.subplots(figsize=(8, 8))\n",
        "ax.imshow(cm)\n",
        "ax.grid(False)\n",
        "ax.set_xlabel('Predicted outputs') #fontsize=font_size, color='black')\n",
        "ax.set_ylabel('Actual outputs') #fontsize=font_size, color='black')\n",
        "ax.xaxis.set(ticks=range(10))\n",
        "ax.yaxis.set(ticks=range(10))\n",
        "ax.set_ylim(9.5, -0.5)\n",
        "for i in range(10):\n",
        "    for j in range(10):\n",
        "        ax.text(j, i, cm[i, j], ha='center', va='center', color='white')\n",
        "plt.show()"
      ],
      "execution_count": 27,
      "outputs": [
        {
          "output_type": "display_data",
          "data": {
            "image/png": "[encoded data removed]",
            "text/plain": [
              "<Figure size 576x576 with 1 Axes>"
            ]
          },
          "metadata": {
            "needs_background": "light"
          }
        }
      ]
    },
    {
      "cell_type": "code",
      "metadata": {
        "colab": {
          "base_uri": "https://localhost:8080/"
        },
        "id": "WT3HmPjYlaVc",
        "outputId": "aeaeaa90-71b2-4bf2-a71b-69a23d1b9a28"
      },
      "source": [
        "print(classification_report(y_test, y_pred))"
      ],
      "execution_count": 28,
      "outputs": [
        {
          "output_type": "stream",
          "name": "stdout",
          "text": [
            "              precision    recall  f1-score   support\n",
            "\n",
            "           0       0.96      1.00      0.98        27\n",
            "           1       0.89      0.91      0.90        35\n",
            "           2       0.94      0.92      0.93        36\n",
            "           3       0.88      0.97      0.92        29\n",
            "           4       1.00      0.97      0.98        30\n",
            "           5       0.97      0.97      0.97        40\n",
            "           6       0.98      0.98      0.98        44\n",
            "           7       0.91      1.00      0.95        39\n",
            "           8       0.94      0.85      0.89        39\n",
            "           9       0.95      0.88      0.91        41\n",
            "\n",
            "    accuracy                           0.94       360\n",
            "   macro avg       0.94      0.94      0.94       360\n",
            "weighted avg       0.94      0.94      0.94       360\n",
            "\n"
          ]
        }
      ]
    },
    {
      "cell_type": "markdown",
      "metadata": {
        "id": "wxZV_AStWoLy"
      },
      "source": [
        "### Multi-label classification"
      ]
    },
    {
      "cell_type": "code",
      "metadata": {
        "colab": {
          "base_uri": "https://localhost:8080/"
        },
        "id": "hpC42lOBljDy",
        "outputId": "eee7e5a6-cc0b-4b87-dc15-1baa48305d9a"
      },
      "source": [
        "from sklearn.datasets import make_multilabel_classification\n",
        "\n",
        "# this will generate a random multi-label dataset\n",
        "X, y = make_multilabel_classification(sparse = True, n_labels=20, return_indicator = 'dense', allow_unlabeled = False)\n",
        "# n_labels=20 - average number of labels per instance. More precisely, the number\n",
        "# n_classes=5 \n",
        "\n",
        "print(X.shape)\n",
        "print(y.shape)\n",
        "\n",
        "# y"
      ],
      "execution_count": 29,
      "outputs": [
        {
          "output_type": "stream",
          "name": "stdout",
          "text": [
            "(100, 20)\n",
            "(100, 5)\n"
          ]
        }
      ]
    },
    {
      "cell_type": "code",
      "metadata": {
        "id": "rhzTYBkBW0Sh",
        "outputId": "0d9b03fe-724b-4ec3-eb37-836b291402fb",
        "colab": {
          "base_uri": "https://localhost:8080/"
        }
      },
      "source": [
        "!pip install scikit-multilearn"
      ],
      "execution_count": 30,
      "outputs": [
        {
          "output_type": "stream",
          "name": "stdout",
          "text": [
            "Requirement already satisfied: scikit-multilearn in /usr/local/lib/python3.7/dist-packages (0.2.0)\n"
          ]
        }
      ]
    },
    {
      "cell_type": "code",
      "metadata": {
        "id": "C1UBg18dW2pA",
        "outputId": "b6b2d29d-229c-4351-a4d1-b00eccf42f6a",
        "colab": {
          "base_uri": "https://localhost:8080/"
        }
      },
      "source": [
        "# using binary relevance\n",
        "from skmultilearn.problem_transform import BinaryRelevance\n",
        "from sklearn.naive_bayes import GaussianNB\n",
        "from sklearn.model_selection import train_test_split\n",
        "\n",
        "\n",
        "X_train, X_test, y_train, y_test = train_test_split(X, y, test_size=0.2, random_state=42)\n",
        "\n",
        "# initialize binary relevance multi-label classifier\n",
        "# with a gaussian naive bayes base classifier\n",
        "classifier = BinaryRelevance(GaussianNB())\n",
        "\n",
        "# train\n",
        "classifier.fit(X_train, y_train)\n",
        "\n",
        "# predict\n",
        "predictions = classifier.predict(X_test)\n",
        "\n",
        "from sklearn.metrics import accuracy_score\n",
        "accuracy_score(y_test,predictions)"
      ],
      "execution_count": 31,
      "outputs": [
        {
          "output_type": "execute_result",
          "data": {
            "text/plain": [
              "0.65"
            ]
          },
          "metadata": {},
          "execution_count": 31
        }
      ]
    },
    {
      "cell_type": "code",
      "metadata": {
        "id": "HiltbuOQXC-4"
      },
      "source": [
        "from sklearn.multioutput import MultiOutputClassifier, ClassifierChain\n",
        "from skmultilearn.problem_transform import LabelPowerset\n",
        "from sklearn.linear_model import LogisticRegression\n",
        "from sklearn.metrics import accuracy_score\n",
        "\n",
        "X_train, X_test, y_train, y_test = train_test_split(X, y, test_size=0.2, random_state=42)\n",
        "\n",
        "estimators = { \n",
        "    'LR_C3': LogisticRegression(C=3, max_iter=10000), \n",
        "    'LR_C30': LogisticRegression(C=30, max_iter=10000), \n",
        "    'LR_C50': LogisticRegression(C=50, max_iter=10000), \n",
        "}\n",
        "\n",
        "classifiers = { \n",
        "    'MLC': MultiOutputClassifier,\n",
        "    'CChain': ClassifierChain,\n",
        "    'LP':LabelPowerset\n",
        "}\n",
        "\n",
        "scores = {} \n",
        "for estimator in estimators:\n",
        "  for classifier in classifiers:\n",
        "    # print(f\"{estimator} : {classifier} : {classifiers[classifier](estimators[estimator])}\")\n",
        "    classifiers[classifier](estimators[estimator])\n",
        "    clf.fit(X_train, y_train)\n",
        "    predictions = classifiers[classifier].predict(X_test)\n",
        "    scores[f'{estimators[estimator] : classifiers[classifier]}'] = accuracy_score(y_test, predictions)"
      ],
      "execution_count": null,
      "outputs": []
    },
    {
      "cell_type": "code",
      "metadata": {
        "id": "PPWU5KK3YdYy"
      },
      "source": [
        "from sklearn.multioutput import MultiOutputClassifier, ClassifierChain\n",
        "from skmultilearn.problem_transform import LabelPowerset\n",
        "from sklearn.linear_model import LogisticRegression\n",
        "from sklearn.metrics import accuracy_score\n",
        "from sklearn.datasets import make_multilabel_classification\n",
        "\n",
        "X, y = make_multilabel_classification(sparse = True, n_labels=20, return_indicator = 'dense', allow_unlabeled = False)\n",
        "\n",
        "# print(y)\n",
        "\n",
        "X_train, X_test, y_train, y_test = train_test_split(X, y, test_size=0.2, random_state=42)\n",
        "\n",
        "# estimators = { \n",
        "#     'LR_C3': LogisticRegression(C=3, max_iter=10000), \n",
        "#     'LR_C30': LogisticRegression(C=30, max_iter=10000), \n",
        "#     'LR_C50': LogisticRegression(C=50, max_iter=10000), \n",
        "# }\n",
        "\n",
        "estimators = { \n",
        "    'LR_C3': [LogisticRegression, 3, 10000],\n",
        "    'LR_C30': [LogisticRegression, 30, 10000],\n",
        "    'LR_C50': [LogisticRegression, 50, 10000] \n",
        "}\n",
        "\n",
        "classifiers = { \n",
        "    'MLC': MultiOutputClassifier,\n",
        "    'CChain': ClassifierChain,\n",
        "    'LP' : LabelPowerset\n",
        "}\n",
        "\n",
        "scores = {} \n",
        "for estimator in estimators:\n",
        "  for classifier in classifiers:\n",
        "    # print(f\"{estimator} : {classifier} : {classifiers[classifier](estimators[estimator])}\")\n",
        "    # print(estimators[estimator][1])\n",
        "    # print(estimators[estimator][0]())\n",
        "    est = estimators[estimator][0]\n",
        "    C = estimators[estimator][1]\n",
        "    iter = estimators[estimator][2]\n",
        "    clf = classifiers[classifier](est(C=C, max_iter=iter))\n",
        "    # # print(clf)\n",
        "    clf.fit(X_train, y_train)\n",
        "    predictions = clf.predict(X_test)\n",
        "    scores[f'{estimator} : {classifier}'] = accuracy_score(y_test, predictions)\n"
      ],
      "execution_count": null,
      "outputs": []
    },
    {
      "cell_type": "code",
      "metadata": {
        "id": "zf3v9JSvbnsp",
        "outputId": "714aa5f5-d055-44a2-a60e-bb4b99583282",
        "colab": {
          "base_uri": "https://localhost:8080/",
          "height": 1000
        }
      },
      "source": [
        "from sklearn.datasets import make_classification\n",
        "from sklearn.metrics import classification_report, confusion_matrix\n",
        "from sklearn.metrics import ConfusionMatrixDisplay\n",
        "import matplotlib.pyplot as plt\n",
        "import numpy as np\n",
        "from sklearn.metrics import accuracy_score\n",
        "\n",
        "n_samples = 100\n",
        "n_classes = 2\n",
        "class_weights = [0.8, 0.2]\n",
        "\n",
        "X, Y = make_classification(n_samples=n_samples, n_classes=n_classes, n_informative=18, weights=class_weights)\n",
        "X_train, X_test, y_train, y_test = train_test_split(X, Y, test_size=0.2, random_state=42)\n",
        "\n",
        "print(len(Y[Y == 0]))\n",
        "print(len(Y[Y == 1]))\n",
        "# print(Y)\n",
        "\n",
        "# model\n",
        "model = LogisticRegression(solver='newton-cg', random_state=42)\n",
        "model.fit(X_train, y_train)\n",
        "\n",
        "\n",
        "# eval\n",
        "plt.rcParams[\"figure.figsize\"] = (10,8)\n",
        "cm = confusion_matrix(y_test, model.predict(X_test))\n",
        "disp = ConfusionMatrixDisplay(confusion_matrix=cm, display_labels=['-', '+'])\n",
        "disp.plot()\n",
        "plt.show()\n",
        "\n",
        "print(f'ACC: {accuracy_score(y_test, model.predict(X_test))}')\n",
        "\n",
        "# model that would guess only the oversampled category would have a very high accuracy\n",
        "print(f'ACC: {accuracy_score(y_test, np.zeros(len(y_test)))}')\n",
        "\n",
        "print(model.predict(X_test))\n",
        "print(y_test)\n",
        "\n",
        "# ... this is where classification report might help\n",
        "print(classification_report(y_test, model.predict(X_test)))\n",
        "print(classification_report(y_test,np.zeros(len(y_test))))"
      ],
      "execution_count": 33,
      "outputs": [
        {
          "output_type": "stream",
          "name": "stdout",
          "text": [
            "80\n",
            "20\n"
          ]
        },
        {
          "output_type": "display_data",
          "data": {
            "image/png": "[encoded data removed]",
            "text/plain": [
              "<Figure size 720x576 with 2 Axes>"
            ]
          },
          "metadata": {
            "needs_background": "light"
          }
        },
        {
          "output_type": "stream",
          "name": "stdout",
          "text": [
            "ACC: 0.7\n",
            "ACC: 0.9\n",
            "[0 0 0 0 1 1 0 0 0 1 0 0 0 1 0 0 0 0 0 0]\n",
            "[0 0 0 0 0 0 0 0 1 0 0 0 0 0 0 0 0 0 1 0]\n",
            "              precision    recall  f1-score   support\n",
            "\n",
            "           0       0.88      0.78      0.82        18\n",
            "           1       0.00      0.00      0.00         2\n",
            "\n",
            "    accuracy                           0.70        20\n",
            "   macro avg       0.44      0.39      0.41        20\n",
            "weighted avg       0.79      0.70      0.74        20\n",
            "\n",
            "              precision    recall  f1-score   support\n",
            "\n",
            "           0       0.90      1.00      0.95        18\n",
            "           1       0.00      0.00      0.00         2\n",
            "\n",
            "    accuracy                           0.90        20\n",
            "   macro avg       0.45      0.50      0.47        20\n",
            "weighted avg       0.81      0.90      0.85        20\n",
            "\n"
          ]
        },
        {
          "output_type": "stream",
          "name": "stderr",
          "text": [
            "/usr/local/lib/python3.7/dist-packages/sklearn/metrics/_classification.py:1308: UndefinedMetricWarning: Precision and F-score are ill-defined and being set to 0.0 in labels with no predicted samples. Use `zero_division` parameter to control this behavior.\n",
            "  _warn_prf(average, modifier, msg_start, len(result))\n",
            "/usr/local/lib/python3.7/dist-packages/sklearn/metrics/_classification.py:1308: UndefinedMetricWarning: Precision and F-score are ill-defined and being set to 0.0 in labels with no predicted samples. Use `zero_division` parameter to control this behavior.\n",
            "  _warn_prf(average, modifier, msg_start, len(result))\n",
            "/usr/local/lib/python3.7/dist-packages/sklearn/metrics/_classification.py:1308: UndefinedMetricWarning: Precision and F-score are ill-defined and being set to 0.0 in labels with no predicted samples. Use `zero_division` parameter to control this behavior.\n",
            "  _warn_prf(average, modifier, msg_start, len(result))\n"
          ]
        }
      ]
    },
    {
      "cell_type": "markdown",
      "metadata": {
        "id": "zaGG9CVKeAco"
      },
      "source": [
        "MWE Imbalance classification"
      ]
    },
    {
      "cell_type": "code",
      "metadata": {
        "id": "7Eou-2iodyoI",
        "outputId": "3e3dfc68-4cf9-4003-f29f-4efc79bdd11c",
        "colab": {
          "base_uri": "https://localhost:8080/",
          "height": 1000
        }
      },
      "source": [
        "from sklearn.datasets import make_classification\n",
        "from sklearn.metrics import classification_report, confusion_matrix\n",
        "from sklearn.metrics import ConfusionMatrixDisplay\n",
        "import matplotlib.pyplot as plt\n",
        "import numpy as np\n",
        "\n",
        "n_samples = 1000\n",
        "n_classes = 2\n",
        "class_weights = [0.95, 0.05]\n",
        "\n",
        "X, Y = make_classification(n_samples=n_samples, n_classes=n_classes, n_informative=5, weights=class_weights)\n",
        "X_train, X_test, y_train, y_test = train_test_split(X, Y, test_size=0.2, random_state=42)\n",
        "\n",
        "model_balanced = LogisticRegression(solver='newton-cg', random_state=42, class_weight='balanced')\n",
        "model_balanced.fit(X_train, y_train)\n",
        "\n",
        "model_not_balanced = LogisticRegression(solver='newton-cg', random_state=42)\n",
        "model_not_balanced.fit(X_train, y_train)\n",
        "\n",
        "plt.rcParams[\"figure.figsize\"] = (10,8)\n",
        "cm = confusion_matrix(y_test, model_balanced.predict(X_test))\n",
        "disp = ConfusionMatrixDisplay(confusion_matrix=cm, display_labels=['-', '+'])\n",
        "disp.plot()\n",
        "plt.show()\n",
        "\n",
        "plt.rcParams[\"figure.figsize\"] = (10,8)\n",
        "cm = confusion_matrix(y_test, model_not_balanced.predict(X_test))\n",
        "disp = ConfusionMatrixDisplay(confusion_matrix=cm, display_labels=['-', '+'])\n",
        "disp.plot()\n",
        "plt.show()\n",
        "\n",
        "print(f'ACC: {accuracy_score(y_test, model_balanced.predict(X_test))}')\n",
        "print(f'ACC: {accuracy_score(y_test, model_not_balanced.predict(X_test))}')"
      ],
      "execution_count": 12,
      "outputs": [
        {
          "output_type": "display_data",
          "data": {
            "image/png": "[encoded data removed]",
            "text/plain": [
              "<Figure size 720x576 with 2 Axes>"
            ]
          },
          "metadata": {
            "needs_background": "light"
          }
        },
        {
          "output_type": "display_data",
          "data": {
            "image/png": "[encoded data removed]",
            "text/plain": [
              "<Figure size 720x576 with 2 Axes>"
            ]
          },
          "metadata": {
            "needs_background": "light"
          }
        },
        {
          "output_type": "stream",
          "name": "stdout",
          "text": [
            "ACC: 0.76\n",
            "ACC: 0.965\n"
          ]
        }
      ]
    }
  ]
}