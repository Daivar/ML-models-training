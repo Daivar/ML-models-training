{
  "nbformat": 4,
  "nbformat_minor": 0,
  "metadata": {
    "colab": {
      "name": "„Synthetic problem.ipynb“ ",
      "provenance": [],
      "toc_visible": true,
      "authorship_tag": "ABX9TyNwYQcExfWv+qs2I5cMuSgH",
      "include_colab_link": true
    },
    "kernelspec": {
      "name": "python3",
      "display_name": "Python 3"
    },
    "language_info": {
      "name": "python"
    }
  },
  "cells": [
    {
      "cell_type": "markdown",
      "metadata": {
        "id": "view-in-github",
        "colab_type": "text"
      },
      "source": [
        "<a href=\"https://colab.research.google.com/github/Daivar/ML-models-training/blob/main/%E2%80%9ESynthetic_problem_ipynb%E2%80%9C.ipynb\" target=\"_parent\"><img src=\"https://colab.research.google.com/assets/colab-badge.svg\" alt=\"Open In Colab\"/></a>"
      ]
    },
    {
      "cell_type": "markdown",
      "metadata": {
        "id": "h0NWedoB5deU"
      },
      "source": [
        "### Synthetic problem"
      ]
    },
    {
      "cell_type": "code",
      "metadata": {
        "colab": {
          "base_uri": "https://localhost:8080/"
        },
        "id": "Nh2GNOM0KKdv",
        "outputId": "1d2d8aa2-403b-45b8-8fc4-74043a70bc0a"
      },
      "source": [
        "from sklearn.datasets import make_regression\n",
        "from sklearn.model_selection import train_test_split\n",
        "from sklearn.linear_model import LinearRegression\n",
        "from sklearn.multioutput import MultiOutputRegressor\n",
        "\n",
        "X, y = make_regression(n_targets=2, noise=0.9)\n",
        "print('Feature vector:', X.shape)\n",
        "print('Target vector:', y.shape)\n",
        "\n",
        "X_train, X_test, y_train, y_test = train_test_split(X, y, train_size=0.8)\n",
        "\n",
        "print('Build and fit a regressor model...')\n",
        "\n",
        "# model = LinearRegression().fit(X_train, y_train)\n",
        "model = MultiOutputRegressor(LinearRegression()).fit(X_train, y_train)\n",
        "score = model.score(X_test, y_test)\n",
        "\n",
        "print('Done. Score', score)"
      ],
      "execution_count": 1,
      "outputs": [
        {
          "output_type": "stream",
          "name": "stdout",
          "text": [
            "Feature vector: (100, 100)\n",
            "Target vector: (100, 2)\n",
            "Build and fit a regressor model...\n",
            "Done. Score 0.8842482012115989\n"
          ]
        }
      ]
    },
    {
      "cell_type": "code",
      "metadata": {
        "colab": {
          "base_uri": "https://localhost:8080/"
        },
        "id": "BgRitrBk51zL",
        "outputId": "f4009836-d0a0-446c-b7e7-aaf3652ff0bf"
      },
      "source": [
        "from sklearn.datasets import make_regression\n",
        "from sklearn.model_selection import train_test_split\n",
        "from sklearn.linear_model import LinearRegression\n",
        "from sklearn.multioutput import MultiOutputRegressor\n",
        "from sklearn.metrics import r2_score\n",
        "\n",
        "lr_results = []\n",
        "mr_results = []\n",
        "for i in range(1, 10):\n",
        "  X, y = make_regression(n_targets=2, noise=0.2)\n",
        "  X_train, X_test, y_train, y_test = train_test_split(X, y, train_size=0.8)\n",
        "\n",
        "  lr_model = LinearRegression().fit(X_train, y_train)\n",
        "  mr_model = MultiOutputRegressor(LinearRegression()).fit(X_train, y_train)\n",
        "  lr_results.append(r2_score(lr_model.predict(X_test), y_test, multioutput='uniform_average')) # multioutput='variance_weighted' ('raw_values', 'uniform_average', 'variance_weighted')\n",
        "  mr_results.append(r2_score(mr_model.predict(X_test), y_test, multioutput='uniform_average'))\n",
        "  \n",
        "\n",
        "print(f'LR: {sum(lr_results) / len(lr_results)}')\n",
        "print(f'MR: {sum(mr_results) / len(lr_results)}')"
      ],
      "execution_count": 2,
      "outputs": [
        {
          "output_type": "stream",
          "name": "stdout",
          "text": [
            "LR: 0.6562422278762172\n",
            "MR: 0.6558057289492178\n"
          ]
        }
      ]
    },
    {
      "cell_type": "code",
      "metadata": {
        "colab": {
          "base_uri": "https://localhost:8080/"
        },
        "id": "PAl4QBHs7QSz",
        "outputId": "db82f44d-3745-4996-d357-2edd62222fa8"
      },
      "source": [
        "from sklearn.datasets import make_regression\n",
        "from sklearn.model_selection import train_test_split\n",
        "from sklearn.linear_model import LinearRegression\n",
        "from sklearn.multioutput import MultiOutputRegressor, RegressorChain\n",
        "from sklearn.metrics import r2_score\n",
        "\n",
        "lr_results = []\n",
        "mr_results = []\n",
        "rc_results = []\n",
        "for i in range(1, 10):\n",
        "  X, y = make_regression(n_targets=2, noise=0.2)\n",
        "  X_train, X_test, y_train, y_test = train_test_split(X, y, train_size=0.8)\n",
        "\n",
        "  lr_model = LinearRegression().fit(X_train, y_train)\n",
        "  mr_model = MultiOutputRegressor(LinearRegression()).fit(X_train, y_train)\n",
        "  rc_model = RegressorChain(LinearRegression()).fit(X_train, y_train)\n",
        "  lr_results.append(r2_score(lr_model.predict(X_test), y_test, multioutput='uniform_average')) # multioutput='variance_weighted' ('raw_values', 'uniform_average', 'variance_weighted')\n",
        "  mr_results.append(r2_score(mr_model.predict(X_test), y_test, multioutput='uniform_average'))\n",
        "  rc_results.append(r2_score(rc_model.predict(X_test), y_test, multioutput='uniform_average'))\n",
        "  \n",
        "\n",
        "print(f'LR: {sum(lr_results) / len(lr_results)}')\n",
        "print(f'MR: {sum(mr_results) / len(mr_results)}')\n",
        "print(f'RC: {sum(rc_results) / len(rc_results)}')"
      ],
      "execution_count": 3,
      "outputs": [
        {
          "output_type": "stream",
          "name": "stdout",
          "text": [
            "LR: 0.7037400976376254\n",
            "MR: 0.7036505975459657\n",
            "RC: 0.7030055122040919\n"
          ]
        }
      ]
    },
    {
      "cell_type": "code",
      "metadata": {
        "colab": {
          "base_uri": "https://localhost:8080/"
        },
        "id": "nqBs8zdm9ab1",
        "outputId": "143229aa-5639-40fb-d8f0-fdfe4ae3d375"
      },
      "source": [
        "import numpy as np\n",
        "from sklearn.datasets import load_linnerud\n",
        "from sklearn.multioutput import MultiOutputRegressor\n",
        "from sklearn.linear_model import Ridge\n",
        "\n",
        "def print_paired(p1, p2):\n",
        "  print(\"-----\")\n",
        "  for i in zip(p1, p2):\n",
        "    print(f'{i[0]} -> {i[1]}')\n",
        "\n",
        "X, y = load_linnerud(return_X_y=True)\n",
        "print_paired(X, y)\n",
        "\n",
        "clf = Ridge(random_state=123).fit(X, y)\n",
        "# clf = MultiOutputRegressor(Ridge(random_state=123)).fit(X, y)\n",
        "pred = clf.predict(X[[0]])\n",
        "print_paired(X[[0]], pred)\n",
        "\n",
        "print(clf.score(X, y))"
      ],
      "execution_count": 4,
      "outputs": [
        {
          "output_type": "stream",
          "name": "stdout",
          "text": [
            "-----\n",
            "[  5. 162.  60.] -> [191.  36.  50.]\n",
            "[  2. 110.  60.] -> [189.  37.  52.]\n",
            "[ 12. 101. 101.] -> [193.  38.  58.]\n",
            "[ 12. 105.  37.] -> [162.  35.  62.]\n",
            "[ 13. 155.  58.] -> [189.  35.  46.]\n",
            "[  4. 101.  42.] -> [182.  36.  56.]\n",
            "[  8. 101.  38.] -> [211.  38.  56.]\n",
            "[  6. 125.  40.] -> [167.  34.  60.]\n",
            "[ 15. 200.  40.] -> [176.  31.  74.]\n",
            "[ 17. 251. 250.] -> [154.  33.  56.]\n",
            "[ 17. 120.  38.] -> [169.  34.  50.]\n",
            "[ 13. 210. 115.] -> [166.  33.  52.]\n",
            "[ 14. 215. 105.] -> [154.  34.  64.]\n",
            "[ 1. 50. 50.] -> [247.  46.  50.]\n",
            "[ 6. 70. 31.] -> [193.  36.  46.]\n",
            "[ 12. 210. 120.] -> [202.  37.  62.]\n",
            "[ 4. 60. 25.] -> [176.  37.  54.]\n",
            "[ 11. 230.  80.] -> [157.  32.  52.]\n",
            "[ 15. 225.  73.] -> [156.  33.  54.]\n",
            "[  2. 110.  43.] -> [138.  33.  68.]\n",
            "-----\n",
            "[  5. 162.  60.] -> [176.16484296  35.0548407   57.09000136]\n",
            "0.2968777763173123\n"
          ]
        }
      ]
    },
    {
      "cell_type": "code",
      "metadata": {
        "colab": {
          "base_uri": "https://localhost:8080/"
        },
        "id": "59ZOwlr8Ce20",
        "outputId": "ca3ec4eb-c235-4aa4-e710-7a44099f843f"
      },
      "source": [
        "from sklearn.datasets import make_regression\n",
        "from sklearn.model_selection import train_test_split\n",
        "from sklearn.linear_model import LinearRegression\n",
        "from sklearn.multioutput import MultiOutputRegressor, RegressorChain\n",
        "from sklearn.metrics import r2_score\n",
        "\n",
        "def print_paired(p1, p2):\n",
        "  print(\"-----\")\n",
        "  for i in zip(p1, p2):\n",
        "    print(f'{i[0]} -> {i[1]}')\n",
        "\n",
        "X, y = load_linnerud(return_X_y=True)\n",
        "print_paired(X, y)\n",
        "\n",
        "# clf = Ridge(random_state=123).fit(X, y)\n",
        "clf = MultiOutputRegressor(Ridge(random_state=123)).fit(X, y)\n",
        "pred = clf.predict(X[[0]])\n",
        "print_paired(X[[0]], pred)\n",
        "\n",
        "print(clf.score(X, y))"
      ],
      "execution_count": 5,
      "outputs": [
        {
          "output_type": "stream",
          "name": "stdout",
          "text": [
            "-----\n",
            "[  5. 162.  60.] -> [191.  36.  50.]\n",
            "[  2. 110.  60.] -> [189.  37.  52.]\n",
            "[ 12. 101. 101.] -> [193.  38.  58.]\n",
            "[ 12. 105.  37.] -> [162.  35.  62.]\n",
            "[ 13. 155.  58.] -> [189.  35.  46.]\n",
            "[  4. 101.  42.] -> [182.  36.  56.]\n",
            "[  8. 101.  38.] -> [211.  38.  56.]\n",
            "[  6. 125.  40.] -> [167.  34.  60.]\n",
            "[ 15. 200.  40.] -> [176.  31.  74.]\n",
            "[ 17. 251. 250.] -> [154.  33.  56.]\n",
            "[ 17. 120.  38.] -> [169.  34.  50.]\n",
            "[ 13. 210. 115.] -> [166.  33.  52.]\n",
            "[ 14. 215. 105.] -> [154.  34.  64.]\n",
            "[ 1. 50. 50.] -> [247.  46.  50.]\n",
            "[ 6. 70. 31.] -> [193.  36.  46.]\n",
            "[ 12. 210. 120.] -> [202.  37.  62.]\n",
            "[ 4. 60. 25.] -> [176.  37.  54.]\n",
            "[ 11. 230.  80.] -> [157.  32.  52.]\n",
            "[ 15. 225.  73.] -> [156.  33.  54.]\n",
            "[  2. 110.  43.] -> [138.  33.  68.]\n",
            "-----\n",
            "[  5. 162.  60.] -> [176.16484296  35.0548407   57.09000136]\n",
            "0.29687777631731227\n"
          ]
        }
      ]
    },
    {
      "cell_type": "code",
      "metadata": {
        "colab": {
          "base_uri": "https://localhost:8080/"
        },
        "id": "chgZdh2lDmI8",
        "outputId": "7f98dc51-ee53-4041-f149-9e3907cc2012"
      },
      "source": [
        "from sklearn.datasets import make_regression\n",
        "from sklearn.model_selection import train_test_split\n",
        "from sklearn.linear_model import LinearRegression\n",
        "from sklearn.multioutput import MultiOutputRegressor, RegressorChain\n",
        "from sklearn.metrics import r2_score\n",
        "\n",
        "def print_paired(p1, p2):\n",
        "  print(\"-----\")\n",
        "  for i in zip(p1, p2):\n",
        "    print(f'{i[0]} -> {i[1]}')\n",
        "\n",
        "X, y = load_linnerud(return_X_y=True)\n",
        "print_paired(X, y)\n",
        "\n",
        "# clf = Ridge(random_state=123).fit(X, y)\n",
        "# clf = MultiOutputRegressor(Ridge(random_state=123)).fit(X, y)\n",
        "# clf = RegressorChain(LinearRegression()).fit(X_train, y_train)\n",
        "clf = RegressorChain(Ridge(random_state=123)).fit(X, y)\n",
        "pred = clf.predict(X[[0]])\n",
        "print_paired(X[[0]], pred)\n",
        "\n",
        "print(clf.score(X, y))\n"
      ],
      "execution_count": 8,
      "outputs": [
        {
          "output_type": "stream",
          "name": "stdout",
          "text": [
            "-----\n",
            "[  5. 162.  60.] -> [191.  36.  50.]\n",
            "[  2. 110.  60.] -> [189.  37.  52.]\n",
            "[ 12. 101. 101.] -> [193.  38.  58.]\n",
            "[ 12. 105.  37.] -> [162.  35.  62.]\n",
            "[ 13. 155.  58.] -> [189.  35.  46.]\n",
            "[  4. 101.  42.] -> [182.  36.  56.]\n",
            "[  8. 101.  38.] -> [211.  38.  56.]\n",
            "[  6. 125.  40.] -> [167.  34.  60.]\n",
            "[ 15. 200.  40.] -> [176.  31.  74.]\n",
            "[ 17. 251. 250.] -> [154.  33.  56.]\n",
            "[ 17. 120.  38.] -> [169.  34.  50.]\n",
            "[ 13. 210. 115.] -> [166.  33.  52.]\n",
            "[ 14. 215. 105.] -> [154.  34.  64.]\n",
            "[ 1. 50. 50.] -> [247.  46.  50.]\n",
            "[ 6. 70. 31.] -> [193.  36.  46.]\n",
            "[ 12. 210. 120.] -> [202.  37.  62.]\n",
            "[ 4. 60. 25.] -> [176.  37.  54.]\n",
            "[ 11. 230.  80.] -> [157.  32.  52.]\n",
            "[ 15. 225.  73.] -> [156.  33.  54.]\n",
            "[  2. 110.  43.] -> [138.  33.  68.]\n",
            "-----\n",
            "[  5. 162.  60.] -> [176.16484296  35.0548407   57.09000136]\n",
            "0.29687777631731227\n"
          ]
        }
      ]
    },
    {
      "cell_type": "code",
      "metadata": {
        "colab": {
          "base_uri": "https://localhost:8080/"
        },
        "id": "V0eRdCEpHEkw",
        "outputId": "b44f477c-eb11-4bda-9819-0e33b39282b7"
      },
      "source": [
        "from sklearn.multioutput import MultiOutputRegressor, RegressorChain\n",
        "from sklearn.linear_model import Ridge\n",
        "\n",
        "ridge = Ridge(random_state=1)\n",
        "\n",
        "chained = RegressorChain(ridge, order=[1, 2, 0])\n",
        "chained.fit(X, y)\n",
        "pred = chained.predict(X[[0]])\n",
        "print_paired(X[[0]], pred)\n",
        "print(chained.score(X,y))\n",
        "print(chained.estimators_)"
      ],
      "execution_count": 9,
      "outputs": [
        {
          "output_type": "stream",
          "name": "stdout",
          "text": [
            "-----\n",
            "[  5. 162.  60.] -> [176.16484296  35.0548407   57.09000136]\n",
            "0.2968777763173123\n",
            "[Ridge(random_state=1), Ridge(random_state=1), Ridge(random_state=1)]\n"
          ]
        }
      ]
    },
    {
      "cell_type": "code",
      "metadata": {
        "colab": {
          "base_uri": "https://localhost:8080/"
        },
        "id": "pDgD2YUn9RJn",
        "outputId": "a6f2c2e3-eac4-4051-d956-48acf81783d9"
      },
      "source": [
        "from sklearn.multioutput import MultiOutputRegressor, RegressorChain\n",
        "from sklearn.linear_model import Ridge\n",
        "\n",
        "X, y = load_linnerud(return_X_y=True)\n",
        "ridge = Ridge() # random_state=1\n",
        "chained = RegressorChain(ridge, order=[0, 1, 2])\n",
        "chained.fit(X, y)\n",
        "pred = chained.predict(X[[0]])\n",
        "print(chained.score(X,y))\n",
        "\n",
        "print(chained.estimators_)"
      ],
      "execution_count": 11,
      "outputs": [
        {
          "output_type": "stream",
          "name": "stdout",
          "text": [
            "0.29687777631731227\n",
            "[Ridge(), Ridge(), Ridge()]\n"
          ]
        }
      ]
    }
  ]
}