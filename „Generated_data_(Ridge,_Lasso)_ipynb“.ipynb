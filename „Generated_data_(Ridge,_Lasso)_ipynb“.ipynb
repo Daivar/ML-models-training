{
  "nbformat": 4,
  "nbformat_minor": 0,
  "metadata": {
    "colab": {
      "name": "„Generated data (Ridge, Lasso).ipynb“ ",
      "provenance": [],
      "toc_visible": true,
      "authorship_tag": "ABX9TyNW5vUDbL0vTcRXg9sVhKXi",
      "include_colab_link": true
    },
    "kernelspec": {
      "name": "python3",
      "display_name": "Python 3"
    },
    "language_info": {
      "name": "python"
    }
  },
  "cells": [
    {
      "cell_type": "markdown",
      "metadata": {
        "id": "view-in-github",
        "colab_type": "text"
      },
      "source": [
        "<a href=\"https://colab.research.google.com/github/Daivar/ML-models-training/blob/main/%E2%80%9EGenerated_data_(Ridge%2C_Lasso)_ipynb%E2%80%9C.ipynb\" target=\"_parent\"><img src=\"https://colab.research.google.com/assets/colab-badge.svg\" alt=\"Open In Colab\"/></a>"
      ]
    },
    {
      "cell_type": "code",
      "metadata": {
        "id": "_svp3CxLIMnK",
        "colab": {
          "base_uri": "https://localhost:8080/"
        },
        "outputId": "38303412-aee9-44f3-9bf8-1ca661b9fea1"
      },
      "source": [
        "from sklearn.datasets import make_regression\n",
        "\n",
        "X, y = make_regression(\n",
        "    n_samples=1000, \n",
        "    n_features=10, # how many x\n",
        "    n_informative=5, # how many x are predictive\n",
        "    n_targets=2, \n",
        "    random_state=1, \n",
        "    noise=0.5\n",
        "  )\n",
        "\n",
        "print(type(y))\n",
        "print(X.shape, y.shape)\n",
        "\n"
      ],
      "execution_count": 6,
      "outputs": [
        {
          "output_type": "stream",
          "name": "stdout",
          "text": [
            "<class 'numpy.ndarray'>\n",
            "(1000, 10) (1000, 2)\n"
          ]
        }
      ]
    },
    {
      "cell_type": "code",
      "metadata": {
        "id": "a0cSuy4Jai2t"
      },
      "source": [
        "import numpy as np \n",
        "import pandas as pd"
      ],
      "execution_count": 26,
      "outputs": []
    },
    {
      "cell_type": "code",
      "metadata": {
        "id": "Nh2GNOM0KKdv"
      },
      "source": [
        "print_paired(X, y)"
      ],
      "execution_count": null,
      "outputs": []
    },
    {
      "cell_type": "code",
      "metadata": {
        "id": "BX7CPhpUbR-y"
      },
      "source": [
        "from sklearn.datasets import make_regression\n",
        "\n",
        "def print_paired(p1, p2):\n",
        "  print(\"-----\")\n",
        "  for i in zip(p1, p2):\n",
        "    print(f'{i[0]} -> {i[1]}')\n",
        "\n",
        "X_ridge, y_ridge = make_regression(n_samples=1000, n_features=3500, n_informative=3500, n_targets=1, random_state=42, noise=0.0)\n",
        "X_lasso, y_lasso = make_regression(n_samples=20000, n_features=10, n_informative=1, n_targets=1, random_state=42, noise=0.0)"
      ],
      "execution_count": 58,
      "outputs": []
    },
    {
      "cell_type": "code",
      "metadata": {
        "id": "a_UIAVJJK9Us"
      },
      "source": [
        "# adding data with noise\n",
        "import random\n",
        "\n",
        "def print_paired(p1, p2):\n",
        "  print(\"-----\")\n",
        "  for i in zip(p1, p2):\n",
        "    print(f'{i[0]} -> {i[1]}')\n",
        "\n",
        "X = np.arange(1000)\n",
        "y = np.dot(X, 2)\n",
        "for i, y_val in enumerate(y):\n",
        "  y[i] += random.randint(0, i * 10 - i)\n",
        "\n",
        "print_paired(X, y)"
      ],
      "execution_count": null,
      "outputs": []
    },
    {
      "cell_type": "code",
      "metadata": {
        "colab": {
          "base_uri": "https://localhost:8080/"
        },
        "id": "5hk0Rg8Fm2m8",
        "outputId": "2093b830-03b1-4184-a2dc-4c0a55687e9a"
      },
      "source": [
        "from sklearn.linear_model import LinearRegression, ElasticNet, Lasso, Ridge \n",
        "from sklearn.model_selection import train_test_split\n",
        "\n",
        "def train_model(x, y, test_size, regression):\n",
        "  #----- Splitting the dataset -----#\n",
        "  x_train, x_test, y_train, y_test = train_test_split(x, y, test_size=test_size)\n",
        "  #----- Fitting model over training data -----#\n",
        "  regression.fit(x_train, y_train)\n",
        "  #----- Evaluating the model over test data -----#\n",
        "  return regression.score(x_test, y_test)\n",
        "\n",
        "def train_model_range(count, data_x, data_y):\n",
        "  scores = {'Ridge': [], 'Lasso': [], 'Linear': []}\n",
        "  for i in range(count):\n",
        "    scores['Ridge'].append(train_model(data_x, data_y, 0.2, Ridge(alpha=1.0, max_iter=1000000000)))\n",
        "    scores['Lasso'].append(train_model(data_x, data_y, 0.2, Lasso(alpha=1.0, max_iter=1000000000)))\n",
        "    scores['Linear'].append(train_model(data_x, data_y, 0.2, LinearRegression()))\n",
        "  return scores\n",
        "\n",
        "# Ridge data\n",
        "print('Ridge data:')\n",
        "scores = train_model_range(10, X_ridge, y_ridge)\n",
        "for i in scores.items():\n",
        "  print(i[0], ' => ', sum(i[1])/len(i[1]))\n",
        "\n",
        "print()\n",
        "\n",
        "# Lasso data\n",
        "print('Lasso data:')\n",
        "scores = train_model_range(10, X_lasso, y_lasso)\n",
        "for i in scores.items():\n",
        "  print(i[0], ' => ', sum(i[1])/len(i[1]))"
      ],
      "execution_count": 60,
      "outputs": [
        {
          "output_type": "stream",
          "name": "stdout",
          "text": [
            "Ridge data:\n",
            "Ridge  =>  0.1812673265401314\n",
            "Lasso  =>  -0.15013236480212816\n",
            "Linear  =>  0.16154664101018512\n",
            "\n",
            "Lasso data:\n",
            "Ridge  =>  0.9999999962016475\n",
            "Lasso  =>  0.9995858806417347\n",
            "Linear  =>  1.0\n"
          ]
        }
      ]
    },
    {
      "cell_type": "markdown",
      "metadata": {
        "id": "xtoR5kpNsFTy"
      },
      "source": [
        "### Lasso 0-weights"
      ]
    },
    {
      "cell_type": "code",
      "metadata": {
        "colab": {
          "base_uri": "https://localhost:8080/"
        },
        "id": "_kptz0HsprZK",
        "outputId": "f136384e-4649-4873-82c9-88df179c8441"
      },
      "source": [
        "import numpy as np\n",
        "from sklearn.linear_model import Lasso\n",
        "import matplotlib.pyplot as plt\n",
        "import random\n",
        "\n",
        "def print_paired(p1, p2):\n",
        "  print(\"-----\")\n",
        "  for i in zip(p1, p2):\n",
        "    print(f'{i[0]} -> {i[1]}')\n",
        "\n",
        "X, y = make_regression(n_samples=20000, n_features=4, n_informative=5, n_targets=1, random_state=42, noise=0.0)\n",
        "\n",
        "reg = Lasso().fit(X, y)\n",
        "\n",
        "# plt.scatter(X, y, color='red', marker= '+', label= 'Training Data')\n",
        "# plt.plot(X, reg.predict(np.arange(X.shape[0]).reshape(-1, 1)), color='green', label='Linear Regression')\n",
        "\n",
        "# plt.rcParams[\"figure.figsize\"] = (10,6)\n",
        "# plt.grid()\n",
        "# plt.xlabel('X')\n",
        "# plt.ylabel('Y')\n",
        "# plt.title('Linear Regression Fit')\n",
        "# plt.legend()\n",
        "\n",
        "print(\"===== metrics =====\")\n",
        "print(reg.score(X, y)) # r^2\n",
        "# ... to get the slope and y-intercept \n",
        "print(reg.coef_)\n",
        "print(reg.intercept_)\n",
        "# print(f'f(x)={reg.coef_[0]}x+{reg.intercept_}')"
      ],
      "execution_count": 64,
      "outputs": [
        {
          "output_type": "stream",
          "name": "stdout",
          "text": [
            "===== metrics =====\n",
            "0.999606873067001\n",
            "[31.39247496  2.68167922 31.14821883 89.02263994]\n",
            "0.0049064955773260865\n"
          ]
        }
      ]
    }
  ]
}